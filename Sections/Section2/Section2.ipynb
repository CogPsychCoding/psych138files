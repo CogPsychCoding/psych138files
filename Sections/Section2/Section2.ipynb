{
  "nbformat": 4,
  "nbformat_minor": 0,
  "metadata": {
    "colab": {
      "provenance": []
    },
    "kernelspec": {
      "name": "python3",
      "display_name": "Python 3"
    },
    "language_info": {
      "name": "python"
    }
  },
  "cells": [
    {
      "cell_type": "markdown",
      "source": [
        "# Section 2"
      ],
      "metadata": {
        "id": "lUv0skQMXgSU"
      }
    },
    {
      "cell_type": "markdown",
      "source": [
        "## Pair Programming\n",
        "\n",
        "Pair programming is a software development technique in which two programmers work together at one workstation. One, the driver, writes code while the other, the observer or navigator, reviews each line of code as it is typed in. The two programmers switch roles frequently.\n",
        "\n",
        "While reviewing, the observer also considers the \"strategic\" direction of the work, coming up with ideas for improvements and likely future problems to address. This is intended to free the driver to focus all of their attention on the \"tactical\" aspects of completing the current task, using the observer as a safety net and guide.\n",
        "\n",
        "[Wikipedia]"
      ],
      "metadata": {
        "id": "FiaYxtuJZQ-t"
      }
    },
    {
      "cell_type": "markdown",
      "source": [
        "## NOTES:\n",
        "\n",
        "- You are only to use concepts we've learned so far in the chapters, videos, and in class. The following list is not exhaustive:\n",
        "- You especially are **NOT ALLOWED** to use `if`, `elif`, `else` keywords (we'll add those next week!)\n",
        "- You are **NOT ALLOWED** to use `str.lower()` `str.upper()` or any other `str` method (we'll add those shortly)\n",
        "- You are **NOT ALLOWED** to use `tuple` or `list` types (we'll cover those shortly)\n",
        "- Just stick to what we've covered so far!"
      ],
      "metadata": {
        "id": "rL9PFIw_lyXj"
      }
    },
    {
      "cell_type": "markdown",
      "source": [
        "## Z-Test For Proportions\n",
        "\n",
        "- https://www.statology.org/two-proportion-z-test/\n",
        "\n",
        "- https://www.statology.org/two-proportion-z-test-calculator/"
      ],
      "metadata": {
        "id": "JvZJkMC2ZVYm"
      }
    },
    {
      "cell_type": "markdown",
      "source": [
        "### Task 1\n",
        "\n",
        "*PART 1*\n",
        "\n",
        "- Create a tool that asks the user for relevant parameters and then calculates the Z statistic for a given set of proportions and sample sizes.\n",
        "- Inform the user of the two proportions that were tested, the numerical difference between the two proportions, and the resulting Z statistics.\n",
        "- Finally, inform the user whether or not the difference between these 2 proportions were statistically significant at the .05 level (in this case, the critical value is 1.6). Remember that Z values can be positive or negative."
      ],
      "metadata": {
        "id": "ZOkcXvNBisHj"
      }
    },
    {
      "cell_type": "code",
      "source": [
        "# Enter your code here:\n"
      ],
      "metadata": {
        "id": "TvtdxWdZZ5tQ"
      },
      "execution_count": null,
      "outputs": []
    },
    {
      "cell_type": "markdown",
      "source": [
        "*PART 2*\n",
        "\n",
        "- Edit this text cell so that it indiates the outputs your calculator gives for these inputs:\n",
        "\n",
        "1. 37% (12 people) vs 49% (14 people)\n",
        "2. 87.43% (102 people) vs 82.11% (212 people)\n",
        "3. 5.14% (23 people) vs 11% (44 people)"
      ],
      "metadata": {
        "id": "7DF6vD6havuq"
      }
    },
    {
      "cell_type": "markdown",
      "source": [
        "## Task 2\n",
        "\n",
        "*PART 1*\n",
        "\n",
        "- Ask the user for a password that is between 3 and 8 characters long.\n",
        "- A good password if it contains between 3 and 8 characters (inclusive).\n",
        "- A good password is NOT 'Password' or 'PASSWORD' or 'password' or '12345'.\n",
        "- Using a print statement, let the user know whether the password is good, like this:\n",
        "- Note that your code should require one and only one print statement\n",
        "\n",
        "```\n",
        "Enter a password between 3 and 8 characters long:\n",
        "bosco\n",
        "Your password is OK: True\n",
        "```\n",
        "\n",
        "OR\n",
        "\n",
        "```\n",
        "Enter a password between 3 and 8 characters long:\n",
        "Password\n",
        "Your password is OK: False\n",
        "```\n"
      ],
      "metadata": {
        "id": "Rx1VxKElXi--"
      }
    },
    {
      "cell_type": "code",
      "source": [
        "# Enter your code here:\n"
      ],
      "metadata": {
        "id": "uV1yREDfpF6X"
      },
      "execution_count": null,
      "outputs": []
    },
    {
      "cell_type": "markdown",
      "source": [
        "PART 2\n",
        "\n",
        "- Edit this text cell so that it indicates the outputs your password checker gives for these inputs:\n",
        "\n",
        "1. ''\n",
        "2. 'bosco'\n",
        "3. 'Passowrd'\n",
        "4. 'University'\n",
        "5. 'hi'"
      ],
      "metadata": {
        "id": "wBJx-7AlXe4M"
      }
    },
    {
      "cell_type": "markdown",
      "source": [
        "## Errors\n",
        "- When errors are raised, you usually receive a **traceback**.\n",
        "- The traceback tells you:\n",
        "  - The name of the error\n",
        "  - A short error message\n",
        "  - Where the error occurred and/or the code that produced the error\n",
        "- Can use the traceback to figure out what went wrong and where to look to fix it.\n",
        "- Best to read traceback from **bottom to top**.\n",
        "\n",
        "### ZeroDivisionError\n",
        "- When a number is attempted to divided by zero.\n",
        "- Division by zero is not allowed in math.\n",
        "- Python raises an ZeroDivisionError when this occurs."
      ],
      "metadata": {
        "id": "RIfMSL648B-I"
      }
    },
    {
      "cell_type": "code",
      "source": [
        "print(10/0)"
      ],
      "metadata": {
        "id": "1EqQwpJG9PLd"
      },
      "execution_count": null,
      "outputs": []
    },
    {
      "cell_type": "code",
      "source": [
        "# be extra careful when assigning values to variables that will be used in equations later on.\n",
        "\n",
        "a = 10\n",
        "b = 0  # it can be easy to forget that you've initalized a variable as 0.\n",
        "print(a/b)"
      ],
      "metadata": {
        "id": "TSbyp7KD9ezt"
      },
      "execution_count": null,
      "outputs": []
    },
    {
      "cell_type": "code",
      "source": [
        "# or when the user may input a 0\n",
        "\n",
        "a = 10\n",
        "b = input(\"What number to divide by?: \")  # if user inputs 0, will raise ZeroDivisionError\n",
        "print(a/b)"
      ],
      "metadata": {
        "id": "lvygQ65B9iX_"
      },
      "execution_count": null,
      "outputs": []
    },
    {
      "cell_type": "markdown",
      "source": [
        "### TypeError\n",
        "- Occurs when operation is performed on a value that is an incorrect/unsupported type.\n",
        "- Often occurs when relating two values with an operation that does not accept the Types of each of the values."
      ],
      "metadata": {
        "id": "hZM4n48v86Os"
      }
    },
    {
      "cell_type": "code",
      "source": [
        "msg = \"apple\"\n",
        "number = 3\n",
        "print(msg + 3)"
      ],
      "metadata": {
        "id": "YQp2js4Y_les"
      },
      "execution_count": null,
      "outputs": []
    },
    {
      "cell_type": "code",
      "source": [
        "fruit = \"pear\"\n",
        "veg = \"carrot\"\n",
        "print(fruit * veg)"
      ],
      "metadata": {
        "id": "ndyaridPATrf"
      },
      "execution_count": null,
      "outputs": []
    },
    {
      "cell_type": "code",
      "source": [
        "# can also occur with only one value. here the len() function does not take integers and thus raises a TypeError.\n",
        "print(len(3))"
      ],
      "metadata": {
        "id": "ZzK4Wwj6AjIR"
      },
      "execution_count": null,
      "outputs": []
    },
    {
      "cell_type": "markdown",
      "source": [
        "### ValueError\n",
        "- Occurs when a function or operator is performed over an inappropriate value (of the correct type).\n",
        "- Often occurs when using mathematics operations."
      ],
      "metadata": {
        "id": "sQ0AQBVl86ev"
      }
    },
    {
      "cell_type": "code",
      "source": [
        "# int() is a function that can turn number or string into an integer.\n",
        "print(int(9.9))  # turns float typed value 9.9 into integer, without error\n",
        "print(int(\"1\"))  # turns str typed value \"1\" into integer, without error\n",
        "\n",
        "print(int(\"str\"))  # attempts to turn str typed value \"str\" into integer, but raises ValueError\n",
        "# in this case, int() can take strings, so it is not a TypeError, but the particular value of this string (\"str\") is not allowed."
      ],
      "metadata": {
        "id": "nNFrkRTRB3H1"
      },
      "execution_count": null,
      "outputs": []
    },
    {
      "cell_type": "code",
      "source": [
        "import math\n",
        "\n",
        "# often occurs with imported mathematical operations / functions\n",
        "print(math.sqrt(10))  # square roots 10 just fine\n",
        "print(math.sqrt(-10))  # cannot square root negative number, so ValueError is raised. The type of value -10 is allowed, bt the particular value is not allowed."
      ],
      "metadata": {
        "id": "X1FrwtWlASQ4"
      },
      "execution_count": null,
      "outputs": []
    }
  ]
}