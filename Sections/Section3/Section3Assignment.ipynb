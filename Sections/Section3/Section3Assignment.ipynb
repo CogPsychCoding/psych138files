{
  "nbformat": 4,
  "nbformat_minor": 0,
  "metadata": {
    "colab": {
      "provenance": [],
      "include_colab_link": true
    },
    "kernelspec": {
      "name": "python3",
      "display_name": "Python 3"
    },
    "language_info": {
      "name": "python"
    }
  },
  "cells": [
    {
      "cell_type": "markdown",
      "metadata": {
        "id": "view-in-github",
        "colab_type": "text"
      },
      "source": [
        "<a href=\"https://colab.research.google.com/github/CogPsychCoding/psych138files/blob/main/Sections/Section3/Section3Assignment.ipynb\" target=\"_parent\"><img src=\"https://colab.research.google.com/assets/colab-badge.svg\" alt=\"Open In Colab\"/></a>"
      ]
    },
    {
      "cell_type": "markdown",
      "source": [
        "# Setup"
      ],
      "metadata": {
        "id": "bai9vzJB6xCK"
      }
    },
    {
      "cell_type": "code",
      "source": [],
      "metadata": {
        "id": "Z9ZSgROw6yYs"
      },
      "execution_count": null,
      "outputs": []
    },
    {
      "cell_type": "markdown",
      "source": [
        "# Section Assignment 3"
      ],
      "metadata": {
        "id": "6oJ7lzg56yxF"
      }
    },
    {
      "cell_type": "markdown",
      "source": [
        "## Guessing Game\n",
        "\n",
        "- determine a random number from 1 to 10\n",
        "    - import the `random` module and use `random.randint(1,10)`\n",
        "- ask the user to guess\n",
        "- if they enter nothing, quit the game\n",
        "- if they enter a invalid entry, tell them and start over\n",
        "- if they enter the same number you have, tell them they guessed it, otherwise tell them they did not\n",
        "- put the entire thing inside of a `while True` loop\n",
        "- the output should look **Exactly** like this (notice spacing between interactions):\n",
        "\n",
        "\n",
        "    Guess what number I'm thinking of (1-10): 1.4\n",
        "    '1.4' was not a valid guess. Try again.\n",
        "\n",
        "    Guess what number I'm thinking of (1-10): 0\n",
        "    '0' was not a valid guess. Try again.\n",
        "\n",
        "    Guess what number I'm thinking of (1-10): 999\n",
        "    '999' was not a valid guess. Try again.\n",
        "\n",
        "    Guess what number I'm thinking of (1-10): 4\n",
        "    4, Nope, it was 9!\n",
        "\n",
        "    Guess what number I'm thinking of (1-10): 2\n",
        "    2 --> CORRECT!\n",
        "\n",
        "    Guess what number I'm thinking of (1-10):\n",
        "    Game Over!\n"
      ],
      "metadata": {
        "id": "KUMWCQwT_44Y"
      }
    },
    {
      "cell_type": "code",
      "source": [
        "# Put your code here"
      ],
      "metadata": {
        "id": "MklFLhLkAelZ"
      },
      "execution_count": null,
      "outputs": []
    },
    {
      "cell_type": "markdown",
      "source": [
        "## GRID\n",
        "\n",
        "Using while loops, how can you get Python to produce this output?\n",
        "\n",
        "    GRID\n",
        "    ----\n",
        "\n",
        "    (0,0) (0,1) (0,2) (0,3) (0,4) (0,5)\n",
        "    (1,0) (1,1) (1,2) (1,3) (1,4) (1,5)\n",
        "    (2,0) (2,1) (2,2) (2,3) (2,4) (2,5)\n",
        "    (3,0) (3,1) (3,2) (3,3) (3,4) (3,5)\n",
        "    (4,0) (4,1) (4,2) (4,3) (4,4) (4,5)\n",
        "    (5,0) (5,1) (5,2) (5,3) (5,4) (5,5)"
      ],
      "metadata": {
        "id": "DlZRIW6u7cRL"
      }
    },
    {
      "cell_type": "code",
      "source": [
        "# Put your code here"
      ],
      "metadata": {
        "id": "ARID4mCw-2eP"
      },
      "execution_count": null,
      "outputs": []
    },
    {
      "cell_type": "markdown",
      "source": [
        "### NOTE:\n",
        "\n",
        "The `print()` function prints whatever you pass it and then will automatically print a newline character (i.e., `'\\n'`). That's because it's `end` parameter defaults to `'\\n'`. You can set it to whatever you want. E.g.,:"
      ],
      "metadata": {
        "id": "sxHdHKso-VaH"
      }
    },
    {
      "cell_type": "code",
      "source": [
        "print('Line1')\n",
        "print('Line2')\n",
        "\n",
        "print('')\n",
        "\n",
        "print('Line1', end=' ')\n",
        "print('Line2')\n",
        "\n",
        "print('')\n",
        "\n",
        "print('Line1', end=', ')\n",
        "print('Line2')\n",
        "\n",
        "print('')\n",
        "\n",
        "print('Line1', end='<--------->')\n",
        "print('Line2')\n"
      ],
      "metadata": {
        "colab": {
          "base_uri": "https://localhost:8080/"
        },
        "id": "B7SwwTBo-n0t",
        "outputId": "b5ef7eb4-6855-4f39-f307-56d43c7e7a1a"
      },
      "execution_count": null,
      "outputs": [
        {
          "output_type": "stream",
          "name": "stdout",
          "text": [
            "Line1\n",
            "Line2\n",
            "\n",
            "Line1 Line2\n",
            "\n",
            "Line1, Line2\n",
            "\n",
            "Line1<--------->Line2\n"
          ]
        }
      ]
    },
    {
      "cell_type": "code",
      "source": [],
      "metadata": {
        "id": "-nvciBK3-3VB"
      },
      "execution_count": null,
      "outputs": []
    },
    {
      "cell_type": "markdown",
      "source": [
        "## Box Grid (Optional)\n",
        "\n",
        "Alter your GRID code from above so that it outputs this:\n",
        "\n",
        "    ________________________________________________\n",
        "    | (0,0) | (0,1) | (0,2) | (0,3) | (0,4) | (0,5) |\n",
        "    |_______|_______|_______|_______|_______|_______|\n",
        "    | (1,0) | (1,1) | (1,2) | (1,3) | (1,4) | (1,5) |\n",
        "    |_______|_______|_______|_______|_______|_______|\n",
        "    | (2,0) | (2,1) | (2,2) | (2,3) | (2,4) | (2,5) |\n",
        "    |_______|_______|_______|_______|_______|_______|\n",
        "    | (3,0) | (3,1) | (3,2) | (3,3) | (3,4) | (3,5) |\n",
        "    |_______|_______|_______|_______|_______|_______|\n",
        "    | (4,0) | (4,1) | (4,2) | (4,3) | (4,4) | (4,5) |\n",
        "    |_______|_______|_______|_______|_______|_______|\n",
        "    | (5,0) | (5,1) | (5,2) | (5,3) | (5,4) | (5,5) |\n",
        "    |_______|_______|_______|_______|_______|_______|\n",
        "\n",
        "\n",
        "Hint:\n",
        "\n",
        "- Take it one step at a time. First worry about the vertical symbols (called a \"pipe symbol\", '|').\n",
        "- Then work on getting the horizontal symbols to work.\n",
        "- I don't recommend trying to figure them out at the same time."
      ],
      "metadata": {
        "id": "LeUCoT2t-_wp"
      }
    },
    {
      "cell_type": "code",
      "source": [
        "# Put your code here"
      ],
      "metadata": {
        "id": "vWTvsCjl9ntG"
      },
      "execution_count": null,
      "outputs": []
    }
  ]
}