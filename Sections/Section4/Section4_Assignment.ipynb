{
  "nbformat": 4,
  "nbformat_minor": 0,
  "metadata": {
    "colab": {
      "provenance": [],
      "collapsed_sections": [
        "rh067_xYfp-y"
      ],
      "include_colab_link": true
    },
    "kernelspec": {
      "name": "python3",
      "display_name": "Python 3"
    },
    "language_info": {
      "name": "python"
    }
  },
  "cells": [
    {
      "cell_type": "markdown",
      "metadata": {
        "id": "view-in-github",
        "colab_type": "text"
      },
      "source": [
        "<a href=\"https://colab.research.google.com/github/CogPsychCoding/psych138files/blob/main/Sections/Section4/Section4_Assignment.ipynb\" target=\"_parent\"><img src=\"https://colab.research.google.com/assets/colab-badge.svg\" alt=\"Open In Colab\"/></a>"
      ]
    },
    {
      "cell_type": "markdown",
      "source": [
        "# Setup"
      ],
      "metadata": {
        "id": "rh067_xYfp-y"
      }
    },
    {
      "cell_type": "code",
      "source": [],
      "metadata": {
        "id": "5AVY85MqfryU"
      },
      "execution_count": null,
      "outputs": []
    },
    {
      "cell_type": "markdown",
      "source": [
        "Add names and student emails of team members here:\n",
        "- 1.\n",
        "- 2.\n",
        "- 3."
      ],
      "metadata": {
        "id": "699vMFr7Z6Pd"
      }
    },
    {
      "cell_type": "markdown",
      "source": [
        "# Section 4\n"
      ],
      "metadata": {
        "id": "wioyWlrFfsPc"
      }
    },
    {
      "cell_type": "code",
      "source": [],
      "metadata": {
        "id": "v3RdRumYaFXV"
      },
      "execution_count": null,
      "outputs": []
    },
    {
      "cell_type": "code",
      "source": [],
      "metadata": {
        "id": "C4kbjD6hjiZq"
      },
      "execution_count": null,
      "outputs": []
    },
    {
      "cell_type": "markdown",
      "source": [
        "## New `str` method called `str.find()`\n",
        "\n",
        "`str.find()` takes a substring parameter. If the string `str` contains the provided substring, Python returns the character position where that substring <u>starts</u>. If the substring is NOT in the string `str`, then Python returns -1.\n",
        "\n",
        "For example:"
      ],
      "metadata": {
        "id": "Ylx4W1g4Y1KV"
      }
    },
    {
      "cell_type": "code",
      "source": [
        "my_string = \"A ship like this, you treat her proper, she'll be with you the rest of your life.\"\n",
        "\n",
        "print(my_string.find(\"A ship l\"))\n",
        "print(my_string.find(\"proper\"))\n",
        "print(my_string.find(\".\"))\n",
        "print(my_string.find(\"Jayne\"))"
      ],
      "metadata": {
        "colab": {
          "base_uri": "https://localhost:8080/"
        },
        "id": "ppf9Nfx-ZSNQ",
        "outputId": "1b3b86be-9dba-4e3f-8f98-bc492d3e0c1c"
      },
      "execution_count": null,
      "outputs": [
        {
          "output_type": "stream",
          "name": "stdout",
          "text": [
            "0\n",
            "32\n",
            "80\n",
            "-1\n"
          ]
        }
      ]
    },
    {
      "cell_type": "markdown",
      "source": [
        "## Text Editor\n",
        "\n",
        "**Goal**: practice using string indexing in Python\n",
        "\n",
        "- start with an empy string in a variable called `text_base`\n",
        "- prompt the user to enter a command\n",
        "- to enter a line of text, they type ADD, a space, and then the text they want to add. E.g., `ADD Whose woods these are, I think I know.` Use `in` and indexing/slicing only to find the start of the sentence they are adding. Then you add that string to the end of `text_base`\n",
        "- if the user enters `DEL [SOME TEXT]`\n",
        "    - using `in` and indexing/slicing only, try to find that text in `text_base` and note the start point\n",
        "        - if it's not there, tell them and wait for the next input\n",
        "    - if the to-be-deleted text is found, using only `in` and string indexing/slicing, update you main text so that it contains everything before the to-be-removed text and everyting after.\n",
        "- if the user enters SHO, print the entire text that you currently have\n",
        "- if the user enters BYE, stop the application\n",
        "\n",
        "You cannot use `str.split()`, the `re` module, or any other Python facility we haven't covered yet. In the chapter/video for this week, you learned how to use the `in` statement, as well as list indexing and slicing. You can do the same with strings. The only difference is that strings are immutable, so you cannot update a string in-place like you can a list. To create a changed string, you have to build a new one.\n",
        "\n",
        "I recommend working in this order:\n",
        "\n",
        "1. handle BYE\n",
        "2. handle SHO\n",
        "3. handle ADD\n",
        "4. handle DEL\n",
        "\n",
        "<mark>If you have a question about str indexing or slicing, please don't ask your TA how to do it -- instead, you and your pair-programming partner should consult your book, the video for this week, and your notes.</mark>"
      ],
      "metadata": {
        "id": "hIFMEddDuFVJ"
      }
    },
    {
      "cell_type": "markdown",
      "source": [
        "#### Example Output\n",
        "\n",
        "```\n",
        ">>> BYE\n",
        "see ya!\n",
        "```\n",
        "\n",
        "```\n",
        ">>> add\n",
        "Invalid commnand (\"add\"). Should start with one of: ['BYE', 'SHO', 'ADD', 'DEL'].\n",
        ">>> AD\n",
        "Invalid commnand (\"AD\"). Should start with one of: ['BYE', 'SHO', 'ADD', 'DEL'].\n",
        ">>> ADD\n",
        "ADD failed: ADD must be followed by a space and some text to add!\n",
        ">>> ADD You are my sunshine.\n",
        "ADD successful\n",
        ">>> SHOW\n",
        "\n",
        "CURRENT TEXT:\n",
        "You are my sunshine.\n",
        "\n",
        ">>> ADD My only sunshine.\n",
        "ADD successful\n",
        ">>> ADD You make me angry.\n",
        "ADD successful\n",
        ">>> SHO\n",
        "\n",
        "CURRENT TEXT:\n",
        "You are my sunshine. My only sunshine. You make me angry.\n",
        "\n",
        ">>> ADD When skies are gray.\n",
        "ADD successful\n",
        ">>> SHO\n",
        "\n",
        "CURRENT TEXT:\n",
        "You are my sunshine. My only sunshine. You make me angry. When skies are gray.\n",
        "\n",
        ">>> DEL\n",
        "DEL FAILED: DEL must be followed by a space and some text to delete!\n",
        "DEL successful\n",
        ">>> DEL you make me angry.\n",
        "DEL FAILED: \"you make me angry. \" not found!\n",
        ">>> DEL You make me angry.\n",
        "DEL successful\n",
        ">>> SHO\n",
        "\n",
        "CURRENT TEXT:\n",
        "You are my sunshine. My only sunshine. When skies are gray.\n",
        "\n",
        ">>> DEL  When skies are gray.\n",
        "DEL successful\n",
        ">>> SHO\n",
        "\n",
        "CURRENT TEXT:\n",
        "You are my sunshine. My only sunshine.\n",
        "\n",
        ">>> BYE\n",
        "see ya!\n",
        "```"
      ],
      "metadata": {
        "id": "fPH_BIZQcyOj"
      }
    },
    {
      "cell_type": "code",
      "source": [
        "# WRITE YOUR CODE HERE\n"
      ],
      "metadata": {
        "id": "Z1VzUKuUtxfZ"
      },
      "execution_count": null,
      "outputs": []
    }
  ]
}