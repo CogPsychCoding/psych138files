{
  "nbformat": 4,
  "nbformat_minor": 0,
  "metadata": {
    "colab": {
      "provenance": [],
      "include_colab_link": true
    },
    "kernelspec": {
      "name": "python3",
      "display_name": "Python 3"
    },
    "language_info": {
      "name": "python"
    }
  },
  "cells": [
    {
      "cell_type": "markdown",
      "metadata": {
        "id": "view-in-github",
        "colab_type": "text"
      },
      "source": [
        "<a href=\"https://colab.research.google.com/github/CogPsychCoding/psych138files/blob/main/Sections/Section5/Section5_Monday.ipynb\" target=\"_parent\"><img src=\"https://colab.research.google.com/assets/colab-badge.svg\" alt=\"Open In Colab\"/></a>"
      ]
    },
    {
      "cell_type": "markdown",
      "source": [
        "# Setup"
      ],
      "metadata": {
        "id": "rh067_xYfp-y"
      }
    },
    {
      "cell_type": "code",
      "execution_count": null,
      "metadata": {
        "id": "HHGDMefvwEA2"
      },
      "outputs": [],
      "source": []
    },
    {
      "cell_type": "markdown",
      "source": [
        "# Section 5 -- <b><font color=\"Blue\">Monday Edition</font></b>\n",
        "\n"
      ],
      "metadata": {
        "id": "wioyWlrFfsPc"
      }
    },
    {
      "cell_type": "markdown",
      "source": [
        "- Allow the user to input integers until they enter an emtpy string.\n",
        "- Store each number they enter in a list\n",
        "- If they enter something that is not an integer, complain and don't store it\n",
        "- if they enter enter fewer then 3 numbers, complain and quit without printing any results\n",
        "- otherwise (i.e., if they enter at least 3 numbers):\n",
        "    - sort the list\n",
        "    - loop through the list and present to the user output where each line is the position in the sorted list (start numbering at 1), the value at the corresponding position in the list, whether or not it is odd or even, and whether the number is unique amongst all the numbers that were entered.\n",
        "    - Use this format: position=3, number=14, status=Even unique=False.\n",
        "\n",
        "E.g.:\n",
        "\n",
        "```\n",
        "> three\n",
        "ERROR: You can only enter numbers (or ENTER to stop)\n",
        "> 3\n",
        "> 2\n",
        ">\n",
        "ERROR: You need at least 3 numbers!\n",
        "```\n",
        "\n",
        "or\n",
        "\n",
        "```\n",
        "> 23\n",
        "> 43\n",
        "> 11\n",
        "> 26\n",
        "> 87\n",
        "> 44\n",
        "> 23\n",
        "> 198\n",
        ">\n",
        "position=1 number=11 status=Odd unique=True\n",
        "position=2 number=23 status=Odd unique=False\n",
        "position=3 number=23 status=Odd unique=False\n",
        "position=4 number=26 status=Even unique=True\n",
        "position=5 number=43 status=Odd unique=True\n",
        "position=6 number=44 status=Even unique=True\n",
        "position=7 number=87 status=Odd unique=True\n",
        "position=8 number=198 status=Even unique=True\n",
        "```\n",
        "\n",
        "NOTE: You answer **must** user the `enumerate()` function.\n",
        "\n",
        "```"
      ],
      "metadata": {
        "id": "raQoD5VvwZDY"
      }
    },
    {
      "cell_type": "code",
      "source": [
        "### ENTER CODE HERE ###"
      ],
      "metadata": {
        "id": "idmY3LZSzxU2"
      },
      "execution_count": null,
      "outputs": []
    }
  ]
}