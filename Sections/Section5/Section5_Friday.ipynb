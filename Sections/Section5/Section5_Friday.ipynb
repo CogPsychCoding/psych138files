{
  "nbformat": 4,
  "nbformat_minor": 0,
  "metadata": {
    "colab": {
      "provenance": [],
      "include_colab_link": true
    },
    "kernelspec": {
      "name": "python3",
      "display_name": "Python 3"
    },
    "language_info": {
      "name": "python"
    }
  },
  "cells": [
    {
      "cell_type": "markdown",
      "metadata": {
        "id": "view-in-github",
        "colab_type": "text"
      },
      "source": [
        "<a href=\"https://colab.research.google.com/github/CogPsychCoding/psych138files/blob/main/Sections/Section5/Section5_Friday.ipynb\" target=\"_parent\"><img src=\"https://colab.research.google.com/assets/colab-badge.svg\" alt=\"Open In Colab\"/></a>"
      ]
    },
    {
      "cell_type": "markdown",
      "source": [
        "# Setup"
      ],
      "metadata": {
        "id": "rh067_xYfp-y"
      }
    },
    {
      "cell_type": "code",
      "execution_count": null,
      "metadata": {
        "id": "HHGDMefvwEA2"
      },
      "outputs": [],
      "source": []
    },
    {
      "cell_type": "markdown",
      "source": [
        "# Section 5 -- <b><font color=\"Green\">Friday Edition</font></b>\n",
        "\n"
      ],
      "metadata": {
        "id": "wioyWlrFfsPc"
      }
    },
    {
      "cell_type": "markdown",
      "source": [
        "# Winsorized Mean\n",
        "\n",
        "To write the program outlined below, make sure you do one step at a time. I suggest you code one step, have python print out information that lets you know that step is working and then remove this temporary code. Then write the next step and use prints to give you some idea about whether that step was working, and so on.\n",
        "\n",
        "- The winsorized_mean() function takes 4 integer arguments: sample_size, low, high, and trim\n",
        "- Generate `sample_size` numbers between the values of `low` and `high` and store these numbers in a list\n",
        "- create a copy of that list and then sort it\n",
        "- `trim` is a number of values on either end of the sorted list that you are going to replace with another value. On the low end of the list, you are going to replace the first `trim` values with the value at the `trim + 1` position. On the high end of the list, you are going to replace the last `trim` values with the value at the `trim - 1` position. This process of replacing the extreme values on either end of a sample with the value just before those extremes is called winsorization.\n",
        "\n",
        "- Outputs:\n",
        "    - print the original list sorted\n",
        "    - print the *winsorized* list sorted\n",
        "    - print the mean and standard deviation of the original list (i.e., the standard arithmetic mean).\n",
        "    - print the mean and standard deviation of the *winsorized* list (i.e., the *winsorized* mean)\n",
        "\n",
        "NOTE:\n",
        "\n",
        "- You should use `statistics.mean()` and `staistics.stdev()` from Python's `statistics` module to generate means and standard deviations.\n",
        "- Floating point numbers should be printed 2 significant digits.\n",
        "- Your printed outputs should very similar to the output below (except for the actual numbers, means, and standard deviations of course!):\n",
        "\n",
        "```\n",
        "ORIG LIST: [107, 119, 192, 207, 219, 221, 235, 240, 294, 316, 342, 374, 384, 389, 393, 399, 412, 438, 448, 461]\n",
        "WINS LIST: [207, 207, 207, 207, 219, 221, 235, 240, 294, 316, 342, 374, 384, 389, 393, 399, 412, 412, 412, 412]\n",
        "ORIG: mean=309.50, stdev=309.50\n",
        "WINS: mean=314.10, stdev=314.10\n",
        "\n",
        "```"
      ],
      "metadata": {
        "id": "raQoD5VvwZDY"
      }
    },
    {
      "cell_type": "code",
      "source": [
        "\n",
        "def winsorization(sample_size: int, low: int, high: int, trim: int):\n",
        "    # PUT YOUR CODE HERE\n",
        "\n",
        "\n",
        "winsorization(20, 100, 500, 3)"
      ],
      "metadata": {
        "id": "5AVY85MqfryU"
      },
      "execution_count": null,
      "outputs": []
    }
  ]
}