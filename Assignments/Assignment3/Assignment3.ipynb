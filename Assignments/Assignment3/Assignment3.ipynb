{
  "nbformat": 4,
  "nbformat_minor": 0,
  "metadata": {
    "colab": {
      "provenance": [],
      "authorship_tag": "ABX9TyN8V2/yG8SZIPn4bVtDt11f",
      "include_colab_link": true
    },
    "kernelspec": {
      "name": "python3",
      "display_name": "Python 3"
    },
    "language_info": {
      "name": "python"
    }
  },
  "cells": [
    {
      "cell_type": "markdown",
      "metadata": {
        "id": "view-in-github",
        "colab_type": "text"
      },
      "source": [
        "<a href=\"https://colab.research.google.com/github/CogPsychCoding/psych138files/blob/main/Assignments/Assignment3/Assignment3.ipynb\" target=\"_parent\"><img src=\"https://colab.research.google.com/assets/colab-badge.svg\" alt=\"Open In Colab\"/></a>"
      ]
    },
    {
      "cell_type": "markdown",
      "source": [
        "# Setup"
      ],
      "metadata": {
        "id": "k8CMbUhZdRGP"
      }
    },
    {
      "cell_type": "code",
      "execution_count": null,
      "metadata": {
        "id": "zucBc3x_dQG0"
      },
      "outputs": [],
      "source": []
    },
    {
      "cell_type": "markdown",
      "source": [
        "# Assignment 3"
      ],
      "metadata": {
        "id": "O_0lGyhhdStO"
      }
    },
    {
      "cell_type": "markdown",
      "source": [
        "<hr>"
      ],
      "metadata": {
        "id": "y5QQ-3F6dVRt"
      }
    },
    {
      "cell_type": "markdown",
      "source": [
        "## Question 1 -- Opposites\n",
        "\n",
        "- See the function definition below\n",
        "- return a tuple containing 2 lists, one that contains only the even numbers from the input list and one that contains only the odd numbers from the input list\n",
        "- if the adjustment is not zero, add it to each value in the even number list and subtract it from each value in the odd number list\n",
        "- if the adjustment is larger 100, just use 100\n",
        "- after applying the adjustments, but before returning these two sub-lists, make sure you convert any values that are less than 0 to 0\n",
        "\n",
        "e.g.:\n",
        "\n",
        "```python\n",
        "test_numbers = [31, 89, 154, 168, 136, 192, 158, 73, 153, 20, 122, 93, 58, 102, 9, 62, 11, 126, 143, 101]\n",
        "the_evens, the_odds = opposites(values=test_numbers, adjustment=16)\n",
        "print('EVENS:', the_evens)\n",
        "print('ODDS:', the_odds)\n",
        "```\n",
        "```\n",
        "EVENS: [170, 184, 152, 208, 174, 36, 138, 74, 118, 78, 142]\n",
        "ODDS: [15, 73, 57, 137, 77, 0, 0, 127, 85]\n",
        "\n",
        "```"
      ],
      "metadata": {
        "id": "j4vTm2GsdUfZ"
      }
    },
    {
      "cell_type": "code",
      "source": [
        "def opposites(values: list, adjustment: int):\n",
        "    # REPLACE THIS COMMENT WITH YOUR CODE\n",
        "\n",
        "# Run It\n",
        "test_numbers = [31, 89, 154, 168, 136, 192, 158, 73, 153, 20, 122, 93, 58, 102, 9, 62, 11, 126, 143, 101]\n",
        "the_evens, the_odds = opposites(values=test_numbers, adjustment=16)\n",
        "print('EVENS:', the_evens)\n",
        "print('ODDS:', the_odds)"
      ],
      "metadata": {
        "id": "Cz-7YlvwelnH"
      },
      "execution_count": null,
      "outputs": []
    },
    {
      "cell_type": "markdown",
      "source": [
        "## Question 2 -- Random \"Haiku\" Poetry\n",
        "\n",
        "- Here is a list of words for your poems:\n",
        "\n",
        "- create a function that has a parameter called structure. structure is expected to contain the number of words on each line of the poem and has these restrictions:\n",
        "    - it contains 3 integers AND...\n",
        "    - the only allowed structures are 3/5/3 5/7/5 and 7/9/7. any other configuration should lead to the function returning an error message string instead of a poem (e.g., explaining what the valid structures are).\n",
        "    \n",
        "- if the structure is valid, generate a Haiku poem that follows that structure by random choosing words from your word list.\n",
        "- print the poem\n",
        "\n",
        "For example:\n",
        "\n",
        "```python\n",
        "random_haiku([3, 5, 3])\n",
        "```\n",
        "\n",
        "```\n",
        "sun hush bright\n",
        "smile soft soft soft rose\n",
        "bird play pure\n",
        "```"
      ],
      "metadata": {
        "id": "ixxJ0P_NimQA"
      }
    },
    {
      "cell_type": "code",
      "source": [
        "haiku_words = ['moon', 'star', 'sun', 'love', 'heart', 'blue', 'red', 'sky',\n",
        "               'sea', 'leaf', 'tree', 'bird', 'song', 'rose', 'kiss', 'smile',\n",
        "               'rain', 'snow', 'wine', 'fire', 'sand', 'fish', 'hug', 'joy',\n",
        "               'hope', 'dream', 'sweet', 'soft', 'warm', 'bright', 'true',\n",
        "               'free', 'calm', 'gold', 'bold', 'kind', 'pure', 'loud',\n",
        "               'still', 'wild', 'deep', 'clear', 'hush', 'melt', 'play',\n",
        "               'dance', 'sing', 'laugh']\n"
      ],
      "metadata": {
        "id": "JkN-M73ArbMp"
      },
      "execution_count": null,
      "outputs": []
    },
    {
      "cell_type": "code",
      "source": [
        "def random_haiku(words: list, structure: list):\n",
        "    # REPLACE THIS COMMENT WITH YOUR CODE\n",
        "\n",
        "# Run It\n",
        "poem = random_haiku(haiku_words, [3, 5, 3])\n",
        "# poem = random_haiku(haiku_words, [5, 7, 5])\n",
        "# poem = random_haiku(haiku_words, [1, 3, 1])"
      ],
      "metadata": {
        "id": "YsWkfqZ1j0Od"
      },
      "execution_count": null,
      "outputs": []
    },
    {
      "cell_type": "markdown",
      "source": [
        "## Question 3 -- Random Haiku Poetry Redux\n",
        "\n",
        "This one is the same as above except that you can only use a word once in your entire poem -- no duplicates. For example:\n",
        "\n",
        "```python\n",
        "random_haiku([3, 5, 3])\n",
        "```\n",
        "\n",
        "```\n",
        "play sea song\n",
        "still soft bird sky dance\n",
        "laugh hush kind\n",
        "```"
      ],
      "metadata": {
        "id": "L5L01m0wr_9H"
      }
    },
    {
      "cell_type": "code",
      "source": [
        "def random_haiku(words: list, structure: list):\n",
        "    # REPLACE THIS COMMENT WITH YOUR CODE\n",
        "\n",
        "\n",
        "# Run It\n",
        "poem = random_haiku(haiku_words, [3, 5, 3])\n",
        "# poem = random_haiku(haiku_words, [5, 7, 5])\n",
        "# poem = random_haiku(haiku_words, [1, 3, 1])"
      ],
      "metadata": {
        "id": "jVz6GtiQsWe3"
      },
      "execution_count": null,
      "outputs": []
    },
    {
      "cell_type": "markdown",
      "source": [
        "## Question 4 -- Assistant\n",
        "\n",
        "We discussed this one in class, now it's time for you to actually write it!\n",
        "\n",
        "- maintain a list of assistant names.\n",
        "- loop and accept commands from user to display or alter that list.\n",
        "- Commands:\n",
        "    - **show** - print contents of assistant list\n",
        "    - **sort** - sort the list and show user the list\n",
        "        - complain if nothing in list\n",
        "    - **count** - count the number of items in the list and inform the user\n",
        "    - **add NAME** - add NAME to the list if it's not already there\n",
        "        - complain if name already there\n",
        "    - **remove NAME** - if NAME is in the list, remove it\n",
        "        - complain if name not there\n",
        "    - **position NAME** - inform the user the numerical position of NAME\n",
        "        - if not there, say so\n",
        "- empty command quits\n",
        "- if bogus command, complain and show valid command list\n",
        "- no str.split()\n",
        "\n",
        "\n"
      ],
      "metadata": {
        "id": "IsPrdNT1tMAt"
      }
    },
    {
      "cell_type": "code",
      "source": [
        "def assistant():\n",
        "    # REPLACE THIS COMMENT WITH YOUR CODE\n",
        "\n",
        "assistant()"
      ],
      "metadata": {
        "id": "JD_7urTZuDqY"
      },
      "execution_count": null,
      "outputs": []
    }
  ]
}