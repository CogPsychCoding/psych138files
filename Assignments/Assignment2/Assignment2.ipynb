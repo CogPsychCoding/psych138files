{
  "nbformat": 4,
  "nbformat_minor": 0,
  "metadata": {
    "colab": {
      "provenance": [],
      "authorship_tag": "ABX9TyO5DStfjxKrMbUP0Bs7doGd",
      "include_colab_link": true
    },
    "kernelspec": {
      "name": "python3",
      "display_name": "Python 3"
    },
    "language_info": {
      "name": "python"
    }
  },
  "cells": [
    {
      "cell_type": "markdown",
      "metadata": {
        "id": "view-in-github",
        "colab_type": "text"
      },
      "source": [
        "<a href=\"https://colab.research.google.com/github/CogPsychCoding/psych138files/blob/main/Assignments/Assignment2/Assignment2.ipynb\" target=\"_parent\"><img src=\"https://colab.research.google.com/assets/colab-badge.svg\" alt=\"Open In Colab\"/></a>"
      ]
    },
    {
      "cell_type": "markdown",
      "source": [
        "# Setup"
      ],
      "metadata": {
        "id": "bLMt7z4FJao2"
      }
    },
    {
      "cell_type": "code",
      "source": [
        "# PUT ANY IMPORT STATEMENTS YOU NEED HERE"
      ],
      "metadata": {
        "id": "aulNmaJZJbGO"
      },
      "execution_count": null,
      "outputs": []
    },
    {
      "cell_type": "code",
      "source": [],
      "metadata": {
        "id": "E3tMaNa1dqls"
      },
      "execution_count": null,
      "outputs": []
    },
    {
      "cell_type": "markdown",
      "source": [
        "# Assignment 2\n"
      ],
      "metadata": {
        "id": "d4L1SSszOKXB"
      }
    },
    {
      "cell_type": "markdown",
      "source": [
        "## IMPORTANT NOTE:\n",
        "\n",
        "### <b><font color=\"navy\">Do Not Use Any Kind of `list`/`tuple`/`set` or any other Iterable for <b>ANY</b> question in this assignment</font></b>\n",
        "\n",
        "In general, you are restricted to the concepts and Python facilities we learned about so far in the book, videos, and in class.\n"
      ],
      "metadata": {
        "id": "NoeQo94RVMSC"
      }
    },
    {
      "cell_type": "markdown",
      "source": [
        "## Question 1\n",
        "\n",
        "Write some code using a while loop that\n",
        "\n",
        "- asks the user for a maximum number of iterations (i.e., loops). Keep doing so until they either\n",
        "    - give you a valid integer between 2 and 20\n",
        "    - enters an empty string.\n",
        "        - If they do this, then quit without printing anything further\n",
        "    - enters something that isn't an integer\n",
        "        - If they do this, tell them that it's not an integer\n",
        "    - enters a valid integer that's out of bounds\n",
        "        - If they do this, tell them about the bounds\n",
        "    - enters a valid integer that's in bounds\n",
        "        - If they do this, create a `while` loop that loops the specified number of times, each time printing \"Iteration #{THE CURRENT ITERATION NUMBER}\"\n",
        "\n",
        "\n",
        "HINT: Although you _could_ write this program using 2 loops where one is embedded inside the other, you do not _have_ to do this. Instead, you could use two consequtive loops. Either approach is fine with us.\n",
        "\n",
        "Here is what your output should look like (including spaces between queries and the space between getting a valid input and printing the iteration messages):\n",
        "\n",
        "```\n",
        "Max Iterations (2-20)? 1\n",
        "That's not an integer between 2 and 20!\n",
        "\n",
        "Max Iterations (2-20)? 99\n",
        "That's not an integer between 2 and 20!\n",
        "\n",
        "Max Iterations (2-20)? six\n",
        "That's not an integer!\n",
        "\n",
        "Max Iterations (2-20)? 3.3\n",
        "That's not an integer!\n",
        "\n",
        "Max Iterations (2-20)? 4\n",
        "\n",
        "Iteration #1\n",
        "Iteration #2\n",
        "Iteration #3\n",
        "Iteration #4\n",
        "```"
      ],
      "metadata": {
        "id": "l0g1dkp68n_i"
      }
    },
    {
      "cell_type": "code",
      "source": [
        "# PUT YOUR CODE HERE"
      ],
      "metadata": {
        "id": "dZGIdQ938dE2"
      },
      "execution_count": null,
      "outputs": []
    },
    {
      "cell_type": "markdown",
      "source": [
        "## Question 2\n",
        "\n",
        "1) Create a variable called `old_password` and set it to \"bosco\"\n",
        "\n",
        "\n",
        "2) Ask the user this question:\n",
        "\"Enter a new password:\"\n",
        "\n",
        "They password entered must be\n",
        "\n",
        "- different than the one in `old_password`\n",
        "- between 3 chracters long and 10 characters long\n",
        "- not password, Password or PASSWORD\n",
        "\n",
        "3) If either one of these rules is violated, tell the user `\"You cannot change your passoword to '{HERE PUT THE PW THEY TRIED}' because {HERE PUT THE REASON WHY}\"`, for example:\n",
        "\n",
        "\n",
        "\"You cannot change your password to 'bosco' because that password is the same as your old password.\"\n",
        "\n",
        "or\n",
        "\n",
        "\"You cannot change your password to 'me' because passwords have to be at least 3 characters long\"\n",
        "\n",
        "and so on for passwords that are too long and passwords that are a permutation of 'password' **(see expected output below)**.\n",
        "\n",
        "4) If the user makes any error, give the error message (as describe above) and then let them try again.\n",
        "\n",
        "5) If the user enters an empty string, tell them \"Password Change Cancelled\" and then exit the program\n",
        "\n",
        "6) If they enter a valid password, tell them \"Password successfully changed from '{OLD PASSWORD}' to '{NEW PASSWORD}'\"\n",
        "\n",
        "Your output should look like this:\n",
        "\n",
        "```\n",
        "Enter a new password: bosco\n",
        "You cannot change your password to 'bosco' because that password is the same as your old password.\n",
        "\n",
        "Enter a new password: ET\n",
        "You cannot change your password to 'ET' because passwords must be at least 3 characters long.\n",
        "\n",
        "Enter a new password: TribeCalledQuest\n",
        "You cannot change your password to 'TribeCalledQuest' because passwords must be at most 10 characters long.\n",
        "\n",
        "Enter a new password: Password\n",
        "You cannot change your password to 'Password' because permutations of 'password' are not allowed.\n",
        "\n",
        "Enter a new password: PythonRulz\n",
        "Password successfully changed from 'bosco' to 'PythonRulz'.\n",
        "```"
      ],
      "metadata": {
        "id": "P8AEz9MoOMu6"
      }
    },
    {
      "cell_type": "code",
      "source": [
        "# PUT YOUR CODE HERE"
      ],
      "metadata": {
        "id": "1CfgymVxOuey"
      },
      "execution_count": null,
      "outputs": []
    },
    {
      "cell_type": "markdown",
      "source": [
        "## Question 3\n",
        "\n",
        "When Programming A Digit-Span Task, you give a person a long sequence of digits (presented auditorily) and after you've finished, they have to repeat them back to you correctly in order. To create a proper list of digits for such a task, you have to know how to do so without repeating digits. Here you will explore how to do that by writing a program that generates 13 random digits where no digit occurs twice in a row.\n",
        "\n",
        "---\n",
        "\n",
        "- Create a **single** `while` loop.\n",
        "- On each iteration, you should generate a random number from 1-10.\n",
        "- When you print a random number, it should be in this format:\n",
        "    - 2: 4\n",
        "    - where the first number is the count of how many random numbers you've printed so far and the second number is the current random number.\n",
        "    - in \"2: 4\", 4 is the second random number I've printed.\n",
        "- The random number printed on any iteration should not be the same as the most recently printed number. Thus, you should never print the same number as you printed on the previous iteration.\n",
        "- You'll probably want to use a variable to keep track of which random number was last printed.\n",
        "- If you randomly generate a duplicate number (i.e., same as the last iteration), use the `continue` keyword to avoid printing that number\n",
        "- The numbers you print may not all be unique...that's ok, just avoid printing the same number twice in a row.\n",
        "- After you print a total of 13 numbers, stop the program. E.g.:\n",
        "\n",
        "\n",
        "```\n",
        "1: 3\n",
        "2: 6\n",
        "3: 9\n",
        "4: 4\n",
        "5: 2\n",
        "6: 10\n",
        "7: 6\n",
        "8: 3\n",
        "9: 4\n",
        "10: 3\n",
        "11: 2\n",
        "12: 4\n",
        "13: 7\n",
        "```"
      ],
      "metadata": {
        "id": "hv397XYmIMgw"
      }
    },
    {
      "cell_type": "code",
      "source": [
        "# PUT YOUR CODE HERE"
      ],
      "metadata": {
        "id": "RrgKylVkIc2W"
      },
      "execution_count": null,
      "outputs": []
    },
    {
      "cell_type": "markdown",
      "source": [
        "## Question 4\n",
        "\n",
        "STAR GRID\n",
        "\n",
        "- Create a program that prints out a grid of asterisks that is 8 asterisks wide and 8 asterisks tall.\n",
        "- Make sure there is a space between each asterisk.\n",
        "- You can use **ONE** `while` loop to achieve this, no embedded `while` loops are allowed.\n",
        "- You can only print **ONE** asterisk at a time.\n",
        "- You can use only **TWO** `print()` statements in your code.\n",
        "- Without using an embedded `while` loop, you will have to think about how you can get Python to stop printing askerisks when it has printed 8 on a row and then start printing asterisks on the next row.\n",
        "- Your output should look like this:\n",
        "\n",
        "\n",
        "```\n",
        "* * * * * * * *\n",
        "* * * * * * * *\n",
        "* * * * * * * *\n",
        "* * * * * * * *\n",
        "* * * * * * * *\n",
        "* * * * * * * *\n",
        "* * * * * * * *\n",
        "* * * * * * * *\n",
        "\n",
        "```"
      ],
      "metadata": {
        "id": "qZMIPg5XNWxg"
      }
    },
    {
      "cell_type": "code",
      "source": [
        "# PUT YOUR CODE HERE"
      ],
      "metadata": {
        "id": "iUYK0BqwNXV4"
      },
      "execution_count": null,
      "outputs": []
    },
    {
      "cell_type": "code",
      "source": [],
      "metadata": {
        "id": "pzSO-UTNQjzb"
      },
      "execution_count": null,
      "outputs": []
    }
  ]
}