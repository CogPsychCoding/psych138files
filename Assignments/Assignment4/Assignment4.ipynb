{
  "nbformat": 4,
  "nbformat_minor": 0,
  "metadata": {
    "colab": {
      "provenance": [],
      "authorship_tag": "ABX9TyMsqQ+MaTbrAqXaz5d1THyX",
      "include_colab_link": true
    },
    "kernelspec": {
      "name": "python3",
      "display_name": "Python 3"
    },
    "language_info": {
      "name": "python"
    }
  },
  "cells": [
    {
      "cell_type": "markdown",
      "metadata": {
        "id": "view-in-github",
        "colab_type": "text"
      },
      "source": [
        "<a href=\"https://colab.research.google.com/github/CogPsychCoding/psych138files/blob/main/Assignments/Assignment4/Assignment4.ipynb\" target=\"_parent\"><img src=\"https://colab.research.google.com/assets/colab-badge.svg\" alt=\"Open In Colab\"/></a>"
      ]
    },
    {
      "cell_type": "markdown",
      "source": [
        "# Setup"
      ],
      "metadata": {
        "id": "J93YnWqIHH6e"
      }
    },
    {
      "cell_type": "code",
      "source": [],
      "metadata": {
        "id": "CKiPSx7vHJeb"
      },
      "execution_count": null,
      "outputs": []
    },
    {
      "cell_type": "markdown",
      "source": [
        "# Assignment 4\n",
        "\n",
        "IMPORTANT NOTES:\n",
        "- As usual, your solutions to the code challenges below should be limited to the techniques that we have covered so far in the book and in class.\n",
        "- Ignore error handling/checking in your solutions below. Assume users will call your functions with the appropriate typed values and that, e.g.,\n",
        "    - you won't have to deal with ZeroDivisionErrors in your code that involves division\n",
        "    - paramaters that are intended for a single character (like an asterisk) will be given a string containing only 1 characer\n",
        "    \n"
      ],
      "metadata": {
        "id": "dEPORKt8HKo_"
      }
    },
    {
      "cell_type": "markdown",
      "source": [
        "## Question 1\n",
        "\n",
        "Write a function called `title` that *prints* a symbol framed string like this:\n",
        "\n",
        "```\n",
        "************************\n",
        "*    Python is Cool    *\n",
        "************************\n",
        "```\n",
        "\n",
        "where the string provided is centered within the frame.\n",
        "\n",
        "- Create a parameter called `text` for the string that is to be framed.\n",
        "- Create a parameter called `symbol` for the symbol that is used in the frame (this symbol defaults to an asterisk)\n",
        "- Create a parameter called `padding` that indicates how many spaces there will be on either side of the string within the frame (e.g., the example above has 4 spaces on each side). this parameter need to default to 4.\n",
        "- use type hints for all parameters\n"
      ],
      "metadata": {
        "id": "LrSogoHQHNmC"
      }
    },
    {
      "cell_type": "code",
      "source": [
        "# Write your code here\n",
        "\n",
        "\n",
        "# test your function\n",
        "\n",
        "title('Python is Cool')\n",
        "print()\n",
        "title('Python is Cool', \"`\")\n",
        "print()\n",
        "title('Python is Cool', symbol='|', padding=2)"
      ],
      "metadata": {
        "id": "y8rHt8rNIURa"
      },
      "execution_count": null,
      "outputs": []
    },
    {
      "cell_type": "markdown",
      "source": [
        "## Question 2\n",
        "\n",
        "Create a function called mean that computes the average of a list of numbers.\n",
        "\n",
        "- create a parameter called `numbers` and use type hints to indicate that it is a list\n",
        "- also indicate that your function will return a floating point number\n",
        "- your function should return the average of the numbers.\n",
        "- Python has a built in function called `sum` that takes a list of numbers and returns the sum. You can use this function.\n",
        "- You cannot use any methods from the statistics module."
      ],
      "metadata": {
        "id": "QTYWrrECxSi-"
      }
    },
    {
      "cell_type": "code",
      "source": [
        "# Write your code here\n",
        "\n",
        "\n",
        "# Test your code\n",
        "\n",
        "list_a = [87, 37, 52, 89, 42, 59, 20, 5, 86, 89, 57, 95, 91, 42, 80, 71, 70, 54, 31, 32]\n",
        "list_b = [0.8535276692877365, 0.9702469466570116, 0.7757874623841438, 0.22337137969181142, 0.7586147473951906, 0.6432517262422479, 0.2060643038394887, 0.8999964425816087, 0.9620145838336224, 0.9190375271222487, 0.1657803855648422, 0.5360984477937711, 0.5129853328854738]\n",
        "\n",
        "print(mean(list_a))  # should be 59.45\n",
        "print(mean(list_b))  # should be 0.6482136119445536"
      ],
      "metadata": {
        "id": "dGz1WhZxyH28"
      },
      "execution_count": null,
      "outputs": []
    },
    {
      "cell_type": "markdown",
      "source": [
        "## Question 3\n",
        "\n",
        "Create a function called `stdev` that computes the standard deviation of a list of numbers. The formula and calculation logic can be found here:\n",
        "\n",
        "https://www.khanacademy.org/math/statistics-probability/summarizing-quantitative-data/variance-standard-deviation-population/a/calculating-standard-deviation-step-by-step\n",
        "\n",
        "- create a parameter called `numbers` and use type hints to indicate that it is a list\n",
        "- indicate that your function will return a floating point number\n",
        "- your function will *return* the standard deviation\n",
        "- Python has a built in function called `sum` that takes a list of numbers and returns the sum. You can use this function.\n",
        "- You cannot use any methods from the statistics module.\n",
        "- You will need to import the `math` module and use `math.sqrt` to compute the square root of your sum of squares.\n",
        "- To compute the mean of the numbers passed to this function, call the `mean()` function you created for the previous prompt above."
      ],
      "metadata": {
        "id": "qEIL2CViITsg"
      }
    },
    {
      "cell_type": "code",
      "source": [
        "# Write your code here\n",
        "\n",
        "\n",
        "# Test your code\n",
        "\n",
        "list_a = [87, 37, 52, 89, 42, 59, 20, 5, 86, 89, 57, 95, 91, 42, 80, 71, 70, 54, 31, 32]\n",
        "list_b = [0.8535276692877365, 0.9702469466570116, 0.7757874623841438, 0.22337137969181142, 0.7586147473951906, 0.6432517262422479, 0.2060643038394887, 0.8999964425816087, 0.9620145838336224, 0.9190375271222487, 0.1657803855648422, 0.5360984477937711, 0.5129853328854738]\n",
        "\n",
        "print(stdev(list_a))  # should be approximately 26 (e.g., 25.90844...)\n",
        "print(stdev(list_b))  # should be approximately .3 (e.g., .29568...)"
      ],
      "metadata": {
        "id": "Dn-f0aiDKDKl"
      },
      "execution_count": null,
      "outputs": []
    },
    {
      "cell_type": "markdown",
      "source": [
        "## Question 4\n",
        "\n",
        "- Create an **updater** function called `list_swapper` that when called with two lists, swaps the contents of each list.\n",
        "- create 2 parameters for each list, name them `list_1` and `list_2`, and indicate that they are lists using type hints\n",
        "- when your function completes, the two lists should have had their contents swapped. E.g.:\n",
        "\n",
        "```python\n",
        "first_list = [1, 2, 3, 'x', 'y', 'z']\n",
        "second_list = ['a', '2', 4, 'g']\n",
        "list_swapper(first_list, second_list)\n",
        "print(first_list)\n",
        "```\n",
        "\n",
        "```\n",
        "['a', '2', 4, 'g']\n",
        "```\n",
        "\n",
        "```python\n",
        "print(second_list)\n",
        "```\n",
        "\n",
        "```\n",
        "[1, 2, 3, 'x', 'y', 'z']\n",
        "```"
      ],
      "metadata": {
        "id": "jSdjlfHjyMAH"
      }
    },
    {
      "cell_type": "code",
      "source": [
        "# Write your code here\n",
        "\n",
        "\n",
        "# test your function\n",
        "first_list =  [ 1,   2,  3, 'x', 'y', 'z']\n",
        "second_list = ['a', '2', 4, 'g']\n",
        "\n",
        "print(f'{first_list=}  {second_list=}')  # orig\n",
        "\n",
        "list_swapper(first_list, second_list)\n",
        "\n",
        "print(f'{first_list=}  {second_list=}')  # should be swapped"
      ],
      "metadata": {
        "id": "1s5ZRrma0aYZ"
      },
      "execution_count": null,
      "outputs": []
    }
  ]
}