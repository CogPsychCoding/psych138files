{
  "nbformat": 4,
  "nbformat_minor": 0,
  "metadata": {
    "colab": {
      "provenance": [],
      "authorship_tag": "ABX9TyMjao8MnMRvt8E52o6mTL9v",
      "include_colab_link": true
    },
    "kernelspec": {
      "name": "python3",
      "display_name": "Python 3"
    },
    "language_info": {
      "name": "python"
    }
  },
  "cells": [
    {
      "cell_type": "markdown",
      "metadata": {
        "id": "view-in-github",
        "colab_type": "text"
      },
      "source": [
        "<a href=\"https://colab.research.google.com/github/CogPsychCoding/psych138files/blob/main/Assignments/Assignment1/Assignment1.ipynb\" target=\"_parent\"><img src=\"https://colab.research.google.com/assets/colab-badge.svg\" alt=\"Open In Colab\"/></a>"
      ]
    },
    {
      "cell_type": "markdown",
      "source": [
        "# Assignment 1\n"
      ],
      "metadata": {
        "id": "d4L1SSszOKXB"
      }
    },
    {
      "cell_type": "markdown",
      "source": [
        "## IMPORTANT NOTE:\n",
        "\n",
        "### <font color=\"red\">Do Not Use `if, elif`, or `else` keywords for <b>ANY</b> question in this assignment</font>\n"
      ],
      "metadata": {
        "id": "NoeQo94RVMSC"
      }
    },
    {
      "cell_type": "markdown",
      "source": [
        "## Question 1\n",
        "\n",
        "Put this expression:\n",
        "\n",
        "8 + 4 * 2\n",
        "\n",
        "into a print command below so that it prints out the value 16.\n",
        "\n",
        "In a second print command, use this same expression, but override the order of operations so that it instead outputs 24."
      ],
      "metadata": {
        "id": "P8AEz9MoOMu6"
      }
    },
    {
      "cell_type": "code",
      "source": [
        "# Enter your code here"
      ],
      "metadata": {
        "id": "1CfgymVxOuey"
      },
      "execution_count": null,
      "outputs": []
    },
    {
      "cell_type": "markdown",
      "source": [
        "## Question 2\n",
        "\n",
        "Create a variable called `thx` and set it equal to the integer `1138`.\n",
        "\n",
        "Create another variable called `george` and set it to the string 'George Lucas'.\n",
        "\n",
        "Use a print command, your variables, and string concatenation to output this phrase:\n",
        "\n",
        "`'George Lucas Created A Student Film Called THX1138'`\n",
        "\n",
        "Make sure you use your variables for the string `'George Lucas'` and for the integer `1138`.\n",
        "\n",
        "The answer is not just concatenate the string manually, e.g., THIS IS NOT the answer:\n",
        "\n",
        "`print('George Lucas Created A Student Film Called THX1138')`\n",
        "\n",
        "NOTE: string concatenation requires strings. Your thx variable is an integer (i.e., an `int` in Python). You will have to convert it to a string in order to concatenate it to other strings."
      ],
      "metadata": {
        "id": "ld3MptDTPGLS"
      }
    },
    {
      "cell_type": "code",
      "source": [
        "# Enter your code here"
      ],
      "metadata": {
        "id": "k4ZIigghPFrj"
      },
      "execution_count": null,
      "outputs": []
    },
    {
      "cell_type": "markdown",
      "source": [
        "## Question 3\n",
        "\n",
        "Ask the user for a word and store it in a variable called `a_word`. Use the prompt `\"Enter a word: \"`.\n",
        "\n",
        "Ask the user for an integer and store it in a variable called `repetitions`. Use the prompt `\"Enter a number of repetitions:\"`.\n",
        "\n",
        "Use string replication to create and then print a string that is `a_word` repeated `repetitions` times.\n",
        "\n",
        "Finally print the number of characters in the output string.\n",
        "\n",
        "For example:\n",
        "\n",
        "    Enter a word:\n",
        "    LOL\n",
        "    Enter a number of repetitions:\n",
        "    4\n",
        "    LOLLOLLOLLOL\n",
        "    12\n",
        "\n",
        "Note: The `input()` command returns a string (even if a number is entered). So you will have to convert it to an integer prior to doing string replication with it.\n",
        "\n"
      ],
      "metadata": {
        "id": "mrrYy6GrPFUN"
      }
    },
    {
      "cell_type": "code",
      "source": [
        "# Enter your code here"
      ],
      "metadata": {
        "id": "MQuBslL_QtKv"
      },
      "execution_count": null,
      "outputs": []
    },
    {
      "cell_type": "markdown",
      "source": [
        "## Question 4\n",
        "\n",
        "Ask the user for their age and print True/False depending on whether\n",
        "or not they are at least 65 years old. Use a new print function to indicate whether or not they are eligible for seinior benefits (i.e., they are at least 65 years old). Use a new print function to indicate whether they are old enough to legally dring alcoholic beverages (at least 21 years old). Do not create any variables other than `age`\n",
        "\n",
        "It should look like this:\n",
        "\n",
        "    How old are you?\n",
        "    20\n",
        "    You are at least 65 years old: False\n",
        "    You are eligible for senior benefits: False\n",
        "    You are able to legally drink alcohol: False\n"
      ],
      "metadata": {
        "id": "bS5OtkD4RBY-"
      }
    },
    {
      "cell_type": "code",
      "source": [
        "# Enter your code here"
      ],
      "metadata": {
        "id": "G-x-wRjLTY-B"
      },
      "execution_count": null,
      "outputs": []
    },
    {
      "cell_type": "markdown",
      "source": [
        "## Question 5\n",
        "\n",
        "Read this document about **Fitt's Law**: https://bit.ly/FittsLawSlides\n",
        "\n",
        "Now, create a tool that works like this:\n",
        "\n",
        "==== FITT'S LAW CALCULATOR =====\n",
        "\n",
        "    Enter the linear intercept in ms:\n",
        "    50\n",
        "    Enter the ID/MT slope in ms:\n",
        "    150\n",
        "    Enter the distance to the target in mm:\n",
        "    80\n",
        "    Enter the width of the target in mm:\n",
        "    20\n",
        "\n",
        "    This action will take 398 ms to complete on average\n",
        "\n",
        "**NOTES**:\n",
        "\n",
        "- For this code, you will need to import Python's `math.log2` function.\n",
        "- Convert the movement time to an integer before presenting it to the user."
      ],
      "metadata": {
        "id": "9cVe20GWX6EI"
      }
    },
    {
      "cell_type": "code",
      "source": [
        "# Enter your code here"
      ],
      "metadata": {
        "id": "RJBFAuoqX6t8"
      },
      "execution_count": null,
      "outputs": []
    },
    {
      "cell_type": "markdown",
      "source": [
        "## Question 6\n",
        "\n",
        "Ask the user what day of the week it is like this:\n",
        "\n",
        "\"What day of the week is it?\"\n",
        "\n",
        "Create 3 boolean variables:\n",
        "\n",
        "- a variable that is `True` if then length of the day name entered is `6`.\n",
        "- a variable that is `True` if the day name entered is `Saturday` or `saturday`.\n",
        "- a variable that is `True` if that day name entered is `Sunday` or `sunday`.\n",
        "\n",
        "Use these 3 variables to make reference to the user's input.\n",
        "The rest of the code for this question can only contain a single print function, the 3 variables you just created, and logical operators.\n",
        "\n",
        "Your goal is to indicate to the user whether or not the entered day name is\n",
        "Monday, monday, Friday, friday, Saturday or saturday. If so, print True.\n",
        "Otherwise, print False.\n",
        "\n",
        "\n",
        "E.g.:\n",
        "\n",
        "    What day of the week is it?\n",
        "    Monday\n",
        "    True\n",
        "\n",
        "or\n",
        "\n",
        "    What day of the week is it?\n",
        "    friday\n",
        "    True\n",
        "\n",
        "or\n",
        "\n",
        "    What day of the week is it?\n",
        "    Sunday\n",
        "    False"
      ],
      "metadata": {
        "id": "9O4ARGDfV2AC"
      }
    },
    {
      "cell_type": "code",
      "source": [
        "# Enter your code here"
      ],
      "metadata": {
        "id": "HrXpiZ2TW6RO"
      },
      "execution_count": null,
      "outputs": []
    },
    {
      "cell_type": "markdown",
      "source": [
        "## Question 7\n",
        "\n",
        "Consider the output created when this code is run:"
      ],
      "metadata": {
        "id": "4A7_9NklfvgM"
      }
    },
    {
      "cell_type": "code",
      "source": [
        "jedi = 1138\n",
        "yoda = jedi\n",
        "\n",
        "print(yoda)"
      ],
      "metadata": {
        "colab": {
          "base_uri": "https://localhost:8080/"
        },
        "id": "BYlz-sU3fzyt",
        "outputId": "00540001-276d-49a9-f626-a0a41357ad76"
      },
      "execution_count": null,
      "outputs": [
        {
          "output_type": "stream",
          "name": "stdout",
          "text": [
            "1138\n"
          ]
        }
      ]
    },
    {
      "cell_type": "markdown",
      "source": [
        "Now consider this code and it's output:"
      ],
      "metadata": {
        "id": "T1GI126YgLX7"
      }
    },
    {
      "cell_type": "code",
      "source": [
        "jedi = 1138\n",
        "yoda = jedi\n",
        "\n",
        "jedi = jedi * 2\n",
        "\n",
        "print(yoda)"
      ],
      "metadata": {
        "colab": {
          "base_uri": "https://localhost:8080/"
        },
        "id": "yet51sTWgRbf",
        "outputId": "64e316fc-104a-4cef-886f-da293d474c57"
      },
      "execution_count": null,
      "outputs": [
        {
          "output_type": "stream",
          "name": "stdout",
          "text": [
            "1138\n"
          ]
        }
      ]
    },
    {
      "cell_type": "markdown",
      "source": [
        "In the text box below, explain why yoda is still `1138` after we changed `jedi`. Given that yoda is still `1138`, what exactly happened when this expression was evaluated by Python `yoda = jedi`?"
      ],
      "metadata": {
        "id": "KcQXes2BgZB4"
      }
    },
    {
      "cell_type": "markdown",
      "source": [
        "**Edit this text box and write your answer.**"
      ],
      "metadata": {
        "id": "QPpejtpDhAto"
      }
    }
  ]
}