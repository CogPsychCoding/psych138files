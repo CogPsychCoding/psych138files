{
  "nbformat": 4,
  "nbformat_minor": 0,
  "metadata": {
    "colab": {
      "provenance": [],
      "authorship_tag": "ABX9TyNykImXExPH0m+ycz28sCUJ",
      "include_colab_link": true
    },
    "kernelspec": {
      "name": "python3",
      "display_name": "Python 3"
    },
    "language_info": {
      "name": "python"
    }
  },
  "cells": [
    {
      "cell_type": "markdown",
      "metadata": {
        "id": "view-in-github",
        "colab_type": "text"
      },
      "source": [
        "<a href=\"https://colab.research.google.com/github/CogPsychCoding/psych138files/blob/main/Assignments/Assignment5/Assignment5.ipynb\" target=\"_parent\"><img src=\"https://colab.research.google.com/assets/colab-badge.svg\" alt=\"Open In Colab\"/></a>"
      ]
    },
    {
      "cell_type": "markdown",
      "source": [
        "# Setup - Run Each Of These Next 5 Cells To Setup Session\n",
        "(note: these 5 cells can be safely re-run each session, you won't overwrite your work)"
      ],
      "metadata": {
        "id": "GsV_GmDqqMxa"
      }
    },
    {
      "cell_type": "code",
      "source": [
        "from google.colab import drive, files\n",
        "\n",
        "import os\n",
        "import random\n",
        "import string"
      ],
      "metadata": {
        "id": "ofYECQRBqODt"
      },
      "execution_count": null,
      "outputs": []
    },
    {
      "cell_type": "code",
      "source": [
        "drive.mount('/content/drive')"
      ],
      "metadata": {
        "id": "XeoaRdplrIwG"
      },
      "execution_count": null,
      "outputs": []
    },
    {
      "cell_type": "markdown",
      "source": [
        "<mark>IMPORTANT: You Must First Change This String vvv To Refer To The Location Of YOUR Notebook</mark>"
      ],
      "metadata": {
        "id": "Mu53zwOKtAkB"
      }
    },
    {
      "cell_type": "code",
      "source": [
        "this_folder = '/content/drive/MyDrive/0_Psych138/Assignments/Assignment5'\n",
        "os.chdir(this_folder)\n",
        "print(os.getcwd())"
      ],
      "metadata": {
        "id": "TqrYyHeVrMVb"
      },
      "execution_count": null,
      "outputs": []
    },
    {
      "cell_type": "code",
      "source": [
        "os.makedirs(os.path.join('files', 'textfiles'), exist_ok=True)\n",
        "print(os.listdir())\n",
        "print(os.listdir('files'))"
      ],
      "metadata": {
        "id": "89cRZguptOPT"
      },
      "execution_count": null,
      "outputs": []
    },
    {
      "cell_type": "code",
      "source": [
        "!gdown https://bit.ly/Psych138LetItBe -O files/textfiles/let_it_be.txt\n",
        "!gdown https://bit.ly/Psych138ChuckYeager -O files/textfiles/Chuck_Yeager.txt"
      ],
      "metadata": {
        "id": "ynUten7Lumts"
      },
      "execution_count": null,
      "outputs": []
    },
    {
      "cell_type": "markdown",
      "source": [
        "## <mark>IMPORTANT RULES -- READ BEFORE YOU START</mark>:\n",
        "\n",
        "- Do not hardcode any paths in your code, instead use `os.path.join()`! Thus, you are not allowed to use a string like 'files/textfiles/let_it_be.txt'. Instead, use the cross-platform approach we went over in class that relies on `os.path.join()`.\n",
        "- You are not allowed to use the `pathlib` module!\n",
        "- Use type-hints for all function parameters.\n",
        "- Only write a function if you are asked to do so!"
      ],
      "metadata": {
        "id": "ueY9usozw5hi"
      }
    },
    {
      "cell_type": "markdown",
      "source": [
        "<hr>"
      ],
      "metadata": {
        "id": "3TY-F_cDrfMn"
      }
    },
    {
      "cell_type": "markdown",
      "source": [
        "# Part 1: Files and Folders"
      ],
      "metadata": {
        "id": "S65q3pu1_etD"
      }
    },
    {
      "cell_type": "markdown",
      "source": [
        "## Write a python expression to check whether let_it_be.txt is in the files/textfiles folder. It should just output `True` or `False`.\n"
      ],
      "metadata": {
        "id": "SyjX-BHmvREI"
      }
    },
    {
      "cell_type": "code",
      "source": [
        "# write your code here vvv\n"
      ],
      "metadata": {
        "id": "1TtXN4mgvhw_"
      },
      "execution_count": null,
      "outputs": []
    },
    {
      "cell_type": "markdown",
      "source": [
        "## Write a python expression to check whether Chuck_Yeager.txt is in the files/textfiles folder. It should just output `True` or `False`."
      ],
      "metadata": {
        "id": "kSwQ0RQ8vpGE"
      }
    },
    {
      "cell_type": "code",
      "source": [
        "# write your code here vvv\n"
      ],
      "metadata": {
        "id": "yTTnTP4Uvs_K"
      },
      "execution_count": null,
      "outputs": []
    },
    {
      "cell_type": "markdown",
      "source": [
        "## Write a python expression that creates an empty subfolder underneath files/textfiles/ called `other`. The resulting folder structure should be like this (you can view it on Google Drive):\n",
        "\n",
        "```\n",
        "+--files/\n",
        " |+--textfiles/\n",
        " |  |--let_it_be.txt\n",
        " |  |--Chuck_Yeager.txt\n",
        " |  |+--other/\n",
        "```\n",
        "\n"
      ],
      "metadata": {
        "id": "wOYD2ntsvr_B"
      }
    },
    {
      "cell_type": "code",
      "source": [
        "# write your code here vvv\n"
      ],
      "metadata": {
        "id": "Q-mXdi-swqbe"
      },
      "execution_count": null,
      "outputs": []
    },
    {
      "cell_type": "markdown",
      "source": [
        "## Write a function called `files_only` with a str parameter called `start_path`. It should also feature a boolean parameter called `include_folders` that defaults to True. When called with a path string, the function should return a list of the files and folders under the path passed in as `start_path`. If `include_folders` is `False` then the retuned list should not include folders (aka directories). E.g.:\n",
        "\n",
        "```python\n",
        "print(files_only(os.path.join('files','textfiles')))\n",
        "```\n",
        "\n",
        "```\n",
        "['let_it_be.txt', 'Chuck_Yeager.txt', 'other']\n",
        "```\n",
        "\n",
        "OR\n",
        "\n",
        "```python\n",
        "print(files_only(os.path.join('files','textfiles'), include_folders=False))\n",
        "```\n",
        "\n",
        "```\n",
        "['let_it_be.txt', 'Chuck_Yeager.txt']\n",
        "```\n",
        "\n",
        "**HINT**: `os.listdir()` (which is the star of this function) returns only a list of file **names**, not file paths. So, if you want to refer to the location of a file returned by `os.listdir()`, you will need to combine the path you originally passed to `os.listdir()` _and_ a file name to form a valid file path."
      ],
      "metadata": {
        "id": "Hmz-1xj2DP0Q"
      }
    },
    {
      "cell_type": "code",
      "source": [
        "# write your code here vvv\n",
        "\n",
        "\n",
        "# use this to test your function vvv\n",
        "\n",
        "print(files_only(os.path.join('files','textfiles'), False))\n",
        "print(files_only(os.path.join('files','textfiles')))"
      ],
      "metadata": {
        "id": "PwsW_VaLDZkf"
      },
      "execution_count": null,
      "outputs": []
    },
    {
      "cell_type": "markdown",
      "source": [
        "# Part 2 : Writing Files"
      ],
      "metadata": {
        "id": "Tq-UWMUiIPyz"
      }
    },
    {
      "cell_type": "markdown",
      "source": [
        "## Write a single for-loop that loops 4 times and does the following within the files/textfiles/other folder:\n",
        "\n",
        "- create a text file called `\"rando_X.txt\"` where instead of X, you use the numbers from 1 to 4. These files should be created in the files/textfiles/other folder, but remember not to hard-code the path.\n",
        "- in each file, write a random number of lines (between 5 and 20) of text.\n",
        "- on each line of text, randomly select between 4 and 12 words from the global list called `words` and write them with spaces between them.\n",
        "- each line should end with a newline character.\n",
        "\n",
        "When done you should have 4 files, each containing text sorta like this:\n",
        "\n",
        "rando_1.txt\n",
        "```\n",
        "leopard jellyfish giraffe toucan quokka penguin parrot dog rhinoceros dog narwhal\n",
        "bee zebra zebra leopard apple\n",
        "vulture shark walrus parrot walrus\n",
        "penguin narwhal leopard cat hedgehog camel kangaroo hedgehog\n",
        "jellyfish antelope unicorn eagle tiger walrus\n",
        "apple parrot quokka cat penguin unicorn giraffe giraffe\n",
        "camel dog eagle octopus elephant zebra yak yak walrus walrus falcon\n",
        "```\n"
      ],
      "metadata": {
        "id": "1NLe8MMYIaWS"
      }
    },
    {
      "cell_type": "code",
      "source": [
        "words = [\"apple\", \"banana\", \"cat\", \"dog\", \"elephant\", \"flamingo\", \"giraffe\",\n",
        "         \"horse\", \"kangaroo\", \"lion\", \"monkey\", \"octopus\", \"parrot\", \"quokka\",\n",
        "         \"rhinoceros\", \"shark\", \"tiger\", \"unicorn\", \"vulture\", \"walrus\",\n",
        "         \"xylophone\", \"yak\", \"zebra\", \"antelope\", \"bee\", \"camel\", \"dolphin\",\n",
        "         \"eagle\", \"falcon\", \"goat\", \"hedgehog\", \"iguana\", \"jellyfish\",\n",
        "         \"leopard\", \"narwhal\", \"octopus\", \"penguin\", \"queen\", \"rabbit\",\n",
        "         \"salamander\", \"toucan\", \"unicorn\", \"vulture\", \"walrus\",\n",
        "         \"xylophone\", \"yak\", \"zebra\"]\n",
        "\n",
        "# write your loop down here vvv:\n",
        "\n",
        "\n",
        "\n",
        "\n",
        "# [Optional] write an expression here vvv that lists the contents of the output folder\n",
        "# to make sure your code works. You should see 4 files.\n"
      ],
      "metadata": {
        "id": "NvQvf_p_IZRo"
      },
      "execution_count": null,
      "outputs": []
    },
    {
      "cell_type": "markdown",
      "source": [
        "## Write another loop. This loop should append the word \"DONE\" to the last line of each of the files you created in the previous part. E.g.,\n",
        "\n",
        "rando_1.txt\n",
        "```\n",
        "leopard jellyfish giraffe toucan quokka penguin parrot dog rhinoceros dog narwhal\n",
        "bee zebra zebra leopard apple\n",
        "vulture shark walrus parrot walrus\n",
        "penguin narwhal leopard cat hedgehog camel kangaroo hedgehog\n",
        "jellyfish antelope unicorn eagle tiger walrus\n",
        "apple parrot quokka cat penguin unicorn giraffe giraffe\n",
        "camel dog eagle octopus elephant zebra yak yak walrus walrus falcon\n",
        "DONE\n",
        "```\n",
        "\n",
        "**This function should not read the existing files, nor should it re-create the files. It is only appending the word \"DONE\" to the end of the 4 files you already created.**"
      ],
      "metadata": {
        "id": "f5F7kZwbNDi7"
      }
    },
    {
      "cell_type": "code",
      "source": [
        "# write your code here vvv\n"
      ],
      "metadata": {
        "id": "HW9eo6YXNpr1"
      },
      "execution_count": null,
      "outputs": []
    },
    {
      "cell_type": "markdown",
      "source": [
        "# Part 3: Reading Files"
      ],
      "metadata": {
        "id": "JvSnX1-1M6-U"
      }
    },
    {
      "cell_type": "markdown",
      "source": [
        "## Write some code that reads in the content of let_it_be.txt (read from it's location in the textfiles folder) and prints the text so that it looks like it did in the original file (i.e., with newlines in place). E.g.:\n",
        "\n",
        "\n",
        "```\n",
        "When I find myself in times of trouble, Mother Mary comes to me\n",
        "Speaking words of wisdom, let it be\n",
        "And in my hour of darkness she is standing right in front of me\n",
        "Speaking words of wisdom, let it be\n",
        "Let it be, let it be, let it be, let it be\n",
        "Whisper words of wisdom, let it be\n",
        "And when the broken hearted people living in the world agree\n",
        "There will be an answer, let it be\n",
        "\n",
        "etc.\n",
        "```"
      ],
      "metadata": {
        "id": "NhKFhK_2ODbb"
      }
    },
    {
      "cell_type": "code",
      "source": [
        "# write your code here vvv\n"
      ],
      "metadata": {
        "id": "6BAAFQxaOlyc"
      },
      "execution_count": null,
      "outputs": []
    },
    {
      "cell_type": "markdown",
      "source": [
        "## You are to again write some code that reads in the content of let_it_be.txt (read from it's location in the textfiles folder) and prints the text. However, this time, you are only to print every other line of text (starting with line 1). Your complete output should look like this:\n",
        "\n",
        "\n",
        "```\n",
        "When I find myself in times of trouble, Mother Mary comes to me\n",
        "And in my hour of darkness she is standing right in front of me\n",
        "Let it be, let it be, let it be, let it be\n",
        "And when the broken hearted people living in the world agree\n",
        "For though they may be parted, there is still a chance that they will see\n",
        "Let it be, let it be, let it be, let it be\n",
        "Let it be, let it be, let it be, let it be\n",
        "Let it be, let it be, let it be, let it be\n",
        "And when the night is cloudy there is still a light that shines on me\n",
        "I wake up to the sound of music, Mother Mary comes to me\n",
        "Let it be, let it be, let it be, yeah, let it be\n",
        "Let it be, let it be, let it be, yeah, let it be\n",
        "```"
      ],
      "metadata": {
        "id": "7F2d8Bb0PXky"
      }
    },
    {
      "cell_type": "code",
      "source": [
        "# write your code here vvv\n"
      ],
      "metadata": {
        "id": "E3ZfCwXBPqS7"
      },
      "execution_count": null,
      "outputs": []
    },
    {
      "cell_type": "markdown",
      "source": [
        "## Write a function called `clean_word_count` that has a string parameter called `file_path` and returns a dictionary. Your function should do the following using only string methods and other python techniques we've already covered in the book or in class:\n",
        "\n",
        "1. read in the text from the file specified by file_path. If `file_path` does not refer to a valid file complain and then return an empty dictionary.\n",
        "2. lowercase the text.\n",
        "3. remove all punctuation.\n",
        "4. remove all numbers.\n",
        "5. replace all newlines with a spaces.\n",
        "6. replace all double and tripple spaces with single spaces\n",
        "7. divide the remaining text up into a list of words (words are typically separated by single spaces).\n",
        "8. make sure each string in your list of words has been stripped of any leading or trailing spaces\n",
        "9. remove any words that are only 1 or 2 characters long\n",
        "10. create an empty dictionary and use it to count the number of times each word in the text occurs.\n",
        "11. remove any keys from the dictionary that has a count less than 5\n",
        "12. remove the key representing the word \"the\"\n",
        "12. return the dictionary of word counts\n",
        "\n",
        "\n",
        "NOTE: You cannot use the `re` module. You cannot use the `collections` module.\n",
        "\n",
        "Your output should something like this:\n",
        "```python\n",
        "counts = clean_word_count(os.path.join('files','textfiles','Chuck_Yeager.txt'))\n",
        "print(f'{len(counts.keys())=}\\n')\n",
        "for key, value in counts.items():\n",
        "    print(f'{key}: {value}')\n",
        "```\n",
        "\n",
        "```\n",
        "len(counts.keys())=18\n",
        "\n",
        "bell: 5\n",
        "air: 5\n",
        "yeager: 6\n",
        "first: 5\n",
        "speed: 5\n",
        "sound: 6\n",
        "mach: 7\n",
        "aircraft: 7\n",
        "from: 6\n",
        "and: 15\n",
        "had: 6\n",
        "this: 5\n",
        "flight: 16\n",
        "supersonic: 11\n",
        "was: 8\n",
        "for: 8\n",
        "data: 5\n",
        "that: 6\n",
        "```\n",
        "\n",
        "HINT: I recommend you do one step at a time. After each step, print out your text and see where you are. If you attempt to write the whole thing at once, you are increasing the chances that you will make a mistake.\n"
      ],
      "metadata": {
        "id": "kwEWCGJbQi0k"
      }
    },
    {
      "cell_type": "code",
      "source": [
        "# write your code here vvv\n",
        "\n",
        "def clean_word_count()  # <-- add parameters and type hints!\n",
        "\n",
        "    # quit and return empty dict if path is not a file\n",
        "\n",
        "\n",
        "    # read in the text\n",
        "\n",
        "    # lowercase the text\n",
        "\n",
        "    # remove punctuation and numbers\n",
        "\n",
        "\n",
        "    # remove newlines and spaces\n",
        "\n",
        "    # cut the text into individual words\n",
        "\n",
        "    # strip leading & trailing spaces from the words\n",
        "\n",
        "    # dump the short words\n",
        "\n",
        "    # create a dictionary of the word counts\n",
        "\n",
        "    # remove keys with low word counts\n",
        "\n",
        "    # remove the entry for \"the\"\n",
        "\n",
        "    # return the output\n",
        "\n",
        "\n",
        "\n",
        "# test your function with this code vvv:\n",
        "\n",
        "counts = clean_word_count(os.path.join('files','textfiles','Chuck_Yeager.txt'))\n",
        "\n",
        "\n",
        "print(f'{len(counts.keys())=}\\n')\n",
        "\n",
        "for key, value in counts.items():\n",
        "    print(f'{key}: {value}')"
      ],
      "metadata": {
        "id": "Qw7HYFNITAp7"
      },
      "execution_count": null,
      "outputs": []
    }
  ]
}