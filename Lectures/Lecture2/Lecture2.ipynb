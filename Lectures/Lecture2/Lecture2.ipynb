{
  "nbformat": 4,
  "nbformat_minor": 0,
  "metadata": {
    "colab": {
      "provenance": [],
      "authorship_tag": "ABX9TyMnA4tTm9cvV/9SjlqhKkiH",
      "include_colab_link": true
    },
    "kernelspec": {
      "name": "python3",
      "display_name": "Python 3"
    },
    "language_info": {
      "name": "python"
    }
  },
  "cells": [
    {
      "cell_type": "markdown",
      "metadata": {
        "id": "view-in-github",
        "colab_type": "text"
      },
      "source": [
        "<a href=\"https://colab.research.google.com/github/CogPsychCoding/psych138files/blob/main/Lectures/Lecture2/Lecture2.ipynb\" target=\"_parent\"><img src=\"https://colab.research.google.com/assets/colab-badge.svg\" alt=\"Open In Colab\"/></a>"
      ]
    },
    {
      "cell_type": "markdown",
      "source": [
        "# Lecture 2 Class Notes"
      ],
      "metadata": {
        "id": "dkPED0Sp16qp"
      }
    },
    {
      "cell_type": "markdown",
      "source": [
        "## Setup"
      ],
      "metadata": {
        "id": "DmQS1_EtLphm"
      }
    },
    {
      "cell_type": "code",
      "source": [
        "# Ignore This!\n",
        "# !pip install flake8 pycodestyle_magic\n",
        "# %load_ext pycodestyle_magic\n",
        "# %pycodestyle_on"
      ],
      "metadata": {
        "id": "ZrKtS-peSIiy"
      },
      "execution_count": null,
      "outputs": []
    },
    {
      "cell_type": "code",
      "source": [
        "from math import degrees, atan"
      ],
      "metadata": {
        "id": "bM7EMn_MLhiR"
      },
      "execution_count": 1,
      "outputs": []
    },
    {
      "cell_type": "markdown",
      "source": [
        "## Planning"
      ],
      "metadata": {
        "id": "Wz31yynfLiOs"
      }
    },
    {
      "cell_type": "markdown",
      "source": [
        "### Stuff They've Learned\n",
        "\n",
        "**Videos 2 and 3**\n",
        "\n",
        "- Functions (using, not writing) are like mini-programs in your program.\n",
        "\n",
        "- free floating and endofline comments at end of line\n",
        "- The print() function displays the value passed to it.\n",
        "    - values passed in as values/arguments\n",
        "    - \"calling\" the print function\n",
        "- The input() function lets users type in a value.\n",
        "- The len() function takes a string value and returns an integer value of the string's length.\n",
        "- The int(), str(), and float() functions can be used to convert values' data type."
      ],
      "metadata": {
        "id": "I8GbKem7YnJa"
      }
    },
    {
      "cell_type": "code",
      "source": [],
      "metadata": {
        "id": "HMxt3CMSYsvx"
      },
      "execution_count": 5,
      "outputs": []
    },
    {
      "cell_type": "markdown",
      "source": [
        "### DVA Calculation"
      ],
      "metadata": {
        "id": "FCKMZ8Oxe3Lm"
      }
    },
    {
      "cell_type": "code",
      "source": [
        "# https://bit.ly/3rFpeuk\n",
        "\n",
        "\n",
        "%%html\n",
        "\\[DVAradians = atan(\\frac{StimulusRes}{ViewDistance\\times{{\\frac{DisplayRes}{DisplaySize}}}})\\]\n",
        "<script type=\"text/javascript\" src=\"https://www.hostmath.com/Math/MathJax.js?config=OK\"></script>"
      ],
      "metadata": {
        "colab": {
          "base_uri": "https://localhost:8080/",
          "height": 96
        },
        "id": "jOlv5u51e6dK",
        "outputId": "a36e620b-b90f-45ee-bfd8-5e41f822fcdd"
      },
      "execution_count": 6,
      "outputs": [
        {
          "output_type": "display_data",
          "data": {
            "text/plain": [
              "<IPython.core.display.HTML object>"
            ],
            "text/html": [
              "\\[DVAradians = atan(\\frac{StimulusRes}{ViewDistance\\times{{\\frac{DisplayRes}{DisplaySize}}}})\\]\n",
              "<script type=\"text/javascript\" src=\"https://www.hostmath.com/Math/MathJax.js?config=OK\"></script>\n"
            ]
          },
          "metadata": {}
        }
      ]
    },
    {
      "cell_type": "markdown",
      "source": [
        "### Works"
      ],
      "metadata": {
        "id": "nUjroYEBPBPW"
      }
    },
    {
      "cell_type": "code",
      "source": [
        "stmulus_deg_visual_angle = degrees(atan(50/(400*(1280/337))))\n",
        "print(\"stmulus_deg_visual_angle =\", stmulus_deg_visual_angle)"
      ],
      "metadata": {
        "colab": {
          "base_uri": "https://localhost:8080/"
        },
        "id": "D0nHEd41PFBt",
        "outputId": "02377afb-7fcd-4e74-c555-56e76667b621"
      },
      "execution_count": 7,
      "outputs": [
        {
          "output_type": "stream",
          "name": "stdout",
          "text": [
            "stmulus_deg_visual_angle = 1.884932742705274\n"
          ]
        }
      ]
    },
    {
      "cell_type": "markdown",
      "source": [
        "### Easier to modify"
      ],
      "metadata": {
        "id": "Gh-gyuWwO4Jz"
      }
    },
    {
      "cell_type": "markdown",
      "source": [
        "### Degrees of Visual Angle Calculator"
      ],
      "metadata": {
        "id": "pmoR6UxTF-Nm"
      }
    },
    {
      "cell_type": "markdown",
      "source": [],
      "metadata": {
        "id": "vyJkplU7LjsA"
      }
    },
    {
      "cell_type": "code",
      "source": [
        "stim_width_px = 50\n",
        "# stim_width_px = float(input(\"Enter the stimulus width in pixels: \"))\n",
        "view_distance_mm = 400\n",
        "screen_width_px = 1280\n",
        "screen_width_mm = 337\n",
        "\n",
        "stmulus_deg_visual_angle = degrees(atan(stim_width_px / (view_distance_mm * (screen_width_px / screen_width_mm))))\n",
        "print(\"stmulus_deg_visual_angle =\", stmulus_deg_visual_angle)\n"
      ],
      "metadata": {
        "id": "dneYECmiLktw",
        "colab": {
          "base_uri": "https://localhost:8080/"
        },
        "outputId": "5af46a94-bfac-4300-aaa9-668fdd268f26"
      },
      "execution_count": 8,
      "outputs": [
        {
          "output_type": "stream",
          "name": "stdout",
          "text": [
            "stmulus_deg_visual_angle = 1.884932742705274\n"
          ]
        }
      ]
    },
    {
      "cell_type": "markdown",
      "source": [
        "## Rules\n",
        "\n",
        "Variables\n",
        "\n",
        "- use descriptive variable names!\n",
        "- use underscores between words\n",
        "- all lowercase\n",
        "\n",
        "Units\n",
        "\n",
        "- either indicate in variable name or in comment\n",
        "\n",
        "Spaces between lines\n",
        "\n",
        "- not technically required, but consider clumping related elements for easier READABILITY\n",
        "\n",
        "General Formatting\n",
        "\n",
        "- PEP8 (Later??)"
      ],
      "metadata": {
        "id": "Obnl6TRFPmGn"
      }
    }
  ]
}