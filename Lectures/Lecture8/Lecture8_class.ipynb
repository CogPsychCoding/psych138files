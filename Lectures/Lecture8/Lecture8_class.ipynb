{
  "nbformat": 4,
  "nbformat_minor": 0,
  "metadata": {
    "colab": {
      "provenance": [],
      "authorship_tag": "ABX9TyPRpLRQK7J+Wqf5o+GVss5P",
      "include_colab_link": true
    },
    "kernelspec": {
      "name": "python3",
      "display_name": "Python 3"
    },
    "language_info": {
      "name": "python"
    }
  },
  "cells": [
    {
      "cell_type": "markdown",
      "metadata": {
        "id": "view-in-github",
        "colab_type": "text"
      },
      "source": [
        "<a href=\"https://colab.research.google.com/github/CogPsychCoding/psych138files/blob/main/Lectures/Lecture8/Lecture8_class.ipynb\" target=\"_parent\"><img src=\"https://colab.research.google.com/assets/colab-badge.svg\" alt=\"Open In Colab\"/></a>"
      ]
    },
    {
      "cell_type": "markdown",
      "source": [
        "# Setup"
      ],
      "metadata": {
        "id": "YH9A7Lwyj1zi"
      }
    },
    {
      "cell_type": "code",
      "source": [
        "import random"
      ],
      "metadata": {
        "id": "51VvqAuEj3hR"
      },
      "execution_count": null,
      "outputs": []
    },
    {
      "cell_type": "markdown",
      "source": [
        "# Lecture 8\n",
        "\n",
        "Stuff from Video 14\n",
        "\n",
        "- A for loop technically iterates over the values in a list.\n",
        "- The range() function returns a list-like value, which can be passed to the list() function if you need an actual list value.\n",
        "- Variables can swap their values using multiple assignment: a, b = b, a\n",
        "- Augmented assignment operators like += are used as shortcuts."
      ],
      "metadata": {
        "id": "Vi3LYDJBj4Bh"
      }
    },
    {
      "cell_type": "markdown",
      "source": [
        "NOTE other stuff from Ch4, only some on test:\n",
        "\n",
        "- neg index\n",
        "- sublists from slices\n",
        "- changing slices\n",
        "- concatenation\n",
        "- replication\n",
        "- append/insert/\n",
        "- index\n",
        "- sort()\n",
        "- remove()\n",
        "- del\n",
        "\n",
        "Related Stuff\n",
        "\n",
        "- **sorted()**\n",
        "- **random.shuffle()**\n",
        "- **pop()**"
      ],
      "metadata": {
        "id": "o4bAL3bYkSqV"
      }
    },
    {
      "cell_type": "markdown",
      "source": [
        "# **Question 1**\n",
        "\n",
        "- Write a program that generates 20 unique random numbers between 1 and 100 (inclusive).\n",
        "- When 20 unique random numbers have been generated, print the entire list to the user.\n",
        "- Print the list a second time in order.\n",
        "\n",
        "E.g.:\n",
        "\n",
        "```\n",
        "[56, 68, 36, 81, 85, 10, 37, 27, 76, 11, 13, 17, 92, 44, 41, 51, 48, 78, 7, 15]\n",
        "[7, 10, 11, 13, 15, 17, 27, 36, 37, 41, 44, 48, 51, 56, 68, 76, 78, 81, 85, 92]\n",
        "\n",
        "```\n"
      ],
      "metadata": {
        "id": "K62gGz3yMjmi"
      }
    },
    {
      "cell_type": "code",
      "source": [
        "numbers = []\n",
        "while len(numbers) < 20:\n",
        "    random_number = random.randint(1, 100)\n",
        "    if random_number not in numbers:\n",
        "        numbers.append(random_number)\n",
        "\n",
        "sorted_numbers = numbers.copy()\n",
        "sorted_numbers.sort()\n",
        "\n",
        "print(numbers)\n",
        "print(sorted_numbers)"
      ],
      "metadata": {
        "id": "EBAItxnnDgDI",
        "colab": {
          "base_uri": "https://localhost:8080/"
        },
        "outputId": "fb2e0b80-36ca-438d-b917-c64858a47749"
      },
      "execution_count": null,
      "outputs": [
        {
          "output_type": "stream",
          "name": "stdout",
          "text": [
            "[48, 46, 7, 19, 23, 78, 44, 86, 49, 4, 52, 53, 51, 12, 56, 91, 54, 40, 11, 65]\n",
            "[4, 7, 11, 12, 19, 23, 40, 44, 46, 48, 49, 51, 52, 53, 54, 56, 65, 78, 86, 91]\n"
          ]
        }
      ]
    },
    {
      "cell_type": "code",
      "source": [
        "numbers = []\n",
        "while len(numbers) < 20:\n",
        "    random_number = random.randint(1, 100)\n",
        "    if random_number not in numbers:\n",
        "        numbers.append(random_number)\n",
        "\n",
        "print(numbers)\n",
        "print(sorted(numbers))\n",
        "random.shuffle(numbers)\n",
        "print(numbers)"
      ],
      "metadata": {
        "colab": {
          "base_uri": "https://localhost:8080/"
        },
        "id": "bVOxdDjfZXgK",
        "outputId": "d7d701bd-0c5d-4647-dfff-c5c1673a8f39"
      },
      "execution_count": null,
      "outputs": [
        {
          "output_type": "stream",
          "name": "stdout",
          "text": [
            "[92, 50, 36, 55, 32, 27, 91, 8, 23, 18, 80, 46, 77, 12, 15, 29, 100, 63, 96, 3]\n",
            "[3, 8, 12, 15, 18, 23, 27, 29, 32, 36, 46, 50, 55, 63, 77, 80, 91, 92, 96, 100]\n",
            "[92, 46, 100, 36, 63, 12, 3, 55, 96, 50, 91, 80, 27, 29, 18, 32, 23, 15, 77, 8]\n"
          ]
        }
      ]
    },
    {
      "cell_type": "markdown",
      "source": [
        "## Fake Data\n",
        "\n",
        "- Condition: half Easy, half Hard\n",
        "- Color: Easy cond is half red/green, Hard cond is half red/green\n",
        "- RTs: Easy RTs tend to be between 150 and 500, Hard RTs tend to be between 300 and 650\n",
        "\n",
        "GOAL:\n",
        "\n",
        "```Python\n",
        "['easy', 'easy', 'easy', 'easy', 'hard', 'hard', 'hard', 'hard']\n",
        "['red', 'green', 'red', 'green', 'red', 'green', 'red', 'green']\n",
        "[207, 320, 204, 367, 593, 623, 541, 462]\n",
        "```"
      ],
      "metadata": {
        "id": "BsUYw9jD_A_e"
      }
    },
    {
      "cell_type": "code",
      "source": [],
      "metadata": {
        "id": "kqfdBp4jnoX4"
      },
      "execution_count": null,
      "outputs": []
    },
    {
      "cell_type": "markdown",
      "source": [
        "## Pythonic vs Non-Pythonic List Iteration"
      ],
      "metadata": {
        "id": "evK8h6SUERrL"
      }
    },
    {
      "cell_type": "code",
      "source": [
        "# NON PYTHONIC\n",
        "numbers = ['one', 'two', 'three', 'four']\n",
        "for index in range(len(numbers)):\n",
        "    print(index, numbers[index])"
      ],
      "metadata": {
        "colab": {
          "base_uri": "https://localhost:8080/"
        },
        "id": "xRV-L1PbEWsi",
        "outputId": "fea0c9c7-8934-406b-89f0-85afb768bfe1"
      },
      "execution_count": null,
      "outputs": [
        {
          "output_type": "stream",
          "name": "stdout",
          "text": [
            "0 one\n",
            "1 two\n",
            "2 three\n",
            "3 four\n"
          ]
        }
      ]
    },
    {
      "cell_type": "code",
      "source": [
        "list(enumerate(numbers))"
      ],
      "metadata": {
        "colab": {
          "base_uri": "https://localhost:8080/"
        },
        "id": "rdWRwYV2dvYD",
        "outputId": "1f25b9bb-7db1-472c-9775-59ed12902d19"
      },
      "execution_count": null,
      "outputs": [
        {
          "output_type": "execute_result",
          "data": {
            "text/plain": [
              "[(0, 'one'), (1, 'two'), (2, 'three'), (3, 'four')]"
            ]
          },
          "metadata": {},
          "execution_count": 19
        }
      ]
    },
    {
      "cell_type": "code",
      "source": [
        "# PYTHONIC\n",
        "for index, item in enumerate(numbers):\n",
        "    print(index, item)"
      ],
      "metadata": {
        "colab": {
          "base_uri": "https://localhost:8080/"
        },
        "id": "ahRfVcYIdRd3",
        "outputId": "554f191d-1b13-4de3-bbaf-a0f5306ddc12"
      },
      "execution_count": null,
      "outputs": [
        {
          "output_type": "stream",
          "name": "stdout",
          "text": [
            "0 one\n",
            "1 two\n",
            "2 three\n",
            "3 four\n"
          ]
        }
      ]
    },
    {
      "cell_type": "code",
      "source": [
        "mylist = [1, 2, [3,4,5]]\n",
        "\n",
        "a, b, c = mylist\n",
        "\n",
        "\n",
        "\n",
        "print(a, b, c)"
      ],
      "metadata": {
        "colab": {
          "base_uri": "https://localhost:8080/"
        },
        "id": "jsy4a5Bre5XX",
        "outputId": "35fd2a0a-9512-4c36-c662-8beaa76605cc"
      },
      "execution_count": null,
      "outputs": [
        {
          "output_type": "stream",
          "name": "stdout",
          "text": [
            "1 2 [3, 4, 5]\n"
          ]
        }
      ]
    },
    {
      "cell_type": "code",
      "source": [],
      "metadata": {
        "id": "aUQLEyN9gT14"
      },
      "execution_count": null,
      "outputs": []
    },
    {
      "cell_type": "markdown",
      "source": [
        "## Assistant\n",
        "\n",
        "- no `str.split()`\n",
        "- Commands:\n",
        "    - show\n",
        "    - sort\n",
        "        - complain if nothing in list\n",
        "    - count\n",
        "    - add NAME\n",
        "        - comlain if name already there\n",
        "    - remove NAME\n",
        "        - complain if name not there\n",
        "    - position NAME\n",
        "        - if not there, say so\n",
        "- empty command quits\n",
        "- bogus command complains and shows command list\n"
      ],
      "metadata": {
        "id": "VBnQlYqysVTA"
      }
    },
    {
      "cell_type": "code",
      "source": [
        "assistants = ['Travis', 'Jen', 'Leo', 'Isaac']\n",
        "# while True:\n",
        "#     command = input(\"What should I do? \")\n",
        "#     \"remove Travis\"\n",
        "assistants.index('Isaac')\n",
        "\"this is the way\".find('is')"
      ],
      "metadata": {
        "id": "enWFgXNkBjPe",
        "colab": {
          "base_uri": "https://localhost:8080/"
        },
        "outputId": "4db2330c-fa0b-462d-e597-ed386cf9ab9c"
      },
      "execution_count": null,
      "outputs": [
        {
          "output_type": "execute_result",
          "data": {
            "text/plain": [
              "2"
            ]
          },
          "metadata": {},
          "execution_count": 49
        }
      ]
    },
    {
      "cell_type": "code",
      "source": [
        "# CANT USE THIS\n",
        "\n",
        "cmd = \"remove Travis\"\n",
        "cmd.split(' ')"
      ],
      "metadata": {
        "colab": {
          "base_uri": "https://localhost:8080/"
        },
        "id": "qqhli-I9jB0F",
        "outputId": "67f88999-b27d-4733-c18e-58d0cccf24e0"
      },
      "execution_count": null,
      "outputs": [
        {
          "output_type": "execute_result",
          "data": {
            "text/plain": [
              "['remove', 'Travis']"
            ]
          },
          "metadata": {},
          "execution_count": 28
        }
      ]
    },
    {
      "cell_type": "code",
      "source": [
        "cmd[0:7]"
      ],
      "metadata": {
        "colab": {
          "base_uri": "https://localhost:8080/",
          "height": 35
        },
        "id": "FwnSln7ikLy8",
        "outputId": "dd8d5138-cccf-4704-a595-569f5cf7262c"
      },
      "execution_count": null,
      "outputs": [
        {
          "output_type": "execute_result",
          "data": {
            "text/plain": [
              "'remove '"
            ],
            "application/vnd.google.colaboratory.intrinsic+json": {
              "type": "string"
            }
          },
          "metadata": {},
          "execution_count": 31
        }
      ]
    },
    {
      "cell_type": "code",
      "source": [
        "cmd[7:]"
      ],
      "metadata": {
        "colab": {
          "base_uri": "https://localhost:8080/",
          "height": 35
        },
        "id": "NCvqMo0pkeoh",
        "outputId": "eca80a7e-5749-46e6-ba0c-58bf927ade13"
      },
      "execution_count": null,
      "outputs": [
        {
          "output_type": "execute_result",
          "data": {
            "text/plain": [
              "'Travis'"
            ],
            "application/vnd.google.colaboratory.intrinsic+json": {
              "type": "string"
            }
          },
          "metadata": {},
          "execution_count": 33
        }
      ]
    },
    {
      "cell_type": "code",
      "source": [
        "assistants.remove(cmd[7:])\n",
        "assistants"
      ],
      "metadata": {
        "colab": {
          "base_uri": "https://localhost:8080/"
        },
        "id": "GrVorbT_kvxC",
        "outputId": "9fdcbdb1-2f39-458c-fb86-532d9af1bea2"
      },
      "execution_count": null,
      "outputs": [
        {
          "output_type": "execute_result",
          "data": {
            "text/plain": [
              "['Jen', 'Leo', 'Isaac']"
            ]
          },
          "metadata": {},
          "execution_count": 50
        }
      ]
    },
    {
      "cell_type": "markdown",
      "source": [
        "## More Advanced\n",
        "\n",
        "Additional Commands:\n",
        "\n",
        "- insert NAME@POS\n",
        "- remove START:STOP"
      ],
      "metadata": {
        "id": "F0ma8Q4CBkYo"
      }
    }
  ]
}