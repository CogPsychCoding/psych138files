{
  "nbformat": 4,
  "nbformat_minor": 0,
  "metadata": {
    "colab": {
      "provenance": [],
      "include_colab_link": true
    },
    "kernelspec": {
      "name": "python3",
      "display_name": "Python 3"
    },
    "language_info": {
      "name": "python"
    }
  },
  "cells": [
    {
      "cell_type": "markdown",
      "metadata": {
        "id": "view-in-github",
        "colab_type": "text"
      },
      "source": [
        "<a href=\"https://colab.research.google.com/github/CogPsychCoding/psych138files/blob/main/Lectures/Lecture7/Lecture7_to_post_Ryan.ipynb\" target=\"_parent\"><img src=\"https://colab.research.google.com/assets/colab-badge.svg\" alt=\"Open In Colab\"/></a>"
      ]
    },
    {
      "cell_type": "markdown",
      "source": [
        "# Setup"
      ],
      "metadata": {
        "id": "rh067_xYfp-y"
      }
    },
    {
      "cell_type": "code",
      "source": [
        "import math\n",
        "from IPython.display import clear_output\n",
        "import time\n",
        "import random\n",
        "import statistics\n"
      ],
      "metadata": {
        "id": "5AVY85MqfryU"
      },
      "execution_count": null,
      "outputs": []
    },
    {
      "cell_type": "markdown",
      "source": [
        "# Lecture 7\n",
        "\n",
        "### We will be improving on our two-back task today, so you may want to make a copy of last lecture's notebook to use as your notes today.\n",
        "\n",
        "\n",
        "#### Video 13 Takeaways\n",
        "\n",
        "- A list is a value that contains multiple values of any type: `[42, 3.14, ‘hello']`\n",
        "- The values in a list are also called items.\n",
        "- indexing\n",
        "    - You can access items in a list with its integer index.\n",
        "- zero-indexed\n",
        "    - The indexes start at 0, not 1.\n",
        "    - first item of list can be accessed by `spam[0]`\n",
        "- negative indexing\n",
        "    - You can also use negative indexes: -1 refers to the last item, -2 refers to the second to last item, and so on.\n",
        "    - final item of list can be accessed by `spam[-1]`\n",
        "- slicing\n",
        "    - You can get multiple items from the list using a slice: `my_list[2:4]`.\n",
        "    - The slice has two indexes. The new list's items start at the first index and go up to, but doesn't include, the second index.\n",
        "- The len() function, concatenation, and replication work the same way on lists that they do with strings.\n",
        "- casting\n",
        "    - You can convert a value into a list by passing it to the list() function.\n",
        "\n",
        "<font color=\"blue\">NOTE: **Next Time** we'll talk about looping over iterables such as lists</b>"
      ],
      "metadata": {
        "id": "wioyWlrFfsPc"
      }
    },
    {
      "cell_type": "markdown",
      "source": [
        "## warm up!: generate a random integer between 48 and 55 (including boundaries)\n",
        "- bonus: can you think of a way to do this without using random.randint?"
      ],
      "metadata": {
        "id": "olKsxmxJIbeP"
      }
    },
    {
      "cell_type": "markdown",
      "source": [
        "![]()"
      ],
      "metadata": {
        "id": "xFOWeT6TkEFm"
      }
    },
    {
      "cell_type": "code",
      "source": [
        "print(random.randint(48,55))"
      ],
      "metadata": {
        "colab": {
          "base_uri": "https://localhost:8080/"
        },
        "id": "-u2cdMtbSz5V",
        "outputId": "0b266975-697f-4a1f-ff67-0500a8e97a36"
      },
      "execution_count": null,
      "outputs": [
        {
          "output_type": "stream",
          "name": "stdout",
          "text": [
            "53\n"
          ]
        }
      ]
    },
    {
      "cell_type": "markdown",
      "source": [
        "### warm-up!: answer"
      ],
      "metadata": {
        "id": "IxO1iiSjJelI"
      }
    },
    {
      "cell_type": "code",
      "source": [
        "print(random.randint(48, 55))\n",
        "\n",
        "numbers = list(range(48, 55+1))  # generate list from range\n",
        "print(numbers)\n",
        "print(random.choice(numbers))  # randomly choose one item from the list of numbers\n",
        "print(random.shuffle(numbers))\n",
        "print(numbers)"
      ],
      "metadata": {
        "colab": {
          "base_uri": "https://localhost:8080/"
        },
        "id": "SLTvOl8-I2j8",
        "outputId": "573386af-7117-41e7-c0f7-65780f5639e1"
      },
      "execution_count": null,
      "outputs": [
        {
          "output_type": "stream",
          "name": "stdout",
          "text": [
            "53\n",
            "[48, 49, 50, 51, 52, 53, 54, 55]\n",
            "49\n",
            "None\n",
            "[53, 54, 52, 55, 48, 50, 49, 51]\n"
          ]
        }
      ]
    },
    {
      "cell_type": "markdown",
      "source": [
        "## Some of what you learned for lists can be transfered to strings!\n",
        "- Checking membership with the `in` keyword\n",
        "- Indexing\n",
        "- Slicing\n",
        "- length checking\n",
        "\n"
      ],
      "metadata": {
        "id": "vPg0hHhppPzs"
      }
    },
    {
      "cell_type": "code",
      "source": [
        "director = 'John Singleton'\n",
        "\n",
        "print(f\"{'S' in director=}\")  # uses little f-string trick,\n",
        "print(f\"{'s' in director=}\")  # notice '=' at the end of expression\n",
        "print(f\"{'oh' in director=}\") # it prints value, but prepends the expression\n",
        "print(f\"{'ton' in director=}\")\n",
        "print(f\"{'show' not in director=}\")"
      ],
      "metadata": {
        "id": "6_0-C-8gpxQF",
        "colab": {
          "base_uri": "https://localhost:8080/"
        },
        "outputId": "f1366044-fd74-461a-984b-7da26c335335"
      },
      "execution_count": null,
      "outputs": [
        {
          "output_type": "stream",
          "name": "stdout",
          "text": [
            "'S' in director=True\n",
            "'s' in director=False\n",
            "'oh' in director=True\n",
            "'ton' in director=True\n",
            "'show' not in director=True\n"
          ]
        }
      ]
    },
    {
      "cell_type": "code",
      "source": [
        "# we can use in / not in for while loops\n",
        "\n",
        "confirm = 'X'\n",
        "\n",
        "# note, confirm can't initialize confirm to '' because ('' in str) always evaluates to True\n",
        "\n",
        "# can just ask whether the input response is a member of our desired responses\n",
        "while confirm not in ['yes','no']:\n",
        "    confirm = input('Ready to Continue (yes/no)')\n",
        "print('User is ready to continue' if confirm == 'yes' else 'User is NOT ready to continue.')"
      ],
      "metadata": {
        "id": "6h5eMuP1qbVZ",
        "colab": {
          "base_uri": "https://localhost:8080/"
        },
        "outputId": "d832221d-27c3-4438-c4b6-9569ddd158d4"
      },
      "execution_count": null,
      "outputs": [
        {
          "output_type": "stream",
          "name": "stdout",
          "text": [
            "Ready to Continue (yes/no)klsdjfa\n",
            "Ready to Continue (yes/no)nqwermn\n",
            "Ready to Continue (yes/no)y\n",
            "Ready to Continue (yes/no)yes\n",
            "User is ready to continue\n"
          ]
        }
      ]
    },
    {
      "cell_type": "code",
      "source": [
        "# instead of having to check for each desired/valid responses separately\n",
        "while True:\n",
        "     confirm = input('Ready to Continue (y/n)')\n",
        "     if confirm == \"y\" or confirm == \"n\":  # imagine if we had to check for many desired responses\n",
        "        break\n",
        "print('User is ready to continue' if confirm == 'y' else 'User is NOT ready to continue.')"
      ],
      "metadata": {
        "id": "-4lJBV7yn4VQ"
      },
      "execution_count": null,
      "outputs": []
    },
    {
      "cell_type": "markdown",
      "source": [
        "## What is the N-Back Task?\n",
        "\n",
        "<img title=\"2-Back Task\" alt=\"2-Back Task Image\" src=\"https://www.dropbox.com/scl/fi/bgokl8pssceeh9wrnqzel/verbal-n-back-task.png?rlkey=2fomyhcpdmbnxxq3gab4sy0ho&dl=1\" width=800>\n"
      ],
      "metadata": {
        "id": "WycKGysjgvLX"
      }
    },
    {
      "cell_type": "markdown",
      "source": [
        "## Coding the N-back task\n",
        "\n",
        "- This time we're going to use lists to keep track of things\n",
        "    - how did we keep track of values last lecture?\n",
        "- We're also going to treat strings like iterables"
      ],
      "metadata": {
        "id": "VWDH0iTcmkYl"
      }
    },
    {
      "cell_type": "code",
      "source": [
        "# function for clearing the screen\n",
        "\n",
        "def clear_the_screen():\n",
        "    print('-----------------')"
      ],
      "metadata": {
        "id": "Wq6JoltPoHEE"
      },
      "execution_count": null,
      "outputs": []
    },
    {
      "cell_type": "markdown",
      "source": [
        "## generate a random letter"
      ],
      "metadata": {
        "id": "To9X9LUFpDbC"
      }
    },
    {
      "cell_type": "code",
      "source": [
        "# Our old function to generate a random letter\n",
        "def generate_random_letter():\n",
        "    index = random.randint(1, 5)\n",
        "    if index == 1:\n",
        "        return 'A'\n",
        "    elif index == 2:\n",
        "        return 'B'\n",
        "    elif index == 3:\n",
        "        return 'C'\n",
        "    elif index == 4:\n",
        "        return 'D'\n",
        "    else:\n",
        "        return 'E'\n",
        "\n",
        "# test it\n",
        "letter = generate_random_letter()\n",
        "print(letter)\n",
        "\n",
        "def generate_random_letter():\n",
        "    index = random.randint(1, 5)\n",
        "    if index == 1:\n",
        "        print( 'A')\n",
        "    elif index == 2:\n",
        "        print( 'B' )\n",
        "    elif index == 3:\n",
        "        print( 'C')\n",
        "    elif index == 4:\n",
        "        print( 'D')\n",
        "    elif index == 5:\n",
        "        print( 'E')\n",
        "    else:\n",
        "        print(\"input out of bounds!\")\n",
        "\n",
        "# test it\n",
        "#letter = generate_random_letter()\n",
        "#print(letter)"
      ],
      "metadata": {
        "id": "4HumlY_4tNIS",
        "colab": {
          "base_uri": "https://localhost:8080/"
        },
        "outputId": "7568f2d5-d01c-4426-c653-cb84d13a40ee"
      },
      "execution_count": null,
      "outputs": [
        {
          "output_type": "stream",
          "name": "stdout",
          "text": [
            "C\n"
          ]
        }
      ]
    },
    {
      "cell_type": "code",
      "source": [
        "# Our new function to generate a random letter\n",
        "# can you think of a way to generate a random letter using a list?\n",
        "def generate_random_letter():\n",
        "    letters = [\"A\", \"B\", \"C\", \"D\", \"E\"]\n",
        "    return letters[0::]\n",
        "\n",
        "\n",
        "print(generate_random_letter())\n",
        "\n",
        "def generate_random_letter():\n",
        "    letters = [\"A\", \"B\", \"C\", \"D\", \"E\"]\n",
        "    return random.choice(letters)\n",
        "\n",
        "\n",
        "print(generate_random_letter())"
      ],
      "metadata": {
        "id": "4k4-zqlKB7Vl",
        "colab": {
          "base_uri": "https://localhost:8080/"
        },
        "outputId": "d9f1e1ad-d5a4-4c3a-994b-cc202e953a6d"
      },
      "execution_count": null,
      "outputs": [
        {
          "output_type": "stream",
          "name": "stdout",
          "text": [
            "['A', 'B', 'C', 'D', 'E']\n",
            "B\n"
          ]
        }
      ]
    },
    {
      "cell_type": "code",
      "source": [
        "# Our new function to generate a random letter\n",
        "# can you think of a way to generate a random number, but with less writing\n",
        "def generate_random_letter():\n",
        "    letters = \"ABCDE\"\n",
        "    return random.choice(letters)\n",
        "\n",
        "\n",
        "print(generate_random_letter())"
      ],
      "metadata": {
        "id": "74yYsZ_tpOYZ",
        "colab": {
          "base_uri": "https://localhost:8080/"
        },
        "outputId": "0d6f9d9e-16a5-4f41-bfc0-67d8470a5771"
      },
      "execution_count": null,
      "outputs": [
        {
          "output_type": "stream",
          "name": "stdout",
          "text": [
            "E\n"
          ]
        }
      ]
    },
    {
      "cell_type": "markdown",
      "source": [
        "NOTE: We're adjusting this so that it gives appropriate instructions depending on whether this is a 1-back, 2-back, etc. version of the task."
      ],
      "metadata": {
        "id": "FW3gTTFKFwgR"
      }
    },
    {
      "cell_type": "code",
      "source": [
        "# old way\n",
        "\n",
        "def show_instructions():\n",
        "    print('INSTRUCTIONS:')\n",
        "    print('On each trial you will see a new letter.')\n",
        "    print('If it is the same letter you saw 2 letters ago, press the U key with your right index finger.')\n",
        "    print('Otherwise, press the R key with your left index finger.')\n",
        "    print()\n",
        "\n",
        "    # note that we don't have to assign anything here if we don't care about the input\n",
        "    input('Hit ENTER to Continue ')\n",
        "\n",
        "    clear_the_screen()"
      ],
      "metadata": {
        "id": "A1USgUHvyGwT"
      },
      "execution_count": null,
      "outputs": []
    },
    {
      "cell_type": "markdown",
      "source": [
        "## update show_instructions() to take in any number n-back"
      ],
      "metadata": {
        "id": "6YLUmZqr3_1G"
      }
    },
    {
      "cell_type": "code",
      "source": [
        "# new way\n",
        "\n",
        "def show_instructions(n):\n",
        "    print(f'{n}-BACK TASK INSTRUCTIONS:')\n",
        "    print('On each trial you will see a new letter.')\n",
        "    print(f'If it is the same letter you saw {n} letters ago, press the U key with your right index finger.')\n",
        "    print('Otherwise, press the R key with your left index finger.')\n",
        "    print('')\n",
        "\n",
        "    # note that we don't have to assign anything here if we don't care about the input\n",
        "    input('Hit ENTER to Continue ')\n",
        "\n",
        "    clear_the_screen()\n",
        "\n",
        "\n",
        "show_instructions(n=2)"
      ],
      "metadata": {
        "id": "Ji9-sBAX1K-9",
        "colab": {
          "base_uri": "https://localhost:8080/"
        },
        "outputId": "e425683a-59ff-4fc6-cc5e-9219c18e5662"
      },
      "execution_count": null,
      "outputs": [
        {
          "output_type": "stream",
          "name": "stdout",
          "text": [
            "2-BACK TASK INSTRUCTIONS:\n",
            "On each trial you will see a new letter.\n",
            "If it is the same letter you saw 2 letters ago, press the U key with your right index finger.\n",
            "Otherwise, press the R key with your left index finger.\n",
            "\n",
            "Hit ENTER to Continue \n",
            "-----------------\n"
          ]
        }
      ]
    },
    {
      "cell_type": "markdown",
      "source": [
        "## old 2-back"
      ],
      "metadata": {
        "id": "9iUuwO2I33Iu"
      }
    },
    {
      "cell_type": "code",
      "source": [
        "# NOTE: We're starting with out with the code from our 2-back task!\n",
        "def n_back_task(n):\n",
        "    trials = 10\n",
        "\n",
        "    # initialize variables to hold letters over time\n",
        "    stimulus_history = []\n",
        "\n",
        "    # initialize variables to hold correct rts over time\n",
        "    correct_rt_history = []\n",
        "\n",
        "    # show instructions with desired N back\n",
        "    show_instructions(n=2)\n",
        "\n",
        "    # loop through as many trials as i want, (i.e., present as many letters as i want)\n",
        "    for trial in range(trials):\n",
        "\n",
        "        # present a letter\n",
        "        stimulus = generate_random_letter()\n",
        "\n",
        "        # define the correct response given the presented letter\n",
        "        if len(stimulus) >= n:  # check that we've actually seen enough letters to check n-back\n",
        "            if stimulus_history[-n] == stimulus:\n",
        "                correct_response = 'u'\n",
        "            else:\n",
        "                correct_response = 'r'\n",
        "        else:\n",
        "            correct_response = 'r'\n",
        "\n",
        "        # collect response\n",
        "        timer_start = time.time()\n",
        "        response = input(f\"{stimulus}: \")\n",
        "        rt = time.time() - timer_start\n",
        "\n",
        "        # if correct, save rt\n",
        "        if response == correct_response:\n",
        "            correct_rt_history.append(rt)\n",
        "        print(correct_rt_history)\n",
        "\n",
        "        # update history/memory\n",
        "        stimulus_history.append(stimulus)\n",
        "        print(stimulus_history)\n",
        "\n",
        "        # finally clear the screen\n",
        "        clear_the_screen()\n",
        "\n",
        "    # after all trials presented, do stats on correct responses\n",
        "    correct_trial_percentage = (len(correct_rt_history)/trials*100 if len(correct_rt_history) else 0)\n",
        "    if correct_rt_history:\n",
        "        rt_avg = sum(correct_rt_history) / len(correct_rt_history) * 1000\n",
        "        rt_min = min(correct_rt_history)\n",
        "        rt_max = max(correct_rt_history)\n",
        "        rt_stdev = statistics.stdev(correct_rt_history) if len(correct_rt_history) >= 2 else 0\n",
        "\n",
        "    print('RESULTS:')\n",
        "    print(f'\\tCorrect RTs: {correct_rt_history}/{trials} ({correct_trial_percentage:0.2f}%)')\n",
        "    print(f'\\tAverage Correct RT: {rt_avg} ms.')\n",
        "\n",
        "n_back_task(2)\n",
        "n_back_task(5)\n",
        "n_back_task(2)"
      ],
      "metadata": {
        "id": "mVLvDc2iz1_J",
        "colab": {
          "base_uri": "https://localhost:8080/",
          "height": 699
        },
        "outputId": "5b2692d2-3828-44c6-e554-d5fb0e732946"
      },
      "execution_count": null,
      "outputs": [
        {
          "output_type": "stream",
          "name": "stdout",
          "text": [
            "2-BACK TASK INSTRUCTIONS:\n",
            "On each trial you will see a new letter.\n",
            "If it is the same letter you saw 2 letters ago, press the U key with your right index finger.\n",
            "Otherwise, press the R key with your left index finger.\n",
            "\n",
            "Hit ENTER to Continue \n",
            "-----------------\n",
            "E: r\n",
            "[4.603473424911499]\n",
            "['E']\n",
            "-----------------\n",
            "D: r\n",
            "[4.603473424911499, 16.115899801254272]\n",
            "['E', 'D']\n",
            "-----------------\n",
            "A: r\n",
            "[4.603473424911499, 16.115899801254272, 2.169546127319336]\n",
            "['E', 'D', 'A']\n",
            "-----------------\n"
          ]
        },
        {
          "output_type": "error",
          "ename": "KeyboardInterrupt",
          "evalue": "ignored",
          "traceback": [
            "\u001b[0;31m---------------------------------------------------------------------------\u001b[0m",
            "\u001b[0;31mKeyboardInterrupt\u001b[0m                         Traceback (most recent call last)",
            "\u001b[0;32m<ipython-input-47-0d494ffc017c>\u001b[0m in \u001b[0;36m<cell line: 62>\u001b[0;34m()\u001b[0m\n\u001b[1;32m     60\u001b[0m     '''\n\u001b[1;32m     61\u001b[0m \u001b[0;34m\u001b[0m\u001b[0m\n\u001b[0;32m---> 62\u001b[0;31m \u001b[0mn_back_task\u001b[0m\u001b[0;34m(\u001b[0m\u001b[0;36m2\u001b[0m\u001b[0;34m)\u001b[0m\u001b[0;34m\u001b[0m\u001b[0;34m\u001b[0m\u001b[0m\n\u001b[0m",
            "\u001b[0;32m<ipython-input-47-0d494ffc017c>\u001b[0m in \u001b[0;36mn_back_task\u001b[0;34m(n)\u001b[0m\n\u001b[1;32m     31\u001b[0m         \u001b[0;31m# collect response\u001b[0m\u001b[0;34m\u001b[0m\u001b[0;34m\u001b[0m\u001b[0m\n\u001b[1;32m     32\u001b[0m         \u001b[0mtimer_start\u001b[0m \u001b[0;34m=\u001b[0m \u001b[0mtime\u001b[0m\u001b[0;34m.\u001b[0m\u001b[0mtime\u001b[0m\u001b[0;34m(\u001b[0m\u001b[0;34m)\u001b[0m\u001b[0;34m\u001b[0m\u001b[0;34m\u001b[0m\u001b[0m\n\u001b[0;32m---> 33\u001b[0;31m         \u001b[0mresponse\u001b[0m \u001b[0;34m=\u001b[0m \u001b[0minput\u001b[0m\u001b[0;34m(\u001b[0m\u001b[0;34mf\"{stimulus}: \"\u001b[0m\u001b[0;34m)\u001b[0m\u001b[0;34m\u001b[0m\u001b[0;34m\u001b[0m\u001b[0m\n\u001b[0m\u001b[1;32m     34\u001b[0m         \u001b[0mrt\u001b[0m \u001b[0;34m=\u001b[0m \u001b[0mtime\u001b[0m\u001b[0;34m.\u001b[0m\u001b[0mtime\u001b[0m\u001b[0;34m(\u001b[0m\u001b[0;34m)\u001b[0m \u001b[0;34m-\u001b[0m \u001b[0mtimer_start\u001b[0m\u001b[0;34m\u001b[0m\u001b[0;34m\u001b[0m\u001b[0m\n\u001b[1;32m     35\u001b[0m \u001b[0;34m\u001b[0m\u001b[0m\n",
            "\u001b[0;32m/usr/local/lib/python3.10/dist-packages/ipykernel/kernelbase.py\u001b[0m in \u001b[0;36mraw_input\u001b[0;34m(self, prompt)\u001b[0m\n\u001b[1;32m    849\u001b[0m                 \u001b[0;34m\"raw_input was called, but this frontend does not support input requests.\"\u001b[0m\u001b[0;34m\u001b[0m\u001b[0;34m\u001b[0m\u001b[0m\n\u001b[1;32m    850\u001b[0m             )\n\u001b[0;32m--> 851\u001b[0;31m         return self._input_request(str(prompt),\n\u001b[0m\u001b[1;32m    852\u001b[0m             \u001b[0mself\u001b[0m\u001b[0;34m.\u001b[0m\u001b[0m_parent_ident\u001b[0m\u001b[0;34m,\u001b[0m\u001b[0;34m\u001b[0m\u001b[0;34m\u001b[0m\u001b[0m\n\u001b[1;32m    853\u001b[0m             \u001b[0mself\u001b[0m\u001b[0;34m.\u001b[0m\u001b[0m_parent_header\u001b[0m\u001b[0;34m,\u001b[0m\u001b[0;34m\u001b[0m\u001b[0;34m\u001b[0m\u001b[0m\n",
            "\u001b[0;32m/usr/local/lib/python3.10/dist-packages/ipykernel/kernelbase.py\u001b[0m in \u001b[0;36m_input_request\u001b[0;34m(self, prompt, ident, parent, password)\u001b[0m\n\u001b[1;32m    893\u001b[0m             \u001b[0;32mexcept\u001b[0m \u001b[0mKeyboardInterrupt\u001b[0m\u001b[0;34m:\u001b[0m\u001b[0;34m\u001b[0m\u001b[0;34m\u001b[0m\u001b[0m\n\u001b[1;32m    894\u001b[0m                 \u001b[0;31m# re-raise KeyboardInterrupt, to truncate traceback\u001b[0m\u001b[0;34m\u001b[0m\u001b[0;34m\u001b[0m\u001b[0m\n\u001b[0;32m--> 895\u001b[0;31m                 \u001b[0;32mraise\u001b[0m \u001b[0mKeyboardInterrupt\u001b[0m\u001b[0;34m(\u001b[0m\u001b[0;34m\"Interrupted by user\"\u001b[0m\u001b[0;34m)\u001b[0m \u001b[0;32mfrom\u001b[0m \u001b[0;32mNone\u001b[0m\u001b[0;34m\u001b[0m\u001b[0;34m\u001b[0m\u001b[0m\n\u001b[0m\u001b[1;32m    896\u001b[0m             \u001b[0;32mexcept\u001b[0m \u001b[0mException\u001b[0m \u001b[0;32mas\u001b[0m \u001b[0me\u001b[0m\u001b[0;34m:\u001b[0m\u001b[0;34m\u001b[0m\u001b[0;34m\u001b[0m\u001b[0m\n\u001b[1;32m    897\u001b[0m                 \u001b[0mself\u001b[0m\u001b[0;34m.\u001b[0m\u001b[0mlog\u001b[0m\u001b[0;34m.\u001b[0m\u001b[0mwarning\u001b[0m\u001b[0;34m(\u001b[0m\u001b[0;34m\"Invalid Message:\"\u001b[0m\u001b[0;34m,\u001b[0m \u001b[0mexc_info\u001b[0m\u001b[0;34m=\u001b[0m\u001b[0;32mTrue\u001b[0m\u001b[0;34m)\u001b[0m\u001b[0;34m\u001b[0m\u001b[0;34m\u001b[0m\u001b[0m\n",
            "\u001b[0;31mKeyboardInterrupt\u001b[0m: Interrupted by user"
          ]
        }
      ]
    },
    {
      "cell_type": "markdown",
      "source": [
        "## updated n-back"
      ],
      "metadata": {
        "id": "My3OiqLb3xus"
      }
    },
    {
      "cell_type": "code",
      "source": [
        "# 2-back task\n",
        "\n",
        "\n",
        "def n_back_task(n):\n",
        "    trials = 10\n",
        "\n",
        "    # because we have lists, we can do more than compute the mean later.\n",
        "    # we also don't have to keep count of how many RTs we have...the\n",
        "    # list length will always indicate this\n",
        "    correct_rts = []\n",
        "\n",
        "    # beause we have an unknown n, we will use a list to hold the\n",
        "    # stimulus history.\n",
        "    stimulus_history = []  # some people may write: stimuli = list()\n",
        "\n",
        "    # we updates show_instructions to accept an integer\n",
        "    show_instructions(n)\n",
        "\n",
        "    for trial in range(trials):\n",
        "\n",
        "        stimulus = generate_random_letter()  # present a letter\n",
        "\n",
        "        # define the correct response given the presented letter\n",
        "        # note: if we didn't check the size, we would\n",
        "        #       get an IndexError on the first n-1 trials\n",
        "        #       because the list won't yet be big enough\n",
        "        #       for stimulus_history[-n] to be a valid position\n",
        "        if len(stimulus_history) >= n:  # must have enough letters presented for how far we want to look back\n",
        "            if stimulus_history[-n] == stimulus:\n",
        "                correct_response = 'u'\n",
        "            else:\n",
        "                correct_response = 'r'\n",
        "        else:\n",
        "            correct_response = 'r'\n",
        "\n",
        "        # collect response\n",
        "        timer_start = time.time()\n",
        "        response = input(f\"{stimulus}: \")\n",
        "        rt = time.time() - timer_start\n",
        "\n",
        "        # if correct, save rt\n",
        "        if response == correct_response:\n",
        "            correct_rts.append(rt)\n",
        "\n",
        "        stimulus_history.append(stimulus)\n",
        "\n",
        "        # finally clear the screen\n",
        "        clear_the_screen()\n",
        "\n",
        "    # after all trials presented, do stats on correct responses\n",
        "    correct_trial_percentage = (len(correct_rts)/trials)*100 if len(correct_rts) else 0\n",
        "    # remember that an empty list evalutes to False in a boolean expression.\n",
        "    # a non-empty list evaluates to True in a boolean expression.\n",
        "    if correct_rts:  # if we have any correct responses\n",
        "        rt_avg = sum(correct_rts) / len(correct_rts)  * 1000\n",
        "        # alternative: rt_avg = statistics.mean(correct_rts) * 1000\n",
        "        rt_min = min(correct_rts)\n",
        "        rt_max = max(correct_rts)\n",
        "        # the statistics.stdev() function requires at least 2 numbers!\n",
        "        rt_stdev = statistics.stdev(correct_rts) if len(correct_rts) >= 2 else 0\n",
        "        print(\"RESULTS:\")\n",
        "        print(f'\\tCorrect RTs: {len(correct_rts)}')\n",
        "        print(f'\\tMinimum RT: {rt_min}')  # why don't we need the number formatting here??\n",
        "        print(f'\\tMaximum RT: {rt_max}')\n",
        "        print(f'\\tAverage RT: {rt_avg:0.2f}')\n",
        "        print(f'\\tStDev of RT: {rt_stdev:0.2f}')\n",
        "    else:\n",
        "        print(\"RESULTS:\")\n",
        "        print(f'\\tCorrect RTs: 0')\n",
        "\n",
        "\n",
        "\n",
        "\n",
        "n_back_task(2)"
      ],
      "metadata": {
        "id": "i3i76oxuobUt"
      },
      "execution_count": null,
      "outputs": []
    },
    {
      "cell_type": "markdown",
      "source": [
        "## Efficiency NOTE:\n",
        "\n",
        "`list()` evaluates to `[]`, which means just specifying `[]` (called a list literal) is evaluated 2x more quickly. However, we're talking about nanoseconds here, so it only matters when called many many times (e.g., in a tight loop)."
      ],
      "metadata": {
        "id": "IKUMl8ecJX4H"
      }
    },
    {
      "cell_type": "code",
      "source": [
        "%%timeit\n",
        "\n",
        "list()"
      ],
      "metadata": {
        "id": "qaFpgYO-uuC9"
      },
      "execution_count": null,
      "outputs": []
    },
    {
      "cell_type": "code",
      "source": [
        "%%timeit\n",
        "\n",
        "[]"
      ],
      "metadata": {
        "id": "tpb_CQH5KMal"
      },
      "execution_count": null,
      "outputs": []
    },
    {
      "cell_type": "markdown",
      "source": [
        "## Text-Based Shopping List App"
      ],
      "metadata": {
        "id": "f9gPjw5pK3D9"
      }
    },
    {
      "cell_type": "markdown",
      "source": [
        "### Want to make an app to keep track of shopping list.\n",
        "\n",
        "functions:\n",
        "- keep track of desired items\n",
        "- add new desired items\n",
        "- delete existing, undesired items\n",
        "- clear the entire list\n",
        "- show the entire list\n",
        "- quit the app\n",
        "- help if the user gets stuck"
      ],
      "metadata": {
        "id": "eAr2K7o2wH-8"
      }
    },
    {
      "cell_type": "code",
      "source": [
        "def help():\n",
        "    # in multiline strings, Python will also print the string exactly as you write it,\n",
        "    # including newlines!\n",
        "\n",
        "    print('''\n",
        "    SHOPPING LIST APPLICATION HELP\n",
        "    ------------------------------\n",
        "\n",
        "       add : add an item to your shopping list\n",
        "    delete : remove an item from your shopping list\n",
        "     clear : clear your shopping list\n",
        "      show : show your current shopping list\n",
        "       quit: exit the application\n",
        "       help: show this information\n",
        "    ''')\n",
        "\n",
        "def shopping_app():\n",
        "    ...\n",
        "    # get ready to take on new items for shopping list\n",
        "\n",
        "    # start up app and keep asking user to input something until they don't want to be asked anymore\n",
        "\n",
        "        # ask user what they want to do\n",
        "\n",
        "        # if the user response is not one of the options, tell them to get help\n",
        "            # how could we quickly check whether the user response is valid?\n",
        "\n",
        "        # quit: if user wants to quit, break out\n",
        "\n",
        "        # clear: user wants to delete all items in the shopping list\n",
        "\n",
        "        # help: user wants to know what their options are\n",
        "\n",
        "        # show: user wants to see the shopping list in its entirety\n",
        "            # show: make sure there is something to show\n",
        "            # show: if there is something to show, show em\n",
        "\n",
        "        # add: user wants to add an item to the list\n",
        "            # add: ask what item to add\n",
        "\n",
        "        # delete: user wants to delete an item\n",
        "            # delete: ask what item to delete\n",
        "\n",
        "\n",
        "    # once quit, then print exit message\n",
        "\n",
        "shopping_app()\n"
      ],
      "metadata": {
        "id": "rYwRht-6YYMm"
      },
      "execution_count": null,
      "outputs": []
    },
    {
      "cell_type": "code",
      "source": [
        "def help():\n",
        "    # in multiline strings, Python will also print the string exactly as you write it,\n",
        "    # including newlines!\n",
        "\n",
        "    print('''\n",
        "    SHOPPING LIST APPLICATION HELP\n",
        "    ------------------------------\n",
        "\n",
        "       add : add an item to your shopping list\n",
        "    delete : remove an item from your shopping list\n",
        "     clear : clear your shopping list\n",
        "      show : show your current shopping list\n",
        "       quit: exit the application\n",
        "       help: show this information\n",
        "    ''')\n",
        "\n",
        "def shopping_app():\n",
        "\n",
        "    shopping_list = []\n",
        "\n",
        "    valid_commands = ['add', 'delete', 'clear', 'quit', 'show', 'help']\n",
        "\n",
        "    title = 'SHOPPING LIST APP'\n",
        "    print('-' * len(title))\n",
        "    print(title)\n",
        "    print('-' * len(title))\n",
        "\n",
        "    while True:\n",
        "        # ask user what they want to do\n",
        "        cmd = input('\\n>>>')\n",
        "\n",
        "        # if the user response is not one of the options, tell them to get help\n",
        "        if cmd not in valid_commands:\n",
        "            print('INVALID COMMAND (type \"help\" for more information)')\n",
        "            continue\n",
        "\n",
        "        # quit: if user wants to quit, break out\n",
        "        if cmd == 'quit':\n",
        "            print('EXITING APPLIATION.')\n",
        "            break\n",
        "\n",
        "        # clear: user wants to delete all items in the shopping list\n",
        "        elif cmd == 'clear':\n",
        "            shopping_list = []\n",
        "            print('SHOPPING LIST CLEARED!')\n",
        "\n",
        "        # help: user wants to know what their options are\n",
        "        elif cmd == 'help':\n",
        "            help()\n",
        "\n",
        "        # show: user wants to see the shopping list in its entirety\n",
        "        elif cmd == 'show':\n",
        "            print('SHOPPING LIST')\n",
        "            print('-------------')\n",
        "            # you will soon learn how to easily iterate over a list directly.\n",
        "            # for now we're forced to do something more awkward (and un-Pythonic),\n",
        "            # even though it's common in other languages:\n",
        "            if not shopping_list:\n",
        "                print('EMPTY')\n",
        "            else:\n",
        "                for index in range(len(shopping_list)):\n",
        "                    print(f'- {shopping_list[index]}')\n",
        "            print()\n",
        "\n",
        "        # add or delete: user wants to add an item or delete an item\n",
        "        elif cmd in ['add', 'delete']: # can check them both at the same time because they both ask about a specific item\n",
        "            item = input(f'Which item would you like to {cmd}? ')\n",
        "\n",
        "            if cmd == 'add':\n",
        "                shopping_list.append(item)\n",
        "                print(f'ADDED {item}')\n",
        "            elif cmd == 'delete':\n",
        "                if item in shopping_list:\n",
        "                    shopping_list.remove(item)\n",
        "                    print(f'DELETED {item}')\n",
        "                else:\n",
        "                    print(f'{item} WAS ALREADY NOT IN YOUR SHOPPING LIST')\n",
        "\n",
        "    # once quit, then print exit message\n",
        "    print('done.')\n",
        "\n",
        "\n",
        "shopping_app()"
      ],
      "metadata": {
        "id": "A5yGhIjoeTPs"
      },
      "execution_count": null,
      "outputs": []
    },
    {
      "cell_type": "markdown",
      "source": [
        "## Improvements?\n",
        "\n",
        "- It would be nice if you could just add/delete/clear items in one step instead of 2. E.g., typeing `add juice` or `delete peanuts`.\n",
        "- It would be nice if you had some aliases in case users forgot the official terms, e.g., `delete` and `remove` and `del` could all do the same thing\n",
        "- It would be nice if the app wasn't case sensitive\n",
        "- It would be nice if an extra space at the start or stop of an entry (command or item) got ignored\n",
        "- It would be nice if you could add tags or categories to items so they showed up organized into meaningful groups\n",
        "\n",
        "\n",
        "NOTE: nearly all of the ideas above can be achieved with what you've already learned in the class!!\n",
        "\n",
        "- Can anyone come up with other ideas (other than a graphical interface!)"
      ],
      "metadata": {
        "id": "7fuIUYwHac0V"
      }
    }
  ]
}