{
  "nbformat": 4,
  "nbformat_minor": 0,
  "metadata": {
    "colab": {
      "provenance": [],
      "authorship_tag": "ABX9TyPWNsR36kmC+tBpjA9g8M5S",
      "include_colab_link": true
    },
    "kernelspec": {
      "name": "python3",
      "display_name": "Python 3"
    },
    "language_info": {
      "name": "python"
    }
  },
  "cells": [
    {
      "cell_type": "markdown",
      "metadata": {
        "id": "view-in-github",
        "colab_type": "text"
      },
      "source": [
        "<a href=\"https://colab.research.google.com/github/CogPsychCoding/psych138files/blob/main/Lectures/Lecture12/Lecture12_class.ipynb\" target=\"_parent\"><img src=\"https://colab.research.google.com/assets/colab-badge.svg\" alt=\"Open In Colab\"/></a>"
      ]
    },
    {
      "cell_type": "markdown",
      "source": [
        "# Setup"
      ],
      "metadata": {
        "id": "w4va-Hvdih3Z"
      }
    },
    {
      "cell_type": "code",
      "source": [
        "import random"
      ],
      "metadata": {
        "id": "rjL3v8NRi7iV"
      },
      "execution_count": null,
      "outputs": []
    },
    {
      "cell_type": "markdown",
      "source": [
        "# Lecture 12\n",
        "\n",
        "- Dictionaries contain key-value pairs. Keys are like a list's indexes.\n",
        "- Dictionaries are mutable. Variables hold references to dictionary values, not the dictionary value itself.\n",
        "- <font color=\"red\">Dictionaries are unordered. There is no \"first\" key-value pair in a dictionary.</font> (True only for Python 3.6 and below, ordered for 3.7+)\n",
        "- The keys(), values(), and items() methods will return list-like values of a dictionary's keys, values, and both keys and values, respectively.\n",
        "- The get() method can return a default value if a key doesn't exist.\n",
        "- The setdefault() method can set a value if a key doesn't exist.\n",
        "- The pprint module's pprint() \"pretty print\" function can display a dictionary value cleanly. The pformat() function returns a string value of this output.\n",
        "\n"
      ],
      "metadata": {
        "id": "bzoDtpDVi8Ke"
      }
    },
    {
      "cell_type": "markdown",
      "source": [
        "### Without Dicts"
      ],
      "metadata": {
        "id": "lRZoa2-3N6W5"
      }
    },
    {
      "cell_type": "code",
      "source": [
        "# find Leo and print his age\n",
        "# update Leo\n",
        "# Remove Elaine\n",
        "\n",
        "people = [['Travis', 53],['Jen', 51],['Leo', 11],['Isaac', 16], ['Elaine', 6]]\n",
        "\n",
        "found_age = False\n",
        "\n",
        "for name, age in people:\n",
        "    if name == 'Leo':\n",
        "        print(f'{age=}')\n",
        "        found_age = True\n",
        "\n",
        "if not found_age:\n",
        "    print(f'Jennifer is not in the database!')"
      ],
      "metadata": {
        "colab": {
          "base_uri": "https://localhost:8080/"
        },
        "id": "_-C5PkxHnmUz",
        "outputId": "854eb5cc-d361-44d6-d12d-17dbdc9a7970"
      },
      "execution_count": null,
      "outputs": [
        {
          "output_type": "stream",
          "name": "stdout",
          "text": [
            "age=11\n"
          ]
        }
      ]
    },
    {
      "cell_type": "code",
      "source": [],
      "metadata": {
        "id": "t1isRXecZMhf"
      },
      "execution_count": null,
      "outputs": []
    },
    {
      "cell_type": "markdown",
      "source": [
        "### With Dicts"
      ],
      "metadata": {
        "id": "l8wKb_dPN9aa"
      }
    },
    {
      "cell_type": "code",
      "source": [
        "# find Leo and print his age\n",
        "# update Leo\n",
        "# Remove Elaine\n",
        "\n",
        "people = [['Travis', 53],['Jen', 51],['Leo', 11],['Isaac', 16], ['Elaine', 6]]\n",
        "people = dict(people)\n",
        "people"
      ],
      "metadata": {
        "colab": {
          "base_uri": "https://localhost:8080/"
        },
        "id": "-ZsrnDHWpApf",
        "outputId": "045ceb99-a8f4-466f-d93f-e138aa90e429"
      },
      "execution_count": null,
      "outputs": [
        {
          "output_type": "execute_result",
          "data": {
            "text/plain": [
              "{'Travis': 53, 'Jen': 51, 'Leo': 11, 'Isaac': 16, 'Elaine': 6}"
            ]
          },
          "metadata": {},
          "execution_count": 26
        }
      ]
    },
    {
      "cell_type": "code",
      "source": [
        "if 'Leo' in people:\n",
        "    print(people['Leo'])\n",
        "else:\n",
        "    print('Leo is not in db')\n",
        "\n",
        "people['Leo'] = people['Leo'] + 2\n",
        "del people['Elaine']\n",
        "people"
      ],
      "metadata": {
        "colab": {
          "base_uri": "https://localhost:8080/"
        },
        "id": "5IpSJB29aDAp",
        "outputId": "7cacee96-c173-447a-cc9c-8f8353a13d34"
      },
      "execution_count": null,
      "outputs": [
        {
          "output_type": "stream",
          "name": "stdout",
          "text": [
            "14\n"
          ]
        },
        {
          "output_type": "execute_result",
          "data": {
            "text/plain": [
              "{'Travis': 53, 'Jen': 51, 'Leo': 16, 'Isaac': 16}"
            ]
          },
          "metadata": {},
          "execution_count": 36
        }
      ]
    },
    {
      "cell_type": "markdown",
      "source": [
        "### Creating Lists of Tuples\n",
        "\n",
        "Useful for looping without creating temporary data copies"
      ],
      "metadata": {
        "id": "mrsz4Qj8OI7a"
      }
    },
    {
      "cell_type": "code",
      "source": [
        "names = ['me', 'you', 'them']\n",
        "data =  [34,    33,     33]\n",
        "\n",
        "for next_list in (names, data):\n",
        "    print(math.stdev(next_list))"
      ],
      "metadata": {
        "id": "XQjjWr9cdp7C"
      },
      "execution_count": null,
      "outputs": []
    },
    {
      "cell_type": "code",
      "source": [
        "names = ['me', 'you', 'them']\n",
        "data =  [34,    33,     33]\n",
        "\n",
        "combined = zip(names, data)\n",
        "\n",
        "for name, datum in combined:\n",
        "    print(name, data)\n"
      ],
      "metadata": {
        "colab": {
          "base_uri": "https://localhost:8080/"
        },
        "id": "tJk-SmyPcqsm",
        "outputId": "e2777b64-47a1-4fcc-d081-a29ea584b02b"
      },
      "execution_count": null,
      "outputs": [
        {
          "output_type": "stream",
          "name": "stdout",
          "text": [
            "me [34, 33, 33]\n",
            "you [34, 33, 33]\n",
            "them [34, 33, 33]\n"
          ]
        }
      ]
    },
    {
      "cell_type": "code",
      "source": [
        "names = ['me', 'you', 'them']\n",
        "data =  [34,    33,     33]\n",
        "other = [1,2,3]\n",
        "\n",
        "list(zip(names, data, other))"
      ],
      "metadata": {
        "colab": {
          "base_uri": "https://localhost:8080/"
        },
        "id": "fFN_xlATc2DT",
        "outputId": "7aff8c06-6ecf-4387-b2b6-0d67d0cff89b"
      },
      "execution_count": null,
      "outputs": [
        {
          "output_type": "execute_result",
          "data": {
            "text/plain": [
              "[('me', 34, 1), ('you', 33, 2), ('them', 33, 3)]"
            ]
          },
          "metadata": {},
          "execution_count": 41
        }
      ]
    },
    {
      "cell_type": "code",
      "source": [
        "names = ['me', 'you', 'them']\n",
        "data =  [34,    33,     33]\n",
        "\n",
        "# dont do this\n",
        "for i in range(len(names)):\n",
        "    print(f'{names[i]} {data[i]}')\n",
        "\n",
        "# do this\n",
        "combined = zip(names, data)\n",
        "for name, datum in combined:\n",
        "    print(name, data)\n",
        "\n",
        "a, b = [2, 3]\n",
        "\n",
        "# even better\n",
        "for name, datum in zip(names, data):\n",
        "    print(name, data)"
      ],
      "metadata": {
        "colab": {
          "base_uri": "https://localhost:8080/"
        },
        "id": "ub6DDtE4rM-C",
        "outputId": "2e0e8228-11df-4255-9622-90b8d92eb8b1"
      },
      "execution_count": null,
      "outputs": [
        {
          "output_type": "stream",
          "name": "stdout",
          "text": [
            "me 34\n",
            "you 33\n",
            "them 33\n"
          ]
        }
      ]
    },
    {
      "cell_type": "code",
      "source": [],
      "metadata": {
        "id": "FCbnaOH2b33j"
      },
      "execution_count": null,
      "outputs": []
    },
    {
      "cell_type": "code",
      "source": [
        "names = ['me', 'you', 'them']\n",
        "data =  [34,    33,     33]\n",
        "other = ['a', 'b', 'c']"
      ],
      "metadata": {
        "id": "hEmbBX7ZOXdf"
      },
      "execution_count": null,
      "outputs": []
    },
    {
      "cell_type": "markdown",
      "source": [
        "### Useful for creating dicts as well"
      ],
      "metadata": {
        "id": "46IJfemfOk4I"
      }
    },
    {
      "cell_type": "code",
      "source": [
        "people = [['Travis', 53],['Jen', 51],['Leo', 11],['Isaac', 16]]"
      ],
      "metadata": {
        "id": "iXHxM3iNtAfw"
      },
      "execution_count": null,
      "outputs": []
    },
    {
      "cell_type": "code",
      "source": [
        "names = ['me', 'you', 'them']\n",
        "data =  [34,    33,     33]\n",
        "other = ['a', 'b', 'c']\n",
        "\n",
        "dict(zip(names, data))"
      ],
      "metadata": {
        "colab": {
          "base_uri": "https://localhost:8080/"
        },
        "id": "AX4cAwhUtOQP",
        "outputId": "7cbf9fe3-3929-467d-944b-64b85911bcf4"
      },
      "execution_count": null,
      "outputs": [
        {
          "output_type": "execute_result",
          "data": {
            "text/plain": [
              "{'me': 34, 'you': 33, 'them': 33}"
            ]
          },
          "metadata": {},
          "execution_count": 45
        }
      ]
    },
    {
      "cell_type": "markdown",
      "source": [
        "### Creating dicts manually"
      ],
      "metadata": {
        "id": "msxXQoSPO1yT"
      }
    },
    {
      "cell_type": "code",
      "source": [
        "d3 = {'one': 1, 'two': 2, 'three': 3}\n",
        "print(d3['three'])\n",
        "\n",
        "d4 = {}\n",
        "d4['one'] = 1\n",
        "d4['two'] = 2\n",
        "d4['three'] = 3\n",
        "d4['three'] = 33\n",
        "\n",
        "print(d4)\n"
      ],
      "metadata": {
        "id": "GRtT5daMtmpD",
        "colab": {
          "base_uri": "https://localhost:8080/"
        },
        "outputId": "92fb5481-266a-4334-963d-b60cd683b554"
      },
      "execution_count": null,
      "outputs": [
        {
          "output_type": "stream",
          "name": "stdout",
          "text": [
            "3\n",
            "{'one': 1, 'two': 2, 'three': 33}\n"
          ]
        }
      ]
    },
    {
      "cell_type": "markdown",
      "source": [
        "### dict componenets\n",
        "\n",
        "keys, values, and items"
      ],
      "metadata": {
        "id": "Ruo7zbyrO8h2"
      }
    },
    {
      "cell_type": "code",
      "source": [
        "d3 = {'one': 1, 'two': 2, 'three': 3}\n",
        "for key, value in d3.items():\n",
        "    print(f'{key} = {value}')\n",
        "print()\n",
        "for key in d3: # aka d3.keys():\n",
        "    print(f'{key}={d3[key]}')\n",
        "print()\n",
        "for value in d3.values():\n",
        "    print(f'{value}')"
      ],
      "metadata": {
        "colab": {
          "base_uri": "https://localhost:8080/"
        },
        "id": "UpX4AGnMuu8U",
        "outputId": "b4dba12f-f766-4ced-b66b-14ab9facacc7"
      },
      "execution_count": null,
      "outputs": [
        {
          "output_type": "stream",
          "name": "stdout",
          "text": [
            "one = 1\n",
            "two = 2\n",
            "three = 3\n",
            "\n",
            "one=1\n",
            "two=2\n",
            "three=3\n",
            "\n",
            "1\n",
            "2\n",
            "3\n"
          ]
        }
      ]
    },
    {
      "cell_type": "markdown",
      "source": [
        "### processing dicts in sorted by keys"
      ],
      "metadata": {
        "id": "UXfI7qlbPKPI"
      }
    },
    {
      "cell_type": "code",
      "source": [
        "people = dict([['Travis', 53],['Jen', 51],['Leo', 11],['Isaac', 16]])\n",
        "people\n",
        "for i, name in enumerate(sorted(people)):\n",
        "    print(i + 1, name, people[name])"
      ],
      "metadata": {
        "colab": {
          "base_uri": "https://localhost:8080/"
        },
        "id": "CPBLDhtUi4-8",
        "outputId": "2b3cb62b-f4be-48a8-f9c8-cfa2ddb393b8"
      },
      "execution_count": null,
      "outputs": [
        {
          "output_type": "stream",
          "name": "stdout",
          "text": [
            "1 Isaac 16\n",
            "2 Jen 51\n",
            "3 Leo 11\n",
            "4 Travis 53\n"
          ]
        }
      ]
    },
    {
      "cell_type": "markdown",
      "source": [
        "# Python dictionaries\n",
        "\n",
        "- literal\n",
        "- build explicit\n",
        "    - add\n",
        "    - del\n",
        "- build with code using `zip` and `dict`\n",
        "- retrieving with `get` when default needed\n",
        "    - easier with `collections.defaultdict`\n",
        "\n"
      ],
      "metadata": {
        "id": "zlslwMfbmxbi"
      }
    },
    {
      "cell_type": "markdown",
      "source": [
        "## Counting Stuff Manually\n",
        "\n",
        "- later we'll see that Python has a built-in facility for this already"
      ],
      "metadata": {
        "id": "hbuvwPpx0u7C"
      }
    },
    {
      "cell_type": "code",
      "source": [
        "# create 100 random numbers (1-10)\n",
        "\n",
        "# ignore this vvv:\n",
        "numbers = [random.randint(1,10) for i in range(100)]\n",
        "# ^^^\n",
        "\n",
        "numbers = []\n",
        "for i in range(100):\n",
        "    numbers.append(random.randint(1,10))\n",
        "\n",
        "print(numbers)"
      ],
      "metadata": {
        "id": "kQMTUAHtxpkn",
        "colab": {
          "base_uri": "https://localhost:8080/"
        },
        "outputId": "c804328a-761b-4df3-c1af-1ebd58652b1d"
      },
      "execution_count": null,
      "outputs": [
        {
          "output_type": "stream",
          "name": "stdout",
          "text": [
            "[3, 7, 3, 3, 6, 1, 4, 7, 7, 1, 1, 4, 1, 7, 1, 10, 8, 4, 9, 9, 4, 10, 1, 8, 4, 5, 3, 6, 8, 3, 8, 5, 4, 6, 3, 9, 10, 2, 3, 4, 9, 7, 5, 5, 8, 1, 1, 8, 3, 5, 5, 8, 1, 6, 7, 2, 6, 2, 9, 9, 4, 1, 8, 4, 6, 2, 3, 8, 10, 10, 10, 8, 5, 6, 3, 2, 8, 9, 1, 8, 4, 3, 7, 3, 3, 9, 9, 6, 3, 2, 8, 3, 6, 10, 8, 3, 2, 10, 4, 6]\n"
          ]
        }
      ]
    },
    {
      "cell_type": "code",
      "source": [
        "\n",
        "# create dict of counts for each number\n",
        "counts = {}\n",
        "for number in numbers:\n",
        "    if number in counts:\n",
        "        counts[number] = counts[number] + 1\n",
        "    else:\n",
        "        counts[number] = 1\n",
        "\n",
        "print(sum(counts.values()))\n",
        "counts"
      ],
      "metadata": {
        "colab": {
          "base_uri": "https://localhost:8080/"
        },
        "id": "lmAm8RuR4E1A",
        "outputId": "0dc4b360-e978-4dbd-a19e-2f2841aa521c"
      },
      "execution_count": null,
      "outputs": [
        {
          "output_type": "stream",
          "name": "stdout",
          "text": [
            "100\n"
          ]
        },
        {
          "output_type": "execute_result",
          "data": {
            "text/plain": [
              "{3: 16, 7: 7, 6: 10, 1: 11, 4: 11, 10: 8, 8: 14, 9: 9, 5: 7, 2: 7}"
            ]
          },
          "metadata": {},
          "execution_count": 73
        }
      ]
    },
    {
      "cell_type": "code",
      "source": [],
      "metadata": {
        "id": "_NMotrlXl0hs"
      },
      "execution_count": null,
      "outputs": []
    },
    {
      "cell_type": "markdown",
      "source": [
        "### alternative approach using dict.get()"
      ],
      "metadata": {
        "id": "os-up3FaQHlg"
      }
    },
    {
      "cell_type": "code",
      "source": [
        "counts = {}\n",
        "for number in numbers:\n",
        "    counts[number] = counts.get(number, 0) + 1\n",
        "\n",
        "print(sum(counts.values()))\n",
        "counts"
      ],
      "metadata": {
        "id": "AfgFEC1vbWgk",
        "colab": {
          "base_uri": "https://localhost:8080/"
        },
        "outputId": "c6d09057-7373-4367-f53a-250bd31dbe9f"
      },
      "execution_count": null,
      "outputs": [
        {
          "output_type": "stream",
          "name": "stdout",
          "text": [
            "100\n"
          ]
        },
        {
          "output_type": "execute_result",
          "data": {
            "text/plain": [
              "{3: 16, 7: 7, 6: 10, 1: 11, 4: 11, 10: 8, 8: 14, 9: 9, 5: 7, 2: 7}"
            ]
          },
          "metadata": {},
          "execution_count": 76
        }
      ]
    }
  ]
}