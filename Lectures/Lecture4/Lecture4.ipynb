{
  "nbformat": 4,
  "nbformat_minor": 0,
  "metadata": {
    "colab": {
      "provenance": [],
      "authorship_tag": "ABX9TyOkg7VOjrgDDIUzch8NeDVX",
      "include_colab_link": true
    },
    "kernelspec": {
      "name": "python3",
      "display_name": "Python 3"
    },
    "language_info": {
      "name": "python"
    }
  },
  "cells": [
    {
      "cell_type": "markdown",
      "metadata": {
        "id": "view-in-github",
        "colab_type": "text"
      },
      "source": [
        "<a href=\"https://colab.research.google.com/github/CogPsychCoding/psych138files/blob/main/Lectures/Lecture4/Lecture4.ipynb\" target=\"_parent\"><img src=\"https://colab.research.google.com/assets/colab-badge.svg\" alt=\"Open In Colab\"/></a>"
      ]
    },
    {
      "cell_type": "markdown",
      "source": [
        "# Lecture 4"
      ],
      "metadata": {
        "id": "FcSwiXCgNni3"
      }
    },
    {
      "cell_type": "markdown",
      "source": [
        "## Content From Video 5\n",
        "\n",
        "- An `if` statement can be used to conditionally execute code, depending on whether the \"if\" statement's condition is `True` or `False`.\n",
        "- An `elif` (that is, \"else if\") statement can follow an `if` statement. Its block executes if its condition is `True` and all the previous conditions have been `False`.\n",
        "- An else statement comes at the end. Its block is executed if all of the previous conditions have been False.\n",
        "- The values 0 (integer), 0.0 (float), and ‘‘ (the empty string) are considered to be \"falsey\" values. When used in conditions they are considered False. You can always see for yourself which values are truthy or falsey by passing them to the bool() function."
      ],
      "metadata": {
        "id": "0jsdf_EgNp7i"
      }
    },
    {
      "cell_type": "markdown",
      "source": [
        "## General Stuff\n",
        "\n",
        "- Remember, line comments are SPACE|SPACE|HASH|SPACE|COMMENT...\n",
        "    - `length = 34    # in millimeters`\n",
        "- how to get input on next line:"
      ],
      "metadata": {
        "id": "WhoteCPVUyaj"
      }
    },
    {
      "cell_type": "code",
      "source": [
        "a = input(\"how old are you?\\n\")\n"
      ],
      "metadata": {
        "colab": {
          "base_uri": "https://localhost:8080/"
        },
        "id": "XGr57xB7j-zC",
        "outputId": "414b059c-532e-4f95-9274-4229ca45a99c"
      },
      "execution_count": null,
      "outputs": [
        {
          "name": "stdout",
          "output_type": "stream",
          "text": [
            "how old are you?\n",
            "96\n"
          ]
        }
      ]
    },
    {
      "cell_type": "code",
      "source": [
        "print(\"how old are you?\")\n",
        "a = input()"
      ],
      "metadata": {
        "colab": {
          "base_uri": "https://localhost:8080/"
        },
        "id": "fz7VHParkKF4",
        "outputId": "17f76132-c6ba-4c93-b3be-9e2870c48402"
      },
      "execution_count": null,
      "outputs": [
        {
          "name": "stdout",
          "output_type": "stream",
          "text": [
            "how old are you?\n",
            "96\n"
          ]
        }
      ]
    },
    {
      "cell_type": "markdown",
      "source": [
        "## Conditional Logic\n",
        "\n",
        "- Most important part of computer programming\n",
        "- `if` keyword defines a **code block** that will be evaluated if the conditional expression evaluates to `True`"
      ],
      "metadata": {
        "id": "emf1unudU99c"
      }
    },
    {
      "cell_type": "code",
      "source": [
        "bool(True is True)"
      ],
      "metadata": {
        "colab": {
          "base_uri": "https://localhost:8080/"
        },
        "id": "9NwLR5yt7d9y",
        "outputId": "5021ce85-18d9-430e-e639-51019a9627d7"
      },
      "execution_count": null,
      "outputs": [
        {
          "output_type": "execute_result",
          "data": {
            "text/plain": [
              "True"
            ]
          },
          "metadata": {},
          "execution_count": 9
        }
      ]
    },
    {
      "cell_type": "code",
      "source": [
        "print(\"A rose is a rose\")\n",
        "\n",
        "if True:\n",
        "    print(\"and was always a rose\")\n",
        "    if not False:\n",
        "        print(\"but the theory now goes\")\n",
        "\n"
      ],
      "metadata": {
        "id": "lHexsdCvaCzr",
        "colab": {
          "base_uri": "https://localhost:8080/"
        },
        "outputId": "01a0e961-97e5-492f-8da4-87d2627e2a77"
      },
      "execution_count": null,
      "outputs": [
        {
          "output_type": "stream",
          "name": "stdout",
          "text": [
            "A rose is a rose\n",
            "and was always a rose\n",
            "but the theory now goes\n"
          ]
        }
      ]
    },
    {
      "cell_type": "markdown",
      "source": [
        "- In Python, code blocks are defined by a colon and one or more indented lines\n",
        "- Python can accept multiple schemes, but in this class, the *only aceepatable approach* is to indent lines using 4 spaces!\n",
        "- Code blocks can have their own code blocks:"
      ],
      "metadata": {
        "id": "pieVzYm_aaUt"
      }
    },
    {
      "cell_type": "code",
      "source": [],
      "metadata": {
        "id": "Yzq-MLLPa_tl"
      },
      "execution_count": null,
      "outputs": []
    },
    {
      "cell_type": "markdown",
      "source": [
        "## Let's write some code using conditions"
      ],
      "metadata": {
        "id": "UPz9TVjubUML"
      }
    },
    {
      "cell_type": "markdown",
      "source": [
        "### Electronic Bouncer"
      ],
      "metadata": {
        "id": "AWDfmS8TbqPc"
      }
    },
    {
      "cell_type": "markdown",
      "source": [
        "Make sure you get reasonable input. What if they enter nothing?"
      ],
      "metadata": {
        "id": "wcOVHAWdcKPV"
      }
    },
    {
      "cell_type": "code",
      "source": [
        "age = int(input(\"How old are you? \"))"
      ],
      "metadata": {
        "id": "80YE_NGfbyVf",
        "colab": {
          "base_uri": "https://localhost:8080/",
          "height": 196
        },
        "outputId": "63dc7df9-dae4-418c-c3e8-8f8419d78477"
      },
      "execution_count": null,
      "outputs": [
        {
          "name": "stdout",
          "output_type": "stream",
          "text": [
            "How old are you? \n"
          ]
        },
        {
          "output_type": "error",
          "ename": "ValueError",
          "evalue": "ignored",
          "traceback": [
            "\u001b[0;31m---------------------------------------------------------------------------\u001b[0m",
            "\u001b[0;31mValueError\u001b[0m                                Traceback (most recent call last)",
            "\u001b[0;32m<ipython-input-13-79c546f41276>\u001b[0m in \u001b[0;36m<cell line: 1>\u001b[0;34m()\u001b[0m\n\u001b[0;32m----> 1\u001b[0;31m \u001b[0mage\u001b[0m \u001b[0;34m=\u001b[0m \u001b[0mint\u001b[0m\u001b[0;34m(\u001b[0m\u001b[0minput\u001b[0m\u001b[0;34m(\u001b[0m\u001b[0;34m\"How old are you? \"\u001b[0m\u001b[0;34m)\u001b[0m\u001b[0;34m)\u001b[0m\u001b[0;34m\u001b[0m\u001b[0;34m\u001b[0m\u001b[0m\n\u001b[0m",
            "\u001b[0;31mValueError\u001b[0m: invalid literal for int() with base 10: ''"
          ]
        }
      ]
    },
    {
      "cell_type": "code",
      "source": [
        "age = input(\"How old are you? \")\n",
        "\n",
        "\n",
        "\n",
        "#if age.isdigit() and int(age) >= 5 and int(age) <= 150:\n",
        "if age.isdigit() and 5 <= int(age) <= 150:\n",
        "    print(\"That's a real age\")\n",
        "else:\n",
        "    print(\"That is not an valid age!\")\n",
        "\n",
        "\n",
        "\n"
      ],
      "metadata": {
        "colab": {
          "base_uri": "https://localhost:8080/"
        },
        "id": "X_EJlKFW9Dgf",
        "outputId": "4fea9d7d-5b25-41fc-f58c-8356aacd0300"
      },
      "execution_count": null,
      "outputs": [
        {
          "output_type": "stream",
          "name": "stdout",
          "text": [
            "How old are you? 160\n",
            "That is not an valid age!\n"
          ]
        }
      ]
    },
    {
      "cell_type": "code",
      "source": [
        "age = input(\"How old are you? \")\n",
        "\n",
        "if age.isdigit():\n",
        "    age = int(age)\n",
        "\n",
        "    if age >= 65:\n",
        "        print(\"come in, cover is 10\")\n",
        "    elif age >= 21:\n",
        "        print(\"come in, the cover is $20\")\n",
        "    else:\n",
        "        print(\"you are not old enough for this club!\")\n",
        "else:\n",
        "    print(\"That is not an valid age! Get outta here!\")"
      ],
      "metadata": {
        "id": "Nu9vRzLVCNiB"
      },
      "execution_count": null,
      "outputs": []
    },
    {
      "cell_type": "code",
      "source": [
        "if age.isdigit():\n",
        "    age = int(age)\n",
        "    if age >= 21:\n",
        "        if age >= 65:\n",
        "            print('10')\n",
        "        else:\n",
        "            print('20')\n",
        "    else:\n",
        "        print('nope!')\n"
      ],
      "metadata": {
        "id": "qe6uCCcDGCvJ"
      },
      "execution_count": null,
      "outputs": []
    },
    {
      "cell_type": "code",
      "source": [
        "length"
      ],
      "metadata": {
        "colab": {
          "base_uri": "https://localhost:8080/"
        },
        "id": "JRx_mtp1C73_",
        "outputId": "692e8cfb-f39c-4398-d31c-49c5027ec156"
      },
      "execution_count": null,
      "outputs": [
        {
          "output_type": "execute_result",
          "data": {
            "text/plain": [
              "7"
            ]
          },
          "metadata": {},
          "execution_count": 41
        }
      ]
    },
    {
      "cell_type": "markdown",
      "source": [
        "### more complex boolean expressions"
      ],
      "metadata": {
        "id": "oE2jzLLNgLf2"
      }
    },
    {
      "cell_type": "code",
      "source": [
        "length = 34.23\n",
        "width = 8.034\n",
        "# width = 1000\n",
        "\n",
        "if int(length) == int(width):\n",
        "    # print(\"ERROR: width==\", width, \" is too close to length==\", length, sep='')\n",
        "    print(f\"ERROR: width=={width} is too close to length=={length}\")\n",
        "elif width > length / 2 + 5:\n",
        "    print(f\"ERROR: width=={width} is out of bounds for length=={length}\")\n",
        "else:\n",
        "    print(f\"Result = {length * 2 / (width * width / length)}\")\n"
      ],
      "metadata": {
        "id": "M1c_THePgm_f",
        "colab": {
          "base_uri": "https://localhost:8080/"
        },
        "outputId": "920069a0-0b4f-4e07-8fcf-a14b25ca0997"
      },
      "execution_count": null,
      "outputs": [
        {
          "output_type": "stream",
          "name": "stdout",
          "text": [
            "Result = 36.30614511180357\n"
          ]
        }
      ]
    },
    {
      "cell_type": "code",
      "source": [
        "age = input(\"whats your age? \")\n",
        "if not age:\n",
        "    print('You did not enter anything')\n",
        "else:\n",
        "    print('got it')"
      ],
      "metadata": {
        "colab": {
          "base_uri": "https://localhost:8080/"
        },
        "id": "2pZlAj-6JpCs",
        "outputId": "f5671827-db9e-4492-88f3-3e3cf6c30243"
      },
      "execution_count": null,
      "outputs": [
        {
          "output_type": "stream",
          "name": "stdout",
          "text": [
            "whats your age? kljkjhkjh\n",
            "got it\n"
          ]
        }
      ]
    },
    {
      "cell_type": "markdown",
      "source": [
        "### conditional assignment\n",
        "\n",
        "- some languages like C/C++ have Ternary operators to denote conditional assignment\n",
        "- Python just uses `if`/`else` keywords\n",
        "    - name = value if condition else other_value\n",
        "    - vlaue or other_value can be expressions too"
      ],
      "metadata": {
        "id": "FCJ_dmwClv3n"
      }
    },
    {
      "cell_type": "code",
      "source": [
        "age = input(\"how old are you? \")\n",
        "\n",
        "# if age.isdigit():\n",
        "#     age = int(age)\n",
        "# else:\n",
        "#     age = 100\n",
        "\n",
        "age = int(age) if age.isdigit() else 100\n",
        "\n",
        "print(f\"In 2 years, you will be {age + 2}\")\n",
        "\n"
      ],
      "metadata": {
        "id": "qQdeDsJlmL0w",
        "colab": {
          "base_uri": "https://localhost:8080/"
        },
        "outputId": "cb45b33d-d6e3-42d3-ad31-98efd0b11ae7"
      },
      "execution_count": null,
      "outputs": [
        {
          "output_type": "stream",
          "name": "stdout",
          "text": [
            "how old are you? 88\n",
            "In 2 years, you will be 90\n"
          ]
        }
      ]
    },
    {
      "cell_type": "markdown",
      "source": [
        "### Stats Approach Advice"
      ],
      "metadata": {
        "id": "fWi96P2MnyNU"
      }
    },
    {
      "cell_type": "code",
      "source": [],
      "metadata": {
        "id": "TrbhSgvEoIXT"
      },
      "execution_count": null,
      "outputs": []
    },
    {
      "cell_type": "markdown",
      "source": [
        "### Engineering Advice Program\n",
        "\n",
        "![](https://permies.com/t/11104/a/2935/engineeringflowchart.jpg)\n"
      ],
      "metadata": {
        "id": "kBqjbB2jrpQ-"
      }
    },
    {
      "cell_type": "markdown",
      "source": [
        "One way"
      ],
      "metadata": {
        "id": "UriUTYbYxMGG"
      }
    },
    {
      "cell_type": "code",
      "source": [
        "\n",
        "does_move = input(\"does it move? (y/n) \")\n",
        "should_move = input(\"should it move? (y/n) \")\n",
        "\n",
        "if does_move == 'y':\n",
        "    if should_move == 'y':\n",
        "        print(\"No problem!\")\n",
        "    else:\n",
        "        print(\"Duct Tape!\")\n",
        "else:\n",
        "    if should_move == 'y':\n",
        "        print(\"WD-40!\")\n",
        "    else:\n",
        "        print(\"No problem!\")"
      ],
      "metadata": {
        "id": "_gqdruj4u8FQ",
        "colab": {
          "base_uri": "https://localhost:8080/"
        },
        "outputId": "e27399f3-06f8-4f24-e881-4196437de3d4"
      },
      "execution_count": null,
      "outputs": [
        {
          "output_type": "stream",
          "name": "stdout",
          "text": [
            "does it move? (y/n) n\n",
            "should it move? (y/n) y\n",
            "WD-40!\n"
          ]
        }
      ]
    },
    {
      "cell_type": "markdown",
      "source": [
        "Another way"
      ],
      "metadata": {
        "id": "hj5GUp3ixQwN"
      }
    },
    {
      "cell_type": "code",
      "source": [],
      "metadata": {
        "id": "eTUriCJowda9"
      },
      "execution_count": null,
      "outputs": []
    },
    {
      "cell_type": "markdown",
      "source": [
        "Pros and Cons of the two approaches above?"
      ],
      "metadata": {
        "id": "s9ZfeWCKxULR"
      }
    },
    {
      "cell_type": "markdown",
      "source": [
        "### What's Missing?\n",
        "\n",
        "- Way to re-prompt if input is incorrect\n",
        "- More efficient way to determine whether input is one of multiple possible valid inputs\n",
        "- More efficient way to handle variations in input string case\n",
        "- Way to determine if input is valid `int` OR `float`, as well as allowing negative numbers."
      ],
      "metadata": {
        "id": "VuWaTD8Oxqai"
      }
    }
  ]
}