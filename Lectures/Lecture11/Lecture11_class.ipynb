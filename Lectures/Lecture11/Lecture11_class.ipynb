{
  "nbformat": 4,
  "nbformat_minor": 0,
  "metadata": {
    "colab": {
      "provenance": [],
      "authorship_tag": "ABX9TyO/fFGTTLfwGiP6Xwxn6ZdS",
      "include_colab_link": true
    },
    "kernelspec": {
      "name": "python3",
      "display_name": "Python 3"
    },
    "language_info": {
      "name": "python"
    }
  },
  "cells": [
    {
      "cell_type": "markdown",
      "metadata": {
        "id": "view-in-github",
        "colab_type": "text"
      },
      "source": [
        "<a href=\"https://colab.research.google.com/github/CogPsychCoding/psych138files/blob/main/Lectures/Lecture11/Lecture11_class.ipynb\" target=\"_parent\"><img src=\"https://colab.research.google.com/assets/colab-badge.svg\" alt=\"Open In Colab\"/></a>"
      ]
    },
    {
      "cell_type": "markdown",
      "source": [
        "# Setup"
      ],
      "metadata": {
        "id": "w4va-Hvdih3Z"
      }
    },
    {
      "cell_type": "code",
      "source": [
        "import random"
      ],
      "metadata": {
        "id": "rjL3v8NRi7iV"
      },
      "execution_count": null,
      "outputs": []
    },
    {
      "cell_type": "markdown",
      "source": [
        "# Lecture 11\n",
        "\n",
        "- Dictionaries contain key-value pairs. Keys are like a list's indexes.\n",
        "- Dictionaries are mutable. Variables hold references to dictionary values, not the dictionary value itself.\n",
        "- <font color=\"red\">Dictionaries are unordered. There is no \"first\" key-value pair in a dictionary.</font> (True only for Python 3.6 and below, ordered for 3.7+)\n",
        "- The keys(), values(), and items() methods will return list-like values of a dictionary's keys, values, and both keys and values, respectively.\n",
        "- The get() method can return a default value if a key doesn't exist.\n",
        "- The setdefault() method can set a value if a key doesn't exist.\n",
        "- The pprint module's pprint() \"pretty print\" function can display a dictionary value cleanly. The pformat() function returns a string value of this output.\n",
        "\n"
      ],
      "metadata": {
        "id": "bzoDtpDVi8Ke"
      }
    },
    {
      "cell_type": "code",
      "source": [
        "people = [['Travis', 53],['Jen', 51],['Leo', 11],['Isaac', 16]]\n",
        "\n",
        "found_it = False\n",
        "for name, age in people:\n",
        "    if name == 'Leo':\n",
        "        print(f'{name=} {age=}')\n",
        "        found_it = True\n",
        "\n",
        "if not found_it:\n",
        "    print('I do not have Leo in database')"
      ],
      "metadata": {
        "colab": {
          "base_uri": "https://localhost:8080/"
        },
        "id": "_-C5PkxHnmUz",
        "outputId": "4114b51a-9a6d-40c4-8a32-e8dcb027e43c"
      },
      "execution_count": null,
      "outputs": [
        {
          "output_type": "stream",
          "name": "stdout",
          "text": [
            "name='Leo' age=11\n"
          ]
        }
      ]
    },
    {
      "cell_type": "code",
      "source": [
        "people = {\n",
        "    'Travis': 53,\n",
        "    'Jen': 51,\n",
        "    'Leo': 11,\n",
        "    'Isaac': 16\n",
        "}\n",
        "\n",
        "people['Isaac'] = 15.8\n",
        "people['Fluffy'] = 4\n",
        "\n",
        "print(people['Jan'] if 'Jan' in people else None)\n",
        "\n",
        "print(people)\n",
        "\n",
        "del people['Fluffy']\n",
        "\n",
        "print('Isaac' in people)\n",
        "print('Fluffy' in people)\n",
        "\n",
        "people"
      ],
      "metadata": {
        "colab": {
          "base_uri": "https://localhost:8080/"
        },
        "id": "-ZsrnDHWpApf",
        "outputId": "bd4e66ec-4fc3-4159-a752-e476e7523e01"
      },
      "execution_count": null,
      "outputs": [
        {
          "output_type": "stream",
          "name": "stdout",
          "text": [
            "None\n",
            "{'Travis': 53, 'Jen': 51, 'Leo': 11, 'Isaac': 15.8, 'Fluffy': 4}\n",
            "True\n",
            "False\n"
          ]
        },
        {
          "output_type": "execute_result",
          "data": {
            "text/plain": [
              "{'Travis': 53, 'Jen': 51, 'Leo': 11, 'Isaac': 15.8}"
            ]
          },
          "metadata": {},
          "execution_count": 25
        }
      ]
    },
    {
      "cell_type": "code",
      "source": [
        "if 'Leo' in people:\n",
        "    print(people['Leo'])\n",
        "else:\n",
        "    print('blah blah not here')"
      ],
      "metadata": {
        "id": "4x57jjuyqn6A"
      },
      "execution_count": null,
      "outputs": []
    },
    {
      "cell_type": "code",
      "source": [
        "names = ['me', 'you', 'them']\n",
        "data =  [34,    33,     33]\n",
        "other = ['a', 'b', 'c']\n",
        "\n",
        "for a, b, c in zip(names, data, other):\n",
        "    print(a, b, c)\n",
        "\n"
      ],
      "metadata": {
        "colab": {
          "base_uri": "https://localhost:8080/"
        },
        "id": "ub6DDtE4rM-C",
        "outputId": "94690138-b4b8-4c56-9321-7c84b76f0fe7"
      },
      "execution_count": null,
      "outputs": [
        {
          "output_type": "stream",
          "name": "stdout",
          "text": [
            "me 34 a\n",
            "you 33 b\n",
            "them 33 c\n"
          ]
        }
      ]
    },
    {
      "cell_type": "code",
      "source": [
        "people = [['Travis', 53],['Jen', 51],['Leo', 11],['Isaac', 16]]\n",
        "d = dict(people)\n",
        "\n",
        "print(d)"
      ],
      "metadata": {
        "colab": {
          "base_uri": "https://localhost:8080/"
        },
        "id": "iXHxM3iNtAfw",
        "outputId": "537c1f5e-52b2-421b-9336-0532b4364170"
      },
      "execution_count": null,
      "outputs": [
        {
          "output_type": "stream",
          "name": "stdout",
          "text": [
            "{'Travis': 53, 'Jen': 51, 'Leo': 11, 'Isaac': 16}\n"
          ]
        }
      ]
    },
    {
      "cell_type": "code",
      "source": [
        "d2 = dict(zip(names, data))\n",
        "d2"
      ],
      "metadata": {
        "colab": {
          "base_uri": "https://localhost:8080/"
        },
        "id": "AX4cAwhUtOQP",
        "outputId": "59992207-8760-466e-a34c-1820778faae6"
      },
      "execution_count": null,
      "outputs": [
        {
          "output_type": "execute_result",
          "data": {
            "text/plain": [
              "{'me': 34, 'you': 33, 'them': 33}"
            ]
          },
          "metadata": {},
          "execution_count": 21
        }
      ]
    },
    {
      "cell_type": "code",
      "source": [
        "d3 = {}\n",
        "d3['one'] = 1\n",
        "d3['two'] = 2\n",
        "\n"
      ],
      "metadata": {
        "id": "GRtT5daMtmpD"
      },
      "execution_count": null,
      "outputs": []
    },
    {
      "cell_type": "code",
      "source": [
        "print(people)\n",
        "print(people.items())\n",
        "for item in people.items():\n",
        "    print(item)\n",
        "for key, value in people.items():\n",
        "    print(f'key = {key}; value = {value}')"
      ],
      "metadata": {
        "colab": {
          "base_uri": "https://localhost:8080/"
        },
        "id": "UpX4AGnMuu8U",
        "outputId": "75eeb549-9371-4c17-ff32-874f54bfee49"
      },
      "execution_count": null,
      "outputs": [
        {
          "output_type": "stream",
          "name": "stdout",
          "text": [
            "{'Travis': 53, 'Jen': 51, 'Leo': 11, 'Isaac': 15.8}\n",
            "dict_items([('Travis', 53), ('Jen', 51), ('Leo', 11), ('Isaac', 15.8)])\n",
            "('Travis', 53)\n",
            "('Jen', 51)\n",
            "('Leo', 11)\n",
            "('Isaac', 15.8)\n",
            "key = Travis; value = 53\n",
            "key = Jen; value = 51\n",
            "key = Leo; value = 11\n",
            "key = Isaac; value = 15.8\n"
          ]
        }
      ]
    },
    {
      "cell_type": "code",
      "source": [
        "print(people.keys())\n",
        "\n",
        "'Travis' in people"
      ],
      "metadata": {
        "colab": {
          "base_uri": "https://localhost:8080/"
        },
        "id": "CsfpRb_Ov0oH",
        "outputId": "68c8c573-e8aa-4089-b629-ac7b2642d0ac"
      },
      "execution_count": null,
      "outputs": [
        {
          "output_type": "stream",
          "name": "stdout",
          "text": [
            "dict_keys(['Travis', 'Jen', 'Leo', 'Isaac'])\n"
          ]
        },
        {
          "output_type": "execute_result",
          "data": {
            "text/plain": [
              "True"
            ]
          },
          "metadata": {},
          "execution_count": 31
        }
      ]
    },
    {
      "cell_type": "code",
      "source": [
        "print(people.values())"
      ],
      "metadata": {
        "colab": {
          "base_uri": "https://localhost:8080/"
        },
        "id": "lGKZVYx7wKVF",
        "outputId": "2be5c65f-032b-4cfb-c90c-2129be15105e"
      },
      "execution_count": null,
      "outputs": [
        {
          "output_type": "stream",
          "name": "stdout",
          "text": [
            "dict_values([53, 51, 11, 15.8])\n"
          ]
        }
      ]
    },
    {
      "cell_type": "code",
      "source": [
        "for key in sorted(people.keys()):\n",
        "    print(people[key])"
      ],
      "metadata": {
        "colab": {
          "base_uri": "https://localhost:8080/"
        },
        "id": "BbnMP4q9winr",
        "outputId": "db0389df-67bf-4cf5-e853-8473468ebfaf"
      },
      "execution_count": null,
      "outputs": [
        {
          "output_type": "stream",
          "name": "stdout",
          "text": [
            "15.8\n",
            "51\n",
            "11\n",
            "53\n"
          ]
        }
      ]
    },
    {
      "cell_type": "markdown",
      "source": [
        "# Python dictionaries\n",
        "\n",
        "- literal\n",
        "- build explicit\n",
        "    - add\n",
        "    - del\n",
        "- build with code using `zip` and `dict`\n",
        "- retrieving with `get` when default needed\n",
        "    - easier with `collections.defaultdict`\n",
        "\n"
      ],
      "metadata": {
        "id": "zlslwMfbmxbi"
      }
    },
    {
      "cell_type": "markdown",
      "source": [
        "## Counting Stuff Manually\n",
        "\n",
        "- later we'll see that Python has a built-in facility for this already"
      ],
      "metadata": {
        "id": "hbuvwPpx0u7C"
      }
    },
    {
      "cell_type": "code",
      "source": [
        "rand_list = []\n",
        "for i in range(100):\n",
        "    rand_list.append(random.randint(1,12))\n",
        "\n",
        "print(rand_list)"
      ],
      "metadata": {
        "id": "kQMTUAHtxpkn",
        "colab": {
          "base_uri": "https://localhost:8080/"
        },
        "outputId": "5461d0da-b389-42d9-ea9b-dd87a239cf8d"
      },
      "execution_count": null,
      "outputs": [
        {
          "output_type": "stream",
          "name": "stdout",
          "text": [
            "[9, 1, 10, 2, 12, 10, 10, 1, 12, 4, 3, 1, 1, 4, 9, 10, 8, 4, 10, 3, 1, 4, 6, 3, 8, 9, 4, 9, 4, 12, 7, 3, 2, 9, 10, 1, 5, 12, 3, 11, 9, 4, 5, 10, 3, 1, 7, 3, 7, 5, 3, 10, 5, 12, 11, 5, 10, 5, 2, 6, 1, 6, 3, 5, 4, 4, 2, 11, 4, 12, 10, 4, 7, 4, 5, 9, 2, 11, 9, 12, 4, 12, 5, 12, 7, 2, 9, 3, 5, 5, 6, 11, 10, 4, 2, 9, 7, 2, 2, 6]\n"
          ]
        }
      ]
    },
    {
      "cell_type": "code",
      "source": [
        "counts = {}\n",
        "\n",
        "for i in rand_list:\n",
        "    if i in counts:\n",
        "        counts[i] += 1\n",
        "    else:\n",
        "        counts[i] = 1\n",
        "\n",
        "print(counts)\n",
        "print(sum(counts.values()))"
      ],
      "metadata": {
        "colab": {
          "base_uri": "https://localhost:8080/"
        },
        "id": "lmAm8RuR4E1A",
        "outputId": "403af92a-6363-405b-8842-f4b3530fff09"
      },
      "execution_count": null,
      "outputs": [
        {
          "output_type": "stream",
          "name": "stdout",
          "text": [
            "{9: 10, 1: 8, 10: 11, 2: 9, 12: 9, 4: 14, 3: 10, 8: 2, 6: 5, 7: 6, 5: 11, 11: 5}\n",
            "100\n"
          ]
        }
      ]
    },
    {
      "cell_type": "code",
      "source": [
        "counts = {}\n",
        "\n",
        "for i in rand_list:\n",
        "    if i in counts:\n",
        "        # use dict.get with a default\n",
        "\n",
        "print(counts)\n",
        "print(sum(counts.values()))"
      ],
      "metadata": {
        "id": "rOCfUDLa5H_M"
      },
      "execution_count": null,
      "outputs": []
    },
    {
      "cell_type": "code",
      "source": [],
      "metadata": {
        "id": "AfgFEC1vbWgk"
      },
      "execution_count": null,
      "outputs": []
    }
  ]
}