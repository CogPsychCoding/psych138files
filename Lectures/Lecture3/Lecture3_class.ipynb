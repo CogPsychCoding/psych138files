{
  "nbformat": 4,
  "nbformat_minor": 0,
  "metadata": {
    "colab": {
      "provenance": [],
      "authorship_tag": "ABX9TyNmwyHkVOKWoJdxPKWFAura",
      "include_colab_link": true
    },
    "kernelspec": {
      "name": "python3",
      "display_name": "Python 3"
    },
    "language_info": {
      "name": "python"
    }
  },
  "cells": [
    {
      "cell_type": "markdown",
      "metadata": {
        "id": "view-in-github",
        "colab_type": "text"
      },
      "source": [
        "<a href=\"https://colab.research.google.com/github/CogPsychCoding/psych138files/blob/main/Lectures/Lecture3/Lecture3_class.ipynb\" target=\"_parent\"><img src=\"https://colab.research.google.com/assets/colab-badge.svg\" alt=\"Open In Colab\"/></a>"
      ]
    },
    {
      "cell_type": "markdown",
      "source": [
        "# Lecture 3"
      ],
      "metadata": {
        "id": "tByboe1Z_8Af"
      }
    },
    {
      "cell_type": "markdown",
      "source": [
        "## Ideas Not Highlighted Last Time\n",
        "\n",
        "- PEMDAS and PEDMAS are both correct\n",
        "    - MD or DM\n",
        "    - AS or SA\n",
        "    - Whichever comes first\n",
        "- Talk briefly about mutablity, as in, the types of values we've talked about so far are all immutable!\n",
        "- Value assignment and reassignment in Python\n",
        "- what happens when 2 names point to the same value\n",
        "    - partial; more later when we talk about mutable types\n",
        "- Spaces in Python (vs how other languages do it), e.g., in functions, for defining **Code Blocks**"
      ],
      "metadata": {
        "id": "01547vICENJ-"
      }
    },
    {
      "cell_type": "code",
      "source": [
        " a = 6.87\n",
        " a = a + 2\n",
        "\n",
        " print(a)"
      ],
      "metadata": {
        "colab": {
          "base_uri": "https://localhost:8080/"
        },
        "id": "IOWSx1TbHHX9",
        "outputId": "5628bdc4-1506-42d7-96d5-a0aea773c181"
      },
      "execution_count": 5,
      "outputs": [
        {
          "output_type": "stream",
          "name": "stdout",
          "text": [
            "8.870000000000001\n"
          ]
        }
      ]
    },
    {
      "cell_type": "code",
      "source": [
        "a = \"Serenity\"\n",
        "a = a + \"!\"\n",
        "print(a)"
      ],
      "metadata": {
        "colab": {
          "base_uri": "https://localhost:8080/"
        },
        "id": "lGP0ZU_yL35u",
        "outputId": "8317f81e-5197-4a43-eeb9-8f098270792f"
      },
      "execution_count": 8,
      "outputs": [
        {
          "output_type": "stream",
          "name": "stdout",
          "text": [
            "Serenity!\n"
          ]
        }
      ]
    },
    {
      "cell_type": "code",
      "source": [
        "a = 6\n",
        "b = a\n",
        "a = 12\n",
        "print(a, b)\n"
      ],
      "metadata": {
        "colab": {
          "base_uri": "https://localhost:8080/"
        },
        "id": "795nldcQMjpy",
        "outputId": "028cf92a-43cd-490b-f518-9abb756444fb"
      },
      "execution_count": 9,
      "outputs": [
        {
          "output_type": "stream",
          "name": "stdout",
          "text": [
            "12 6\n"
          ]
        }
      ]
    },
    {
      "cell_type": "markdown",
      "source": [],
      "metadata": {
        "id": "Wx0bv2WkLx3X"
      }
    },
    {
      "cell_type": "code",
      "source": [
        "# I'll run through Thonny to step through\n",
        "\n",
        "5 + (4 - 2) / 2 ** 2 * 4\n",
        "# 5 + 4 * (4 - 2) / 2 ** 2\n",
        "# 5 + 4 * (4 - 2 + 1) / 2 ** 2"
      ],
      "metadata": {
        "colab": {
          "base_uri": "https://localhost:8080/",
          "height": 0
        },
        "id": "_EizAiTPD1OJ",
        "outputId": "fe9bc2e0-c758-4524-fff7-92c283b8bde4"
      },
      "execution_count": 1,
      "outputs": [
        {
          "output_type": "execute_result",
          "data": {
            "text/plain": [
              "7.0"
            ]
          },
          "metadata": {},
          "execution_count": 1
        }
      ]
    },
    {
      "cell_type": "markdown",
      "source": [
        "## What Students Learned from Book\n",
        "\n",
        "- Boolean Values 32\n",
        "- Comparison Operators 33\n",
        "- Boolean Operators 35\n",
        "- Binary Boolean Operators 35\n",
        "- The not Operator  36\n",
        "- Mixing Boolean and Comparison Operators 36"
      ],
      "metadata": {
        "id": "j5Ld_GS1HA1i"
      }
    },
    {
      "cell_type": "markdown",
      "source": [
        "## What Students Learned from Video\n",
        "\n",
        "The Boolean data type has only two values: `True` and `False` (both beginning with capital letters).\n",
        "Comparison operators compare two values and evaluate to a Boolean value: `==, !=, <, >, <=, >=`\n",
        "== is a comparison operator, while = is the assignment operator for variables.\n",
        "Boolean operators (`and, or, not`) also evaluate to Boolean values. Truth Table (`and or`)."
      ],
      "metadata": {
        "id": "cHfFAGp7CI0A"
      }
    },
    {
      "cell_type": "markdown",
      "source": [
        "## Reminders\n",
        "\n",
        "- '=' != '=='s but is a common mistake `(e.g, a = \"hello\" instead of a == \"hello\")`"
      ],
      "metadata": {
        "id": "P11yiLYlC1w2"
      }
    },
    {
      "cell_type": "code",
      "execution_count": 11,
      "metadata": {
        "id": "douXT1aH_ufw",
        "colab": {
          "base_uri": "https://localhost:8080/"
        },
        "outputId": "5adba136-9f5c-4566-f322-fddbfac5614e"
      },
      "outputs": [
        {
          "output_type": "execute_result",
          "data": {
            "text/plain": [
              "True"
            ]
          },
          "metadata": {},
          "execution_count": 11
        }
      ],
      "source": [
        "a = 6\n",
        "a == 6"
      ]
    },
    {
      "cell_type": "markdown",
      "source": [
        "## Bogus Choice RT Detector\n",
        "\n",
        "Based on know limits\n",
        "\n",
        "- inclusive\n",
        "- exclusive\n",
        "- partially inclusive"
      ],
      "metadata": {
        "id": "JKNnNW59Cn_r"
      }
    },
    {
      "cell_type": "code",
      "source": [
        "too_fast = 150  # ms\n",
        "too_slow = 550  # ms\n",
        "RT = 100  # ms\n",
        "\n",
        "print(RT < too_slow and RT > too_fast)"
      ],
      "metadata": {
        "id": "JrrgZCCaDhnV",
        "colab": {
          "base_uri": "https://localhost:8080/"
        },
        "outputId": "54def8a4-0888-4713-bed2-af0434909425"
      },
      "execution_count": 20,
      "outputs": [
        {
          "output_type": "stream",
          "name": "stdout",
          "text": [
            "False\n"
          ]
        }
      ]
    },
    {
      "cell_type": "markdown",
      "source": [
        "## Outlier Detector\n",
        "\n",
        "- More formal approach based on degree of deviation from the population or sample mean"
      ],
      "metadata": {
        "id": "iqtdpQThDh69"
      }
    },
    {
      "cell_type": "code",
      "source": [
        "mean = 568  # ms\n",
        "stdev = 64.2  # ms\n",
        "mult = 3.0\n",
        "\n",
        "RT = 550\n",
        "\n",
        "print(mean + mult * stdev)\n",
        "RT > mean + mult * stdev"
      ],
      "metadata": {
        "id": "P0Ys-IShDk-m",
        "outputId": "06d2b41b-5857-4d19-a64b-5ee1e247c3c1",
        "colab": {
          "base_uri": "https://localhost:8080/"
        }
      },
      "execution_count": 31,
      "outputs": [
        {
          "output_type": "stream",
          "name": "stdout",
          "text": [
            "760.6\n"
          ]
        },
        {
          "output_type": "execute_result",
          "data": {
            "text/plain": [
              "False"
            ]
          },
          "metadata": {},
          "execution_count": 31
        }
      ]
    },
    {
      "cell_type": "code",
      "source": [
        "print(mean - mult * stdev)\n",
        "RT < mean - mult * stdev"
      ],
      "metadata": {
        "colab": {
          "base_uri": "https://localhost:8080/"
        },
        "id": "InZKVG88UQoR",
        "outputId": "fb545e60-f944-4cef-f4e4-49b8ba73c472"
      },
      "execution_count": 32,
      "outputs": [
        {
          "output_type": "stream",
          "name": "stdout",
          "text": [
            "375.4\n"
          ]
        },
        {
          "output_type": "execute_result",
          "data": {
            "text/plain": [
              "False"
            ]
          },
          "metadata": {},
          "execution_count": 32
        }
      ]
    },
    {
      "cell_type": "code",
      "source": [
        "RT > mean + mult * stdev or RT < mean - mult * stdev"
      ],
      "metadata": {
        "colab": {
          "base_uri": "https://localhost:8080/"
        },
        "id": "7ZbBlKtGUo9Z",
        "outputId": "f6b57674-f5b0-4c8b-8ebc-58628398582e"
      },
      "execution_count": 34,
      "outputs": [
        {
          "output_type": "execute_result",
          "data": {
            "text/plain": [
              "False"
            ]
          },
          "metadata": {},
          "execution_count": 34
        }
      ]
    },
    {
      "cell_type": "code",
      "source": [
        "(mean - mult * stdev) < RT < (mean + mult * stdev)"
      ],
      "metadata": {
        "colab": {
          "base_uri": "https://localhost:8080/"
        },
        "id": "LOTZTZW-V_yJ",
        "outputId": "b450d56b-4abd-4e69-d7ac-ba6e12624f13"
      },
      "execution_count": 35,
      "outputs": [
        {
          "output_type": "execute_result",
          "data": {
            "text/plain": [
              "True"
            ]
          },
          "metadata": {},
          "execution_count": 35
        }
      ]
    },
    {
      "cell_type": "markdown",
      "source": [
        "## Odd Number Detector Using % Operator (Mod)\n"
      ],
      "metadata": {
        "id": "MIR6md-QFeQ7"
      }
    },
    {
      "cell_type": "code",
      "source": [
        "bool(15 % 2)"
      ],
      "metadata": {
        "id": "1OqXkL2DFlfF",
        "colab": {
          "base_uri": "https://localhost:8080/"
        },
        "outputId": "aca02a80-d18c-4a20-8537-a3403d567c02"
      },
      "execution_count": 55,
      "outputs": [
        {
          "output_type": "execute_result",
          "data": {
            "text/plain": [
              "True"
            ]
          },
          "metadata": {},
          "execution_count": 55
        }
      ]
    },
    {
      "cell_type": "markdown",
      "source": [
        "## What Else Is Truthy?\n",
        "\n",
        "- None\n",
        "- Empty String\n",
        "- Empty Iterable (we've only learned strings so far)\n",
        "- Numbers\n",
        "- Actualy the previous 3 entries could be summarized as \"any type or object in Python can be Truthy relative to an initialized version\"\n"
      ],
      "metadata": {
        "id": "vSTXGocmDt-O"
      }
    },
    {
      "cell_type": "code",
      "source": [
        "a = 0\n",
        "m = 0\n",
        "print('force =', m * a)"
      ],
      "metadata": {
        "id": "cc2zi9OvEBrU",
        "colab": {
          "base_uri": "https://localhost:8080/"
        },
        "outputId": "19673dec-bbe7-4c9d-bcb6-1c86be53095a"
      },
      "execution_count": 65,
      "outputs": [
        {
          "output_type": "stream",
          "name": "stdout",
          "text": [
            "force = 0\n"
          ]
        }
      ]
    },
    {
      "cell_type": "markdown",
      "source": [
        "age = 22\n"
      ],
      "metadata": {
        "id": "Q1EhEh4LEARy"
      }
    },
    {
      "cell_type": "code",
      "source": [],
      "metadata": {
        "id": "u_BIkqDhZ5im"
      },
      "execution_count": null,
      "outputs": []
    },
    {
      "cell_type": "code",
      "source": [
        "age = 22\n",
        "\n",
        "print(age > 21 and age < 56 and age != 36)\n",
        "print(age > 21 and age < 56 and not age == 36)\n",
        "\n",
        "21 < age < 56 and age != 36"
      ],
      "metadata": {
        "colab": {
          "base_uri": "https://localhost:8080/"
        },
        "id": "3lbqPFbaaEMu",
        "outputId": "412e170d-a683-47c2-d195-60f6c5b9e7bb"
      },
      "execution_count": 69,
      "outputs": [
        {
          "output_type": "execute_result",
          "data": {
            "text/plain": [
              "True"
            ]
          },
          "metadata": {},
          "execution_count": 69
        }
      ]
    }
  ]
}