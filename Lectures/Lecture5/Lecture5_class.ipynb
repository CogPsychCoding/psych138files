{
  "nbformat": 4,
  "nbformat_minor": 0,
  "metadata": {
    "colab": {
      "provenance": [],
      "authorship_tag": "ABX9TyMtb/GgsiLy6ocsuC6/T4Vo",
      "include_colab_link": true
    },
    "kernelspec": {
      "name": "python3",
      "display_name": "Python 3"
    },
    "language_info": {
      "name": "python"
    }
  },
  "cells": [
    {
      "cell_type": "markdown",
      "metadata": {
        "id": "view-in-github",
        "colab_type": "text"
      },
      "source": [
        "<a href=\"https://colab.research.google.com/github/CogPsychCoding/psych138files/blob/main/Lectures/Lecture5/Lecture5_class.ipynb\" target=\"_parent\"><img src=\"https://colab.research.google.com/assets/colab-badge.svg\" alt=\"Open In Colab\"/></a>"
      ]
    },
    {
      "cell_type": "markdown",
      "source": [
        "# Setup"
      ],
      "metadata": {
        "id": "HyX1Sjz2ADty"
      }
    },
    {
      "cell_type": "code",
      "source": [
        "import time"
      ],
      "metadata": {
        "id": "3rGJt2dQAFT8"
      },
      "execution_count": null,
      "outputs": []
    },
    {
      "cell_type": "markdown",
      "source": [
        "# Lecture 5"
      ],
      "metadata": {
        "id": "otgoZoK56RF2"
      }
    },
    {
      "cell_type": "markdown",
      "source": [
        "## Students Learned from Vid6\n",
        "\n",
        "- When the execution reaches the end of a \"while\" statement's block, it jumps back to the start to re-check the condition.\n",
        "- You can press ctrl-c to interrupt an infinite loop. This hotkey stops Python programs. <mark>DO NOT DO THIS In Jupyter Notebooks (i.e., Google Colab), ctrl-c means copy the cell, not interrupt!! Instead, press the STOP button next to the cell.</mark>\n",
        "- A \"break\" statement causes the execution to immediately leave the loop, without re-check the condition.\n",
        "- A \"continue\" statement causes the execution to immediate jump back to the start of the loop and re-check the condition."
      ],
      "metadata": {
        "id": "2Fkhq3YeZZ-v"
      }
    },
    {
      "cell_type": "markdown",
      "source": [
        "## Controlling Flow With If/Elif/Else\n",
        "\n"
      ],
      "metadata": {
        "id": "jnw7s6kpZ_oJ"
      }
    },
    {
      "cell_type": "code",
      "source": [
        "some_truthy_expression = True\n",
        "\n",
        "if some_truthy_expression:\n",
        "    print('Evaluate this block once')\n",
        "else:\n",
        "    print('Evaluate this alternative block once')"
      ],
      "metadata": {
        "id": "2D2-zONNawfg",
        "colab": {
          "base_uri": "https://localhost:8080/"
        },
        "outputId": "f7d6ed9d-9661-4f9c-f0a4-8c012acfa260"
      },
      "execution_count": null,
      "outputs": [
        {
          "output_type": "stream",
          "name": "stdout",
          "text": [
            "Evaluate this block once\n"
          ]
        }
      ]
    },
    {
      "cell_type": "markdown",
      "source": [
        "## Controlling Flow With While"
      ],
      "metadata": {
        "id": "vGTZAyosaxMj"
      }
    },
    {
      "cell_type": "code",
      "source": [
        "some_truthy_expression = True\n",
        "\n",
        "# commented out because it creates infinite loop\n",
        "\n",
        "# while some_truthy_expression:\n",
        "#    print('Evaluate this block continually, as long as some_truthy_expression evaluates to True')"
      ],
      "metadata": {
        "id": "s7fCT0BLa-MC"
      },
      "execution_count": null,
      "outputs": []
    },
    {
      "cell_type": "markdown",
      "source": [
        "### A while loop with a timeout"
      ],
      "metadata": {
        "id": "LWmYcycP5fNz"
      }
    },
    {
      "cell_type": "code",
      "source": [
        "print('Stopwatch Started.'\n",
        "start = time.time()\n",
        "input(\"Hit ENTER to stop timer!\")\n",
        "print(time.time() - start)"
      ],
      "metadata": {
        "id": "Z__1k-zQ5lSn",
        "colab": {
          "base_uri": "https://localhost:8080/"
        },
        "outputId": "74c4a14b-bfa1-41df-e737-90c496e80231"
      },
      "execution_count": null,
      "outputs": [
        {
          "output_type": "stream",
          "name": "stdout",
          "text": [
            "HIT ENTER\n",
            "12.17112922668457\n"
          ]
        }
      ]
    },
    {
      "cell_type": "code",
      "source": [
        "start = time.time()\n",
        "\n",
        "while time.time() - start < 2.0:\n",
        "    print(f\"{time.time() - start} seconds has elapsed...\")"
      ],
      "metadata": {
        "id": "9wOJDlpe6QXV"
      },
      "execution_count": null,
      "outputs": []
    },
    {
      "cell_type": "markdown",
      "source": [
        "## Statistics Test Chooser\n",
        "\n",
        "Using while to make sure you get valid input from user.\n",
        "\n",
        "First consider this version without any looping:"
      ],
      "metadata": {
        "id": "FgSn9WCCc6Iq"
      }
    },
    {
      "cell_type": "code",
      "source": [
        "print('which kind of test? (r = relationship between variables, c = comparing means)')\n",
        "what_test = input()\n",
        "if what_test == 'r':\n",
        "    print(\"which kind of variables? (n = nominal, i = interval or ratio)\")\n",
        "    which_kind_var = input()\n",
        "    if which_kind_var == 'n':\n",
        "        print('do a chi-square test')\n",
        "    else:\n",
        "        print('how many variables (1-10)?')\n",
        "        how_many_var = int(input())\n",
        "        if how_many_var <= 2:\n",
        "            print(\"do a correlation\")\n",
        "        else:\n",
        "            print('do a regression')\n",
        "elif what_test == 'c':\n",
        "    print(\"I haven't programmed that branch yet!\")\n",
        "else:\n",
        "    print(f'{what_test} is not a valid choice!')"
      ],
      "metadata": {
        "id": "jsqJw25HdcFE"
      },
      "execution_count": null,
      "outputs": []
    },
    {
      "cell_type": "markdown",
      "source": [
        "One with above code is that if you enter something invalid (invalid number), it complains and then quits!\n",
        "\n",
        "We can fix this using `while` loops."
      ],
      "metadata": {
        "id": "CnuQnbEvd93o"
      }
    },
    {
      "cell_type": "code",
      "source": [
        "what_test = ''\n",
        "\n",
        "while what_test != 'r' and what_test != 'c':\n",
        "    print('which kind of test? (r = relationship between variables, c = comparing means)')\n",
        "    what_test = input()\n",
        "    if what_test == '':\n",
        "        break\n",
        "\n",
        "    if what_test == 'r':\n",
        "        which_kind_var = ''\n",
        "        while which_kind_var != 'n' and which_kind_var != 'i':\n",
        "            print(\"which kind of variables? (n = nominal, i = interval or ratio)\")\n",
        "            which_kind_var = input()\n",
        "            if which_kind_var == '':\n",
        "                break\n",
        "\n",
        "        if which_kind_var == 'n':\n",
        "            print('do a chi-square test')\n",
        "        else:\n",
        "            how_many_var = 0\n",
        "            while not 1 <= how_many_var <= 10:\n",
        "                print('how many variables (1-10)?')\n",
        "                how_many_var_str = input()  # str\n",
        "                if how_many_var_str.isdigit():\n",
        "                    how_many_var = int(how_many_var_str)\n",
        "                else:\n",
        "                    print('what you entered was not a number')\n",
        "\n",
        "            if how_many_var <= 2:\n",
        "                print(\"do a correlation\")\n",
        "            else:\n",
        "                print('do a regression')\n",
        "    elif what_test == 'c':\n",
        "        print(\"I haven't programmed that branch yet!\")\n",
        "    else:\n",
        "        print(f'{what_test} is not a valid choice!')\n",
        "\n"
      ],
      "metadata": {
        "colab": {
          "base_uri": "https://localhost:8080/"
        },
        "id": "_m6RVtPHP0x_",
        "outputId": "26d5cd45-4688-4019-e220-2cd44edab4d6"
      },
      "execution_count": null,
      "outputs": [
        {
          "output_type": "stream",
          "name": "stdout",
          "text": [
            "which kind of test? (r = relationship between variables, c = comparing means)\n",
            "d\n",
            "d is not a valid choice!\n",
            "which kind of test? (r = relationship between variables, c = comparing means)\n",
            "r\n",
            "which kind of variables? (n = nominal, i = interval or ratio)\n",
            "i\n",
            "how many variables (1-10)?\n",
            "d\n",
            "what you entered was not a number\n",
            "how many variables (1-10)?\n",
            "d\n",
            "what you entered was not a number\n",
            "how many variables (1-10)?\n",
            "0\n",
            "how many variables (1-10)?\n",
            "3\n",
            "do a regression\n"
          ]
        }
      ]
    },
    {
      "cell_type": "code",
      "source": [],
      "metadata": {
        "id": "E_xSeBNBHyXZ"
      },
      "execution_count": null,
      "outputs": []
    },
    {
      "cell_type": "markdown",
      "source": [
        "## Calculate Mean Response Time (RT)\n",
        "\n",
        "How do you calcuate a mean?\n",
        "\n",
        "We don't know ahead of time how many RTs the user will give us!\n",
        "\n",
        "Need to keep getting input until they want to stop.\n",
        "\n",
        "We need to give them a way to let us know they are through entering RTs."
      ],
      "metadata": {
        "id": "aZ3zf2GX2JrV"
      }
    },
    {
      "cell_type": "code",
      "source": [
        "summed_RTs = 0\n",
        "N = 0\n",
        "\n",
        "minimum = 0\n",
        "maximum = 1000\n",
        "\n",
        "while True:\n",
        "    RT = input(\"Enter an RT in milliseconds: \")  # comment\n",
        "\n",
        "    if not RT:\n",
        "        break\n",
        "\n",
        "    if not RT.isdigit():\n",
        "        continue\n",
        "\n",
        "    # summed_RTs = summed_RTs + int(RT)\n",
        "    summed_RTs += int(RT)\n",
        "    N += 1\n",
        "\n",
        "if N:\n",
        "    mean = summed_RTs / N\n",
        "\n",
        "    print(f\"N={N}, mean={round(mean,2)}\")\n",
        "    # print(f\"N={N}, minRT={}, maxRT={}, mean={mean:0.2f}\")\n",
        "else:\n",
        "    print(\"you didn't enter any RTs\")"
      ],
      "metadata": {
        "id": "C4L7o6ew26cc"
      },
      "execution_count": null,
      "outputs": []
    },
    {
      "cell_type": "code",
      "source": [
        "f\"{3.21:0.2f}\"  # Yes, this will round where relevant"
      ],
      "metadata": {
        "colab": {
          "base_uri": "https://localhost:8080/"
        },
        "id": "7DE45pj1fJnY",
        "outputId": "b17fc5c6-6ea7-404b-9ce7-33e2a9489369"
      },
      "execution_count": null,
      "outputs": [
        {
          "output_type": "execute_result",
          "data": {
            "text/plain": [
              "'3.21'"
            ],
            "application/vnd.google.colaboratory.intrinsic+json": {
              "type": "string"
            }
          },
          "metadata": {},
          "execution_count": 3
        }
      ]
    }
  ]
}