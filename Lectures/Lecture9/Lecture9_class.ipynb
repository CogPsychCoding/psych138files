{
  "nbformat": 4,
  "nbformat_minor": 0,
  "metadata": {
    "colab": {
      "provenance": [],
      "authorship_tag": "ABX9TyNbN+9Zr5qIr4OPrknbEleb",
      "include_colab_link": true
    },
    "kernelspec": {
      "name": "python3",
      "display_name": "Python 3"
    },
    "language_info": {
      "name": "python"
    }
  },
  "cells": [
    {
      "cell_type": "markdown",
      "metadata": {
        "id": "view-in-github",
        "colab_type": "text"
      },
      "source": [
        "<a href=\"https://colab.research.google.com/github/CogPsychCoding/psych138files/blob/main/Lectures/Lecture9/Lecture9_class.ipynb\" target=\"_parent\"><img src=\"https://colab.research.google.com/assets/colab-badge.svg\" alt=\"Open In Colab\"/></a>"
      ]
    },
    {
      "cell_type": "markdown",
      "source": [
        "# Setup"
      ],
      "metadata": {
        "id": "bXTGCDoemlkQ"
      }
    },
    {
      "cell_type": "code",
      "source": [
        "import random"
      ],
      "metadata": {
        "id": "CSahexcCmhD_"
      },
      "execution_count": null,
      "outputs": []
    },
    {
      "cell_type": "markdown",
      "source": [
        "# Lecture 9\n",
        "- from exam\n",
        "    - **imports must be at the top going forward**\n",
        "    - **indents must be 4 spaces going forward**\n",
        "        - can change in TOOLS-->SETTINGS-->EDITOR-->INDENTION_WIDTH\n",
        "    - using function parameters\n",
        "        - types are just hints (more on this later)\n",
        "        - typically, don't alter (more on this later), but can copy if need editable version\n",
        "    - tests\n",
        "    - pay atention to range specifications\n",
        "    - `x not in y` IS NOT GUANRATEED TO BE SAME AS `not x in y`\n",
        "    - use notebook help for\n",
        "        - function/method parameters\n",
        "        - function/method return types\n",
        "        - available module functions (e.g., random.???)\n",
        "    - maximizing points when you only know how to do some of it\n",
        "        - outline\n",
        "        - do easy parts\n",
        "        - then harder parts\n",
        "        - save unknown/figure-it-out parts for second pass\n",
        "            - move on to other questions\n",
        "    \n",
        "- assignment/midterm questions\n",
        "    - lists\n",
        "    - strings\n",
        "    - while vs for loops\n",
        "    - looping over positions vs looping over items\n",
        "    - unpacking\n",
        "    - logic of conditionals\n",
        "    - breaking up long compound expressions\n",
        "\n",
        "\n"
      ],
      "metadata": {
        "id": "e6NtdIB0mgww"
      }
    },
    {
      "cell_type": "markdown",
      "source": [
        "- Write a program that generates 20 unique random numbers between 1 and 100 (inclusive).\n",
        "- When 20 unique random numbers have been generated, print the entire list to the user.\n",
        "- Print the list a second time in order.\n",
        "\n",
        "E.g.:\n",
        "\n",
        "```\n",
        "[56, 68, 36, 81, 85, 10, 37, 27, 76, 11, 13, 17, 92, 44, 41, 51, 48, 78, 7, 15]\n",
        "[7, 10, 11, 13, 15, 17, 27, 36, 37, 41, 44, 48, 51, 56, 68, 76, 78, 81, 85, 92]\n"
      ],
      "metadata": {
        "id": "NNob6Rt7yzDC"
      }
    },
    {
      "cell_type": "code",
      "source": [
        "def unique_random_numbers():\n",
        "\n",
        "    numbers = []\n",
        "\n",
        "    while len(numbers) < 20:\n",
        "        rand_num = random.randint(1,100)\n",
        "        if rand_num not in numbers:\n",
        "            # add it to the list\n",
        "            numbers.append(rand_num)\n",
        "\n",
        "    # generate 20 rand\n",
        "    for i in range(20):\n",
        "        # # generate a rand num\n",
        "        # rand_num = random.randint(1,100)\n",
        "        # # add to list if it's unique\n",
        "        # if rand_num not in numbers:\n",
        "        #     numbers.append(rand_num)\n",
        "\n",
        "        # generate random numbers until we get one thats not in the list\n",
        "        while True:\n",
        "            rand_num = random.randint(1,100)\n",
        "            if rand_num not in numbers:\n",
        "                # add it to the list\n",
        "                numbers.append(rand_num)\n",
        "                break\n",
        "\n",
        "\n",
        "    # print unsorted\n",
        "    print(numbers)\n",
        "    # print(enumerate(numbers))\n",
        "\n",
        "    # print sorted\n",
        "    numbers.sort()\n",
        "    print(numbers)\n",
        "\n",
        "# function test run\n",
        "unique_random_numbers()"
      ],
      "metadata": {
        "id": "q-LqxC0kzC1r",
        "colab": {
          "base_uri": "https://localhost:8080/"
        },
        "outputId": "2517e794-d1eb-43ac-bcb9-9934cdeb3d4b"
      },
      "execution_count": null,
      "outputs": [
        {
          "output_type": "stream",
          "name": "stdout",
          "text": [
            "[30, 2, 93, 33, 54, 46, 79, 75, 51, 92, 1, 52, 100, 20, 5, 61, 6, 41, 42, 38]\n",
            "[1, 2, 5, 6, 20, 30, 33, 38, 41, 42, 46, 51, 52, 54, 61, 75, 79, 92, 93, 100]\n"
          ]
        }
      ]
    },
    {
      "cell_type": "code",
      "source": [
        "a = [33, 86, 1, 18, 72, 61, 79, 80, 58, 5, 82, 90, 73, 11, 32, 71, 67, 57, 6, 30]\n",
        "list(enumerate(a))"
      ],
      "metadata": {
        "colab": {
          "base_uri": "https://localhost:8080/"
        },
        "id": "oXmgnzIJOAZ5",
        "outputId": "1fa06716-a443-4609-8e72-608cd361ca82"
      },
      "execution_count": null,
      "outputs": [
        {
          "output_type": "execute_result",
          "data": {
            "text/plain": [
              "[(0, 33),\n",
              " (1, 86),\n",
              " (2, 1),\n",
              " (3, 18),\n",
              " (4, 72),\n",
              " (5, 61),\n",
              " (6, 79),\n",
              " (7, 80),\n",
              " (8, 58),\n",
              " (9, 5),\n",
              " (10, 82),\n",
              " (11, 90),\n",
              " (12, 73),\n",
              " (13, 11),\n",
              " (14, 32),\n",
              " (15, 71),\n",
              " (16, 67),\n",
              " (17, 57),\n",
              " (18, 6),\n",
              " (19, 30)]"
            ]
          },
          "metadata": {},
          "execution_count": 31
        }
      ]
    },
    {
      "cell_type": "code",
      "source": [
        "numbers=[1,2,3,4,5,-6]\n",
        "# 6 not in numbers\n",
        "not 6 in numbers"
      ],
      "metadata": {
        "colab": {
          "base_uri": "https://localhost:8080/"
        },
        "id": "G0QLKJZ95zsP",
        "outputId": "abea6703-a6ed-4571-8f34-ceee677d6888"
      },
      "execution_count": null,
      "outputs": [
        {
          "output_type": "execute_result",
          "data": {
            "text/plain": [
              "True"
            ]
          },
          "metadata": {},
          "execution_count": 11
        }
      ]
    },
    {
      "cell_type": "markdown",
      "source": [
        "Write a function called `truth` that accepts two integer parameters called a and b.\n",
        "\n",
        "Return `True` if all of these are true:\n",
        "\n",
        "- a and b are each non-zero\n",
        "- the sum of a and b are > 10\n",
        "- the product of a and b are < 100\n",
        "\n",
        "OR this is true:\n",
        "\n",
        "- b is equal to twice the value of a\n",
        "\n",
        "Otherwise your function should return `False`"
      ],
      "metadata": {
        "id": "mAdID-PDzDK3"
      }
    },
    {
      "cell_type": "code",
      "source": [
        "def truth(a:int , b:int):\n",
        "    # a & b are nono zero\n",
        "    # sum a b > 10\n",
        "    # a * b < 100\n",
        "\n",
        "    cond1 = a != 0 and b != 0\n",
        "    cond2 = a + b > 10\n",
        "    cond3 = a * b < 100\n",
        "    cond4 = b = 2 * a\n",
        "\n",
        "    return (cond1 and cond2 and cond3) or cond4\n",
        "\n",
        "    # return (a != 0 and b != 0 and a+b > 10 and a*b < 100) or b == 2 * a\n",
        "\n",
        "    # if (a != 0 and b != 0 and a+b > 10 and a*b < 100) or b == 2 * a:\n",
        "    #     return True\n",
        "    # else:\n",
        "    #     return False\n",
        "\n",
        "    # if a != 0 and b != 0 and a+b > 10 and a*b < 100:\n",
        "    #     return True\n",
        "    # elif b == 2 * a:\n",
        "    #     return True\n",
        "    # else:\n",
        "    #     return False\n",
        "\n",
        "\n",
        "# function test run\n",
        "print(truth(a=5, b=10))\n",
        "\n",
        "# If your code works, the following should all print True\n",
        "print(\">\", truth(a=5, b=10) is True)\n",
        "print(\">\", truth(a=0, b=10) is False)\n",
        "print(\">\", truth(a=1, b=100) is False)\n",
        "print(\">\", truth(a=0, b=10) is False)"
      ],
      "metadata": {
        "id": "jwg55KK20DAW",
        "colab": {
          "base_uri": "https://localhost:8080/"
        },
        "outputId": "c1259a9a-e21b-43e7-cb51-72358deaa057"
      },
      "execution_count": null,
      "outputs": [
        {
          "output_type": "stream",
          "name": "stdout",
          "text": [
            "True\n",
            "> True\n",
            "> True\n",
            "> True\n",
            "> True\n"
          ]
        }
      ]
    },
    {
      "cell_type": "markdown",
      "source": [
        "Create function called `decode` that accepts a string parameter called `text` and returns the decoded text according to this translation:\n",
        "\n",
        "```\n",
        "1234567890\n",
        "AEIOUFTRBS\n",
        "```\n",
        "\n",
        "For example, if the input string is `71829` then your function returns `FIBER`.\n",
        "\n",
        "If `text` contains characters for which there is no number code, just pass those through unaltered. For example, if the input string is `Hello 849`, then return `Hello ROB`."
      ],
      "metadata": {
        "id": "pj7T0FRrzOPW"
      }
    },
    {
      "cell_type": "code",
      "source": [
        "# FIX THIS CODE!\n",
        "\n",
        "def decode(text:str):\n",
        "    new_string = ''\n",
        "\n",
        "    nums =  ['1', '2', '3', '4', '5', '6', '7', '8', '9', '0']\n",
        "    chars = ['A', 'E', 'I', 'O', 'U', 'F', 'T', 'R', 'B', 'S']\n",
        "\n",
        "    for char in text:\n",
        "        if char in nums:\n",
        "            # translate\n",
        "            pos = nums.index(char)  # in what position is this char in nums list\n",
        "            # print(f'{pos=}')\n",
        "            new_string += chars[pos]  # give me character at this same position in chars list\n",
        "        else:\n",
        "            new_string += char\n",
        "\n",
        "    return new_string\n",
        "\n",
        "# function test run\n",
        "print(decode(\"63928\"))\n",
        "\n",
        "# If your code works, the following should all print True\n",
        "print(\">\", decode(\"63928\") == \"FIBER\")\n",
        "print(\">\", decode(\"Hello 849\") == \"Hello ROB\")\n",
        "print(\">\", decode(\"638294170\") == \"FIREBOATS\")\n",
        "print(\">\", decode(\"9186\") == \"BARF\")\n",
        "print(\">\", decode(\"01947258\") == \"SABOTEUR\")"
      ],
      "metadata": {
        "id": "5zFGT6g41bDo",
        "colab": {
          "base_uri": "https://localhost:8080/"
        },
        "outputId": "636587a6-9210-4d13-90d4-20437bb21d51"
      },
      "execution_count": null,
      "outputs": [
        {
          "output_type": "stream",
          "name": "stdout",
          "text": [
            "FIBER\n",
            "> True\n",
            "> True\n",
            "> True\n",
            "> True\n",
            "> True\n"
          ]
        }
      ]
    },
    {
      "cell_type": "code",
      "source": [
        "nums = ['1', '2', '3', '4', '5', '6', '7', '8', '9', '0']\n",
        "if 'X' in nums:\n",
        "    nums.index('X')"
      ],
      "metadata": {
        "id": "EJyriQTUTfLl"
      },
      "execution_count": null,
      "outputs": []
    },
    {
      "cell_type": "markdown",
      "source": [
        "Write a function called **list_math** that takes a list parameter called calcs.\n",
        "\n",
        "Each item in calcs will be a tuple that contains two values and an operation string (either add or subtract or multiply).\n",
        "\n",
        "For example `(3, 3, 'add')` or `(4, 34, 'subtract')`.\n",
        "\n",
        "You are to return a list the same size as calcs, that contains the mathematical output of the numbers and operations in each tuple.\n",
        "\n",
        "For example, if the input list is `[(3, 3, 'add'), (2, 5, 'subtract')]`, your function should return `[6, -3]`\n",
        "\n",
        "You **must** use variable unpacking in your answer.\n",
        "\n",
        "If the operator is not add subtract or multiply then the result should be `None`"
      ],
      "metadata": {
        "id": "uqnrth0Q4n5g"
      }
    },
    {
      "cell_type": "code",
      "source": [
        "def list_math(calcs: list):\n",
        "    output = []\n",
        "    for num1, num2, operation in calcs:\n",
        "        if operation == 'add':\n",
        "            output.append(num1 + num2)\n",
        "        # add sections for multiply and divide here!\n",
        "        else:\n",
        "            output.append(None)\n",
        "    return output\n",
        "\n",
        "# function test run\n",
        "print(list_math([(6, 3, 'add'), (-2, -10, 'add'), (100, 34, 'subtract'), (12, 1.3, 'divide'), (10, .25, 'multiply')]))\n",
        "\n",
        "# If your code works, the following should all print True\n",
        "print(\"> \", list_math([(6, 3, 'add'), (-2, -10, 'add'), (100, 34, 'subtract'), (12, 1.3, 'divide'), (10, .25, 'multiply')]) == [9, -12, 66, None, 2.5])\n",
        "print(\"> \", list_math([(0, 0, 'square'), (33, 99.33, 'average'), (1, 2, 'Add')]) == [None, None, None])"
      ],
      "metadata": {
        "id": "cAzrKd7C4odX",
        "colab": {
          "base_uri": "https://localhost:8080/"
        },
        "outputId": "d6dcd645-2aee-4074-97da-0a9596b79238"
      },
      "execution_count": null,
      "outputs": [
        {
          "output_type": "stream",
          "name": "stdout",
          "text": [
            "[9, -12, None, None, None]\n",
            ">  False\n",
            ">  True\n"
          ]
        }
      ]
    }
  ]
}