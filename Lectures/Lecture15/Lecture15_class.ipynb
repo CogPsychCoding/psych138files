{
  "nbformat": 4,
  "nbformat_minor": 0,
  "metadata": {
    "colab": {
      "provenance": [],
      "authorship_tag": "ABX9TyOzUZJy7fQh6BQ/JhgO1SYM",
      "include_colab_link": true
    },
    "kernelspec": {
      "name": "python3",
      "display_name": "Python 3"
    },
    "language_info": {
      "name": "python"
    }
  },
  "cells": [
    {
      "cell_type": "markdown",
      "metadata": {
        "id": "view-in-github",
        "colab_type": "text"
      },
      "source": [
        "<a href=\"https://colab.research.google.com/github/CogPsychCoding/psych138files/blob/main/Lectures/Lecture15/Lecture15_class.ipynb\" target=\"_parent\"><img src=\"https://colab.research.google.com/assets/colab-badge.svg\" alt=\"Open In Colab\"/></a>"
      ]
    },
    {
      "cell_type": "markdown",
      "source": [
        "# Setup - Run Each Of These Next 5 Cells To Setup Session\n",
        "(note: these 5 cells can be safely re-run each session, you won't overwrite your work)"
      ],
      "metadata": {
        "id": "GsV_GmDqqMxa"
      }
    },
    {
      "cell_type": "code",
      "source": [
        "from google.colab import drive, files\n",
        "\n",
        "import os\n",
        "import random\n",
        "import string\n",
        "from pathlib import Path"
      ],
      "metadata": {
        "id": "ofYECQRBqODt"
      },
      "execution_count": null,
      "outputs": []
    },
    {
      "cell_type": "code",
      "source": [
        "drive.mount('/content/drive')"
      ],
      "metadata": {
        "colab": {
          "base_uri": "https://localhost:8080/"
        },
        "id": "XeoaRdplrIwG",
        "outputId": "09d2f961-9eb0-4f7b-e101-1bf8cbcf0a34"
      },
      "execution_count": null,
      "outputs": [
        {
          "output_type": "stream",
          "name": "stdout",
          "text": [
            "Mounted at /content/drive\n"
          ]
        }
      ]
    },
    {
      "cell_type": "markdown",
      "source": [
        "<mark>IMPORTANT: You Must First Change This String vvv To Refer To The Location Of YOUR Notebook</mark>"
      ],
      "metadata": {
        "id": "Mu53zwOKtAkB"
      }
    },
    {
      "cell_type": "code",
      "source": [
        "this_folder = '/content/drive/MyDrive/0_Psych138/Lectures/Lecture15'\n",
        "os.chdir(this_folder)\n",
        "print(os.getcwd())"
      ],
      "metadata": {
        "colab": {
          "base_uri": "https://localhost:8080/"
        },
        "id": "TqrYyHeVrMVb",
        "outputId": "5e3cd52a-9b7d-4d0c-e610-0f585b0c4b93"
      },
      "execution_count": null,
      "outputs": [
        {
          "output_type": "stream",
          "name": "stdout",
          "text": [
            "/content/drive/MyDrive/0_Psych138/Lectures/Lecture15\n"
          ]
        }
      ]
    },
    {
      "cell_type": "code",
      "source": [
        "os.makedirs(os.path.join('data', 'activities'), exist_ok=True)\n",
        "os.makedirs(os.path.join('data', 'books'), exist_ok=True)\n",
        "print(os.listdir())\n",
        "print(os.listdir('data'))"
      ],
      "metadata": {
        "colab": {
          "base_uri": "https://localhost:8080/"
        },
        "id": "89cRZguptOPT",
        "outputId": "853450fa-cee0-4328-ac83-81faa01a99c9"
      },
      "execution_count": null,
      "outputs": [
        {
          "output_type": "stream",
          "name": "stdout",
          "text": [
            "['data', 'Lecture15_Outline.ipynb', 'Lecture15_class.ipynb']\n",
            "['activities', 'books']\n"
          ]
        }
      ]
    },
    {
      "cell_type": "code",
      "source": [
        "!gdown \"https://www.dropbox.com/scl/fi/ntmrvs2tcr0xokjtohx69/one.txt?rlkey=1so8ej3217ic2ulmn54dadf9d&dl=1\" -O data/activities/one.txt\n",
        "!gdown \"https://www.dropbox.com/scl/fi/zw40c3vk3qisk7tvftacu/two.txt?rlkey=lrdxxvtwhrzct8kf2aokk6e3b&dl=1\" -O data/activities/two.txt\n",
        "!gdown \"https://www.dropbox.com/scl/fi/7gm7pfvb2t5fx8dflasfi/three.txt?rlkey=p9m99q3pe59m7pupgsg5cgabh&dl=1\" -O data/activities/three.txt\n",
        "!gdown \"https://www.dropbox.com/scl/fi/d8i13unm6au72sunohpso/four.txt?rlkey=3a71fl2wyx8hgipk4g3cupe13&dl=1\" -O data/activities/four.txt\n",
        "!gdown \"https://www.dropbox.com/scl/fi/x3ubyg1hvgkvv7qmsq1bt/five.txt?rlkey=vurqjxog12sgs3ahu7zcwys5l&dl=1\" -O data/activities/five.txt\n",
        "!gdown \"https://www.dropbox.com/scl/fi/b29mdnfw7ypwwed5vf7n6/six.txt?rlkey=im94v6weqnxkvpgr63417jgp7&dl=1\" -O data/activities/six.txt\n"
      ],
      "metadata": {
        "colab": {
          "base_uri": "https://localhost:8080/"
        },
        "id": "ynUten7Lumts",
        "outputId": "17849da2-2713-4985-a30c-2f302f7d6bd8"
      },
      "execution_count": null,
      "outputs": [
        {
          "output_type": "stream",
          "name": "stdout",
          "text": [
            "Downloading...\n",
            "From: https://www.dropbox.com/scl/fi/ntmrvs2tcr0xokjtohx69/one.txt?rlkey=1so8ej3217ic2ulmn54dadf9d&dl=1\n",
            "To: /content/drive/MyDrive/0_Psych138/Lectures/Lecture15/data/activities/one.txt\n",
            "100% 1.77k/1.77k [00:00<00:00, 16.4MB/s]\n",
            "Downloading...\n",
            "From: https://www.dropbox.com/scl/fi/zw40c3vk3qisk7tvftacu/two.txt?rlkey=lrdxxvtwhrzct8kf2aokk6e3b&dl=1\n",
            "To: /content/drive/MyDrive/0_Psych138/Lectures/Lecture15/data/activities/two.txt\n",
            "100% 3.77k/3.77k [00:00<00:00, 4.16MB/s]\n",
            "Downloading...\n",
            "From: https://www.dropbox.com/scl/fi/7gm7pfvb2t5fx8dflasfi/three.txt?rlkey=p9m99q3pe59m7pupgsg5cgabh&dl=1\n",
            "To: /content/drive/MyDrive/0_Psych138/Lectures/Lecture15/data/activities/three.txt\n",
            "100% 2.55k/2.55k [00:00<00:00, 19.6MB/s]\n",
            "Downloading...\n",
            "From: https://www.dropbox.com/scl/fi/d8i13unm6au72sunohpso/four.txt?rlkey=3a71fl2wyx8hgipk4g3cupe13&dl=1\n",
            "To: /content/drive/MyDrive/0_Psych138/Lectures/Lecture15/data/activities/four.txt\n",
            "100% 2.16k/2.16k [00:00<00:00, 16.0MB/s]\n",
            "Downloading...\n",
            "From: https://www.dropbox.com/scl/fi/x3ubyg1hvgkvv7qmsq1bt/five.txt?rlkey=vurqjxog12sgs3ahu7zcwys5l&dl=1\n",
            "To: /content/drive/MyDrive/0_Psych138/Lectures/Lecture15/data/activities/five.txt\n",
            "100% 2.67k/2.67k [00:00<00:00, 23.2MB/s]\n",
            "Downloading...\n",
            "From: https://www.dropbox.com/scl/fi/b29mdnfw7ypwwed5vf7n6/six.txt?rlkey=im94v6weqnxkvpgr63417jgp7&dl=1\n",
            "To: /content/drive/MyDrive/0_Psych138/Lectures/Lecture15/data/activities/six.txt\n",
            "100% 2.31k/2.31k [00:00<00:00, 18.9MB/s]\n"
          ]
        }
      ]
    },
    {
      "cell_type": "code",
      "source": [
        "!gdown \"https://www.dropbox.com/scl/fi/v33mgaarcr25c1beta15u/books.txt?rlkey=wdwp62bm7wnta8qsbfioaf63z&dl=1\" -O data/books/books.txt\n",
        "!gdown \"https://www.dropbox.com/scl/fi/32dp3ti52bdl1vz0spjvh/afam_books.txt?rlkey=3c37p5il12sqrrslv5yrool59&dl=1\" -O data/books/afam_books.txt\n",
        "!gdown \"https://www.dropbox.com/scl/fi/txnzbxq35jpfe2gs6ojt3/diverse_books.txt?rlkey=4h1s265kd9ednq1uzcjo7yzzt&dl=1\" -O data/books/diverse_books.txt"
      ],
      "metadata": {
        "colab": {
          "base_uri": "https://localhost:8080/"
        },
        "id": "B4ZI1Y6AtV5f",
        "outputId": "2e7eeab5-084a-4752-917c-58bfb504e1d4"
      },
      "execution_count": null,
      "outputs": [
        {
          "output_type": "stream",
          "name": "stdout",
          "text": [
            "Downloading...\n",
            "From: https://www.dropbox.com/scl/fi/v33mgaarcr25c1beta15u/books.txt?rlkey=wdwp62bm7wnta8qsbfioaf63z&dl=1\n",
            "To: /content/drive/MyDrive/0_Psych138/Lectures/Lecture15/data/books/books.txt\n",
            "100% 1.18k/1.18k [00:00<00:00, 6.06MB/s]\n",
            "Downloading...\n",
            "From: https://www.dropbox.com/scl/fi/32dp3ti52bdl1vz0spjvh/afam_books.txt?rlkey=3c37p5il12sqrrslv5yrool59&dl=1\n",
            "To: /content/drive/MyDrive/0_Psych138/Lectures/Lecture15/data/books/afam_books.txt\n",
            "100% 1.38k/1.38k [00:00<00:00, 6.70MB/s]\n",
            "Downloading...\n",
            "From: https://www.dropbox.com/scl/fi/txnzbxq35jpfe2gs6ojt3/diverse_books.txt?rlkey=4h1s265kd9ednq1uzcjo7yzzt&dl=1\n",
            "To: /content/drive/MyDrive/0_Psych138/Lectures/Lecture15/data/books/diverse_books.txt\n",
            "100% 1.31k/1.31k [00:00<00:00, 4.47MB/s]\n"
          ]
        }
      ]
    },
    {
      "cell_type": "markdown",
      "source": [
        "# NOTES:\n",
        "\n",
        "- Unless you have a special need to process files a little bit at a time, just read in all the text, close the file, and then do your processing. That way, any errors during processing won't leave the file opened.\n",
        "- Assignment5 - on last problem, (very?) close is ok\n",
        "- Notes 4 Final"
      ],
      "metadata": {
        "id": "0bsX_EcEt47z"
      }
    },
    {
      "cell_type": "markdown",
      "source": [
        "# Lecture 15\n",
        "\n",
        "### Read/Clean/Re-Save Data File\n",
        "\n",
        "### `pathlib` Module?"
      ],
      "metadata": {
        "id": "Wc0ZXlbAuXtq"
      }
    },
    {
      "cell_type": "markdown",
      "source": [
        "# **Read/Alter/Re-Save** Pattern"
      ],
      "metadata": {
        "id": "-gEDETYqvJPb"
      }
    },
    {
      "cell_type": "code",
      "source": [
        "os.listdir(os.path.join('data', 'activities'))\n",
        "\n",
        "def process_text(text: str)->str:\n",
        "    title = 'Think back to a high-school competitive activity you were involved in but later quit. Why did you quit?\\n\\n'\n",
        "    return text.replace(title, '')\n",
        "\n",
        "def read_alter_save(folder: str, function: callable):\n",
        "    for file_name in os.listdir(folder):\n",
        "        file_path = os.path.join(folder, file_name)\n",
        "\n",
        "        print(f'processing {file_path}')\n",
        "\n",
        "        # open file and read its guts\n",
        "        # infile = open(file_path, 'r')\n",
        "        # text = infile.read()\n",
        "        # infile.close()\n",
        "\n",
        "        with open(file_path, 'r') as infile:\n",
        "            text = infile.read()\n",
        "\n",
        "        # change the text\n",
        "        text = function(text)\n",
        "\n",
        "        # write it back out\n",
        "        with open(file_path, 'w') as outfile:\n",
        "            outfile.write(text)\n",
        "\n",
        "\n",
        "read_alter_save(os.path.join('data', 'activities'), process_text)\n",
        "\n",
        "print('-' * 24)\n",
        "with open(os.path.join('data', 'activities', 'one.txt'), 'r') as infile:\n",
        "    print(infile.read())\n",
        "print('-' * 24)"
      ],
      "metadata": {
        "colab": {
          "base_uri": "https://localhost:8080/"
        },
        "id": "hZ9h7NmPwnrd",
        "outputId": "83b19a3b-1909-45b6-8730-1a3f1ceabfdc"
      },
      "execution_count": null,
      "outputs": [
        {
          "output_type": "stream",
          "name": "stdout",
          "text": [
            "processing data/activities/one.txt\n",
            "processing data/activities/two.txt\n",
            "processing data/activities/three.txt\n",
            "processing data/activities/four.txt\n",
            "processing data/activities/five.txt\n",
            "processing data/activities/six.txt\n",
            "------------------------\n",
            "﻿I remember being heavily involved in my high school's debate team, which was an intense and highly competitive environment. It was something that took up most of my afternoons and weekends, as we would practice for hours on end to perfect our arguments and public speaking skills. The debates themselves were exhilarating; it felt like a battle of wits where the stakes were high, and every victory brought immense satisfaction.\n",
            "\n",
            "However, over time, I began to feel overwhelmed by the demands of this activity. Balancing schoolwork, family life, friendships, and my own personal interests became increasingly difficult as the debate team consumed more and more of my time. Additionally, I started noticing that the environment within the team was becoming toxic; there were constant power struggles between members, and it seemed like no one could agree on anything.\n",
            "\n",
            "This led to a lot of internal conflict for me - I loved the intellectual challenge and the adrenaline rush that came with debating, but I also valued my other relationships and interests outside of this activity. It became clear to me that I couldn't sustain such an intense commitment indefinitely without sacrificing something important in my life.\n",
            "\n",
            "Ultimately, I decided to quit the debate team because it was no longer a healthy or balanced part of my life. The time I had been devoting to debating could be better spent on other pursuits that were equally fulfilling but less draining. It was a difficult decision, as I looked back at all the memories and friendships formed through this activity, but in the end, it was necessary for me to prioritize my overall well-being and mental health.\n",
            "\n",
            "\n",
            "------------------------\n"
          ]
        }
      ]
    },
    {
      "cell_type": "code",
      "source": [
        "print('hello', end='...')\n",
        "print('howdy')"
      ],
      "metadata": {
        "colab": {
          "base_uri": "https://localhost:8080/"
        },
        "id": "DxLGJ_Mgo5gK",
        "outputId": "e0dab2a3-468a-498a-cf4e-7d31167a779b"
      },
      "execution_count": null,
      "outputs": [
        {
          "output_type": "stream",
          "name": "stdout",
          "text": [
            "hello...howdy\n"
          ]
        }
      ]
    },
    {
      "cell_type": "markdown",
      "source": [
        "# **Read/Combine/Save** Pattern"
      ],
      "metadata": {
        "id": "qNbOK7GKwqEP"
      }
    },
    {
      "cell_type": "code",
      "source": [
        "def read_combine_save(folder: str, output_folder: str):\n",
        "    combined = ''\n",
        "\n",
        "    for file_name in os.listdir(folder):\n",
        "        file_path = os.path.join(folder, file_name)\n",
        "\n",
        "        print(f'processing {file_path}')\n",
        "\n",
        "        with open(file_path, 'r') as infile:\n",
        "            text = infile.read()\n",
        "\n",
        "        combined = combined + text + '\\n' + '--------' + '\\n\\n'\n",
        "\n",
        "    # write it back out\n",
        "    with open(os.path.join(output_folder, 'combined.txt'), 'w') as outfile:\n",
        "        outfile.write(combined)\n",
        "\n",
        "read_combine_save(os.path.join('data', 'books'), os.path.join('data'))\n",
        "\n",
        "print('-' * 24)\n",
        "with open(os.path.join('data', 'combined.txt'), 'r') as infile:\n",
        "    print(infile.read())\n",
        "print('@' * 24)"
      ],
      "metadata": {
        "colab": {
          "base_uri": "https://localhost:8080/"
        },
        "id": "BwYRb2zsww7W",
        "outputId": "d09f0d01-3e2d-47bd-8886-95b0352d17b6"
      },
      "execution_count": null,
      "outputs": [
        {
          "output_type": "stream",
          "name": "stdout",
          "text": [
            "processing data/books/books.txt\n",
            "processing data/books/afam_books.txt\n",
            "processing data/books/diverse_books.txt\n",
            "------------------------\n",
            "﻿﻿list the 20 best books including titles, authors names, and years\n",
            "\n",
            "﻿Here is a list of 20 highly recommended books with their respective titles, authors' names, and publication years:\n",
            "\n",
            "1. \"To Kill a Mockingbird\" by Harper Lee (1960)\n",
            "2. \"1984\" by George Orwell (1949)\n",
            "3. \"Pride and Prejudice\" by Jane Austen (1813)\n",
            "4. \"The Catcher in the Rye\" by J.D. Salinger (1951)\n",
            "5. \"Animal Farm\" by George Orwell (1945)\n",
            "6. \"The Great Gatsby\" by F. Scott Fitzgerald (1925)\n",
            "7. \"Brave New World\" by Aldous Huxley (1932)\n",
            "8. \"Lord of the Flies\" by William Golding (1954)\n",
            "9. \"The Alchemist\" by Paulo Coelho (1988)\n",
            "10. \"Atlas Shrugged\" by Ayn Rand (1957)\n",
            "11. \"Harry Potter and the Sorcerer's Stone\" by J.K. Rowling (1997)\n",
            "12. \"The Kite Runner\" by Khaled Hosseini (2003)\n",
            "13. \"The Shining\" by Stephen King (1977)\n",
            "14. \"The Little Prince\" by Antoine de Saint-Exupéry (1943)\n",
            "15. \"The Crying of Lot 49\" by Thomas Pynchon (1966)\n",
            "16. \"The Road\" by Cormac McCarthy (2006)\n",
            "17. \"Life of Pi\" by Yann Martel (2001)\n",
            "18. \"The Hitchhiker's Guide to the Galaxy\" by Douglas Adams (1979)\n",
            "19. \"A Song of Ice and Fire: A Game of Thrones\" by George R.R. Martin (1996)\n",
            "20. \"The Outsiders\" by S.E. Hinton (1967)\n",
            "\n",
            "\n",
            "--------\n",
            "\n",
            "﻿﻿﻿﻿﻿﻿list the 20 best books by African Americans including titles, authors names, and years\n",
            "\n",
            "Here is a list of 20 highly recommended books written by African American authors with their respective titles, authors' names, and publication years:\n",
            "\n",
            "1. \"Their Eyes Were Watching God\" by Zora Neale Hurston (1937)\n",
            "2. \"Invisible Man\" by Ralph Ellison (1952)\n",
            "3. \"Beloved\" by Toni Morrison (1987)\n",
            "4. \"Song of Solomon\" by Toni Morrison (1977)\n",
            "5. \"The Color Purple\" by Alice Walker (1982)\n",
            "6. \"Native Son\" by Richard Wright (1940)\n",
            "7. \"Pecola's Ugly Daughter: Essays on Race, Beauty and the Politics of Appearances\" by Alice Walker (1995)\n",
            "8. \"The Bluest Eye\" by Toni Morrison (1970)\n",
            "9. \"Sula\" by Toni Morrison (1973)\n",
            "10. \"Kindred\" by Octavia E. Butler (1979)\n",
            "11. \"I Know Why the Caged Bird Sings\" by Maya Angelou (1969)\n",
            "12. \"The Autobiography of Malcolm X as Told to Alex Haley\" by Malcolm X and Alex Haley (1965)\n",
            "13. \"Things Fall Apart\" by Chinua Achebe (1958)\n",
            "14. \"Incidents in the Life of a Slave Girl\" by Harriet Jacobs (1861)\n",
            "15. \"The Underground Railroad\" by Colson Whitehead (2016)\n",
            "16. \"Parable of the Sower\" by Octavia E. Butler (1993)\n",
            "17. \"Sister Outsider: Essays and Speeches\" by Audre Lorde (1984)\n",
            "18. \"The Fire Next Time\" by James Baldwin (1963)\n",
            "19. \"I Know Why the Caged Bird Sings\" by Maya Angelou (1970)\n",
            "20. \"Between the World and Me\" by Ta-Nehisi Coates (2015)\n",
            "\n",
            "\n",
            "--------\n",
            "\n",
            "﻿﻿﻿﻿﻿﻿list the 20 best books by a racially diverse group of American authors.  include titles, authors names, and years.\n",
            "\n",
            "﻿﻿Here is a list of 20 highly recommended books written by a racially diverse group of American authors with their respective titles, authors' names, and publication years:\n",
            "\n",
            "1. \"The Joy Luck Club\" by Amy Tan (1989)\n",
            "2. \"Interpreter of Maladies\" by Jumpha Lahiri (1999)\n",
            "3. \"Breath, Eyes, Memory\" by Edwidge Danticat (1994)\n",
            "4. \"The Namesake\" by Jhumpa Lahiri (2003)\n",
            "5. \"The Brief Wondrous Life of Oscar Wao\" by Junot Díaz (2007)\n",
            "6. \"White Teeth\" by Zadie Smith (2000)\n",
            "7. \"A Little Life\" by Hanya Yanagihara (2015)\n",
            "8. \"The God of Small Things\" by Arundhati Roy (1997)\n",
            "9. \"How the Garcia Girls Lost Their Accents\" by Julia Alvarez (1991)\n",
            "10. \"The Hundred Secret Senses\" by Amy Tan (2003)\n",
            "11. \"The Kite Runner\" by Khaled Hosseini (2003)\n",
            "12. \"The Satanic Verses\" by Salman Rushdie (1988)\n",
            "13. \"In the Time of Butterflies\" by Julia Alvarez (1994)\n",
            "14. \"A Tale for the Time Being\" by Ruth Ozeki (2013)\n",
            "15. \"The House on Mango Street\" by Sandra Cisneros (1984)\n",
            "16. \"Girl in Translation\" by Jean Kwok (2010)\n",
            "17. \"Little Earth\" by Louise Erdrich (1996)\n",
            "18. \"The Inheritance of Loss\" by Kiran Desai (2006)\n",
            "19. \"Swing Time\" by Zadie Smith (2016)\n",
            "20. \"A Map of Home\" by Randa Jarrar (2015)\n",
            "\n",
            "\n",
            "--------\n",
            "\n",
            "\n",
            "@@@@@@@@@@@@@@@@@@@@@@@@\n"
          ]
        }
      ]
    },
    {
      "cell_type": "markdown",
      "source": [
        "# Using readlines()"
      ],
      "metadata": {
        "id": "Vwz-s69oxvVl"
      }
    },
    {
      "cell_type": "code",
      "source": [
        "# print('hello'[-1])\n",
        "# print('hello'[-2])\n",
        "# print('hello'[2:4])\n",
        "# print('hello'[-2:])\n",
        "\n",
        "s = 'this is some text that we just typed'\n",
        "print(len(s))\n",
        "middle = len(s) // 2\n",
        "print(middle)\n",
        "print(s[middle])"
      ],
      "metadata": {
        "colab": {
          "base_uri": "https://localhost:8080/"
        },
        "id": "bAra1q3P1jgg",
        "outputId": "62480658-a4e1-404c-deb9-54231acec67c"
      },
      "execution_count": 1,
      "outputs": [
        {
          "output_type": "stream",
          "name": "stdout",
          "text": [
            "36\n",
            "18\n",
            "t\n"
          ]
        }
      ]
    },
    {
      "cell_type": "code",
      "source": [
        "with open(os.path.join('data', 'books', 'books.txt')) as infile:\n",
        "    lines = [line.strip() for i, line in enumerate(infile.readlines()) if i > 3]\n",
        "\n",
        "    new_lines = []\n",
        "    for i, line in enumerate(lines):\n",
        "        new_line = line.replace(f'{i+1}. ', '')\n",
        "        new_lines.append(new_line)\n",
        "\n",
        "for line in new_lines:\n",
        "    print(line)\n"
      ],
      "metadata": {
        "colab": {
          "base_uri": "https://localhost:8080/"
        },
        "id": "ZRwALq-vxzm8",
        "outputId": "97f71dc3-e4a4-49eb-936a-96b02c4ac844"
      },
      "execution_count": null,
      "outputs": [
        {
          "output_type": "stream",
          "name": "stdout",
          "text": [
            "\"To Kill a Mockingbird\" by Harper Lee (1960)\n",
            "\"1984\" by George Orwell (1949)\n",
            "\"Pride and Prejudice\" by Jane Austen (1813)\n",
            "\"The Catcher in the Rye\" by J.D. Salinger (1951)\n",
            "\"Animal Farm\" by George Orwell (1945)\n",
            "\"The Great Gatsby\" by F. Scott Fitzgerald (1925)\n",
            "\"Brave New World\" by Aldous Huxley (1932)\n",
            "\"Lord of the Flies\" by William Golding (1954)\n",
            "\"The Alchemist\" by Paulo Coelho (1988)\n",
            "\"Atlas Shrugged\" by Ayn Rand (1957)\n",
            "\"Harry Potter and the Sorcerer's Stone\" by J.K. Rowling (1997)\n",
            "\"The Kite Runner\" by Khaled Hosseini (2003)\n",
            "\"The Shining\" by Stephen King (1977)\n",
            "\"The Little Prince\" by Antoine de Saint-Exupéry (1943)\n",
            "\"The Crying of Lot 49\" by Thomas Pynchon (1966)\n",
            "\"The Road\" by Cormac McCarthy (2006)\n",
            "\"Life of Pi\" by Yann Martel (2001)\n",
            "\"The Hitchhiker's Guide to the Galaxy\" by Douglas Adams (1979)\n",
            "\"A Song of Ice and Fire: A Game of Thrones\" by George R.R. Martin (1996)\n",
            "\"The Outsiders\" by S.E. Hinton (1967)\n",
            "\n"
          ]
        }
      ]
    },
    {
      "cell_type": "code",
      "source": [],
      "metadata": {
        "id": "1jDrtleEyC-7"
      },
      "execution_count": null,
      "outputs": []
    }
  ]
}