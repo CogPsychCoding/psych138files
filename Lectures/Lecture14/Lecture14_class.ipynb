{
  "nbformat": 4,
  "nbformat_minor": 0,
  "metadata": {
    "colab": {
      "provenance": [],
      "authorship_tag": "ABX9TyPRusExVj2k09e61oeA7wkG",
      "include_colab_link": true
    },
    "kernelspec": {
      "name": "python3",
      "display_name": "Python 3"
    },
    "language_info": {
      "name": "python"
    }
  },
  "cells": [
    {
      "cell_type": "markdown",
      "metadata": {
        "id": "view-in-github",
        "colab_type": "text"
      },
      "source": [
        "<a href=\"https://colab.research.google.com/github/CogPsychCoding/psych138files/blob/main/Lectures/Lecture14/Lecture14_class.ipynb\" target=\"_parent\"><img src=\"https://colab.research.google.com/assets/colab-badge.svg\" alt=\"Open In Colab\"/></a>"
      ]
    },
    {
      "cell_type": "markdown",
      "source": [
        "# Setup"
      ],
      "metadata": {
        "id": "xuJzIbZtxx8c"
      }
    },
    {
      "cell_type": "code",
      "source": [
        "from google.colab import drive, files\n",
        "\n",
        "import os\n",
        "import random"
      ],
      "metadata": {
        "id": "w3RMpsxuLbIC"
      },
      "execution_count": 2,
      "outputs": []
    },
    {
      "cell_type": "markdown",
      "source": [
        "# Lecture 14\n",
        "\n",
        "### More String Processing\n",
        "\n",
        "### This Time With File Input/Output\n",
        "\n",
        "<mark>NOTE: Unlike in your book, we are using google drive -- getting access to files will be a tiny bit different than it would be on your own machine.</mark>\n"
      ],
      "metadata": {
        "id": "kE171Cm9x0Lf"
      }
    },
    {
      "cell_type": "markdown",
      "source": [
        "### Special Setup For File Access on Google Drive\n",
        "\n",
        "Mount your Google Drive\n",
        "\n",
        "- It may ask permission the first time.\n",
        "- This permission is a per-notebook setting, so you are not agreeing that any and all colab notebooks can access your drive."
      ],
      "metadata": {
        "id": "Tb3ZxknlzCrh"
      }
    },
    {
      "cell_type": "code",
      "execution_count": 3,
      "metadata": {
        "id": "yCyvczsbxu61",
        "colab": {
          "base_uri": "https://localhost:8080/"
        },
        "outputId": "b318dad6-ec49-4a41-b094-48e855c8ca51"
      },
      "outputs": [
        {
          "output_type": "stream",
          "name": "stdout",
          "text": [
            "Mounted at /content/drive\n"
          ]
        }
      ],
      "source": [
        "drive.mount('/content/drive')"
      ]
    },
    {
      "cell_type": "markdown",
      "source": [
        "### Create a global variable for the path of this notebook:\n",
        "1. Go into the files tab on the left of this window.\n",
        "2. Navigate to the folder you are working in\n",
        "3. Right click on the folder and choose **Copy Path**\n",
        "4. Use that copied path to create a global variable in the cell below:\n"
      ],
      "metadata": {
        "id": "IQ2TRIlcNAhp"
      }
    },
    {
      "cell_type": "code",
      "source": [
        "this_folder = '/content/drive/MyDrive/0_Psych138/Lectures/Lecture14/class'"
      ],
      "metadata": {
        "id": "PpnBEuVfM_Hx"
      },
      "execution_count": 5,
      "outputs": []
    },
    {
      "cell_type": "code",
      "source": [
        "os.getcwd()"
      ],
      "metadata": {
        "colab": {
          "base_uri": "https://localhost:8080/",
          "height": 40
        },
        "id": "rCTYiDWy0GHB",
        "outputId": "1eb17463-9914-4f43-b9ef-41a08c20779f"
      },
      "execution_count": 4,
      "outputs": [
        {
          "output_type": "execute_result",
          "data": {
            "text/plain": [
              "'/content'"
            ],
            "application/vnd.google.colaboratory.intrinsic+json": {
              "type": "string"
            }
          },
          "metadata": {},
          "execution_count": 4
        }
      ]
    },
    {
      "cell_type": "markdown",
      "source": [
        "### Set `this_folder` as the current working directory"
      ],
      "metadata": {
        "id": "Oqy2E_jUPTSN"
      }
    },
    {
      "cell_type": "code",
      "source": [
        "os.chdir(this_folder) # change current working directory\n",
        "print(os.getcwd())"
      ],
      "metadata": {
        "id": "pibXUEuWPbyk",
        "colab": {
          "base_uri": "https://localhost:8080/"
        },
        "outputId": "58e62c9a-1a76-4317-9829-530f414761ea"
      },
      "execution_count": 6,
      "outputs": [
        {
          "output_type": "stream",
          "name": "stdout",
          "text": [
            "/content/drive/MyDrive/0_Psych138/Lectures/Lecture14/class\n"
          ]
        }
      ]
    },
    {
      "cell_type": "markdown",
      "source": [
        "### Ask Python to show you a directory listing of your notebook path"
      ],
      "metadata": {
        "id": "lnJQWFSKyzOs"
      }
    },
    {
      "cell_type": "code",
      "source": [
        "# by using a parameter, we can list any directory, even if it's not the current one\n",
        "os.listdir(this_folder)"
      ],
      "metadata": {
        "id": "TaxFq8TX09rE",
        "colab": {
          "base_uri": "https://localhost:8080/"
        },
        "outputId": "d399e269-8898-4163-e25c-a6f33cce17a2"
      },
      "execution_count": 7,
      "outputs": [
        {
          "output_type": "execute_result",
          "data": {
            "text/plain": [
              "['Lecture14_class.ipynb', 'files']"
            ]
          },
          "metadata": {},
          "execution_count": 7
        }
      ]
    },
    {
      "cell_type": "code",
      "source": [
        "# but, because we ran `os.setdir(this_folder)` to set our current directory\n",
        "# to the one that we are working in, we can get the same listing like this:\n",
        "os.listdir()"
      ],
      "metadata": {
        "id": "omAsNNt9Prmw",
        "colab": {
          "base_uri": "https://localhost:8080/"
        },
        "outputId": "cbfa4eda-ea46-462d-9cf9-793a02289e70"
      },
      "execution_count": 8,
      "outputs": [
        {
          "output_type": "execute_result",
          "data": {
            "text/plain": [
              "['Lecture14_class.ipynb', 'files']"
            ]
          },
          "metadata": {},
          "execution_count": 8
        }
      ]
    },
    {
      "cell_type": "code",
      "source": [
        "!ls"
      ],
      "metadata": {
        "colab": {
          "base_uri": "https://localhost:8080/"
        },
        "id": "hbFgT9Au2OMh",
        "outputId": "9e76a4b2-1615-48ee-8f0c-3c063c23944d"
      },
      "execution_count": 9,
      "outputs": [
        {
          "output_type": "stream",
          "name": "stdout",
          "text": [
            "files  Lecture14_class.ipynb\n"
          ]
        }
      ]
    },
    {
      "cell_type": "markdown",
      "source": [
        "### Getting Access To Class Files\n",
        "\n",
        "- Going forward, we need a way for students to obtain class files.\n",
        "\n",
        "- in a new, empty code cell, use this system command (this is not Python) to download file from URL:\n",
        "\n",
        "```bash\n",
        "!gdown URL -O FOLDER_PATH/FILE_NAME\n",
        "```\n"
      ],
      "metadata": {
        "id": "g_iGWjwy5WRS"
      }
    },
    {
      "cell_type": "code",
      "source": [
        "os.listdir()"
      ],
      "metadata": {
        "id": "c3p_66csNSwo",
        "colab": {
          "base_uri": "https://localhost:8080/"
        },
        "outputId": "087b1eef-bbfb-4e4e-d923-1c825e1e4439"
      },
      "execution_count": 10,
      "outputs": [
        {
          "output_type": "execute_result",
          "data": {
            "text/plain": [
              "['Lecture14_class.ipynb', 'files']"
            ]
          },
          "metadata": {},
          "execution_count": 10
        }
      ]
    },
    {
      "cell_type": "code",
      "source": [
        "os.chdir(this_folder)"
      ],
      "metadata": {
        "id": "9FDtutwCSCxn"
      },
      "execution_count": 11,
      "outputs": []
    },
    {
      "cell_type": "code",
      "source": [
        "!gdown https://bit.ly/Psych138LetItBe -O let_it_be.txt"
      ],
      "metadata": {
        "id": "R0F20xluLKgf",
        "colab": {
          "base_uri": "https://localhost:8080/"
        },
        "outputId": "9e518c95-4128-4edd-9af0-ae0d53714f74"
      },
      "execution_count": null,
      "outputs": [
        {
          "output_type": "stream",
          "name": "stdout",
          "text": [
            "Downloading...\n",
            "From: https://bit.ly/Psych138LetItBe\n",
            "To: /content/drive/MyDrive/0_Psych138/Lectures/Lecture14/class/let_it_be2.txt\n",
            "\r  0% 0.00/1.08k [00:00<?, ?B/s]\r100% 1.08k/1.08k [00:00<00:00, 5.11MB/s]\n"
          ]
        }
      ]
    },
    {
      "cell_type": "code",
      "source": [
        "!gdown https://bit.ly/Psych138ChuckYeager -O Chuck_Yeager.txt"
      ],
      "metadata": {
        "id": "VR41TQGAaZpo",
        "colab": {
          "base_uri": "https://localhost:8080/"
        },
        "outputId": "7db3aa04-9743-4374-c173-9f409cd0dd0a"
      },
      "execution_count": null,
      "outputs": [
        {
          "output_type": "stream",
          "name": "stdout",
          "text": [
            "Downloading...\n",
            "From: https://bit.ly/Psych138ChuckYeager\n",
            "To: /content/drive/MyDrive/0_Psych138/Lectures/Lecture14/class/Chuck_Yeager.txt\n",
            "\r  0% 0.00/4.33k [00:00<?, ?B/s]\r100% 4.33k/4.33k [00:00<00:00, 24.6MB/s]\n"
          ]
        }
      ]
    },
    {
      "cell_type": "code",
      "source": [
        "os.listdir()"
      ],
      "metadata": {
        "id": "8fSgtH6qbrz3",
        "colab": {
          "base_uri": "https://localhost:8080/"
        },
        "outputId": "a4987877-2460-4096-d41b-d57c57a4bf90"
      },
      "execution_count": null,
      "outputs": [
        {
          "output_type": "execute_result",
          "data": {
            "text/plain": [
              "['Lecture14_class.ipynb', 'let_it_be.txt', 'Chuck_Yeager.txt']"
            ]
          },
          "metadata": {},
          "execution_count": 13
        }
      ]
    },
    {
      "cell_type": "markdown",
      "source": [
        "Note: You can control which folder the file goes into by specifying a full path as the output:"
      ],
      "metadata": {
        "id": "76iWoEfqafGo"
      }
    },
    {
      "cell_type": "code",
      "source": [
        "!gdown https://bit.ly/Psych138ChuckYeager -O /content/drive/MyDrive/0_Psych138/Lectures/Lecture14/Chuck_Yeager.txt"
      ],
      "metadata": {
        "id": "jK-7OAsCTB5G"
      },
      "execution_count": 12,
      "outputs": []
    },
    {
      "cell_type": "markdown",
      "source": [
        "# list files\n",
        "\n",
        "- os.listdir\n",
        "\n",
        "# folders\n",
        "\n",
        "- make one\n",
        "- how to reference files using os.path.join\n",
        "\n",
        "# checking\n",
        "- isdir, isfile\n",
        "\n",
        "# reading\n",
        "- open/close\n",
        "- open with context manager\n",
        "\n",
        "- read\n",
        "- readline\n",
        "- readlines\n",
        "- read.splitlines()\n",
        "    - useful bc of the keepends parameter\n",
        "\n",
        "# writing\n",
        "\n",
        "- open/close\n",
        "- open with context manger\n",
        "\n",
        "- write\n",
        "- writelines\n",
        "\n",
        "- w\n",
        "- a\n",
        "\n",
        "# deleting\n",
        "\n",
        "- remove file\n",
        "- remove directory"
      ],
      "metadata": {
        "id": "J3EXrm-aOxnf"
      }
    },
    {
      "cell_type": "markdown",
      "source": [
        "Making a folder"
      ],
      "metadata": {
        "id": "OwhFMZGalEyz"
      }
    },
    {
      "cell_type": "code",
      "source": [
        "os.makedirs('files', exist_ok=True)\n",
        "os.listdir('files')"
      ],
      "metadata": {
        "id": "sOQl97o1QYez",
        "colab": {
          "base_uri": "https://localhost:8080/"
        },
        "outputId": "f14e76a1-cf28-4de9-8e03-34364ea05cac"
      },
      "execution_count": 13,
      "outputs": [
        {
          "output_type": "execute_result",
          "data": {
            "text/plain": [
              "['let_it_be.txt', 'Chuck_Yeager.txt', 'captains.txt', 'captains2.txt']"
            ]
          },
          "metadata": {},
          "execution_count": 13
        }
      ]
    },
    {
      "cell_type": "markdown",
      "source": [
        "removing a file"
      ],
      "metadata": {
        "id": "nZTGOpC1lH6v"
      }
    },
    {
      "cell_type": "code",
      "source": [
        "os.listdir()\n",
        "os.remove('let_it_be2.txt')\n",
        "os.listdir()"
      ],
      "metadata": {
        "id": "IKAmiGlQ5qtb"
      },
      "execution_count": null,
      "outputs": []
    },
    {
      "cell_type": "markdown",
      "source": [
        "making and then removing a folder"
      ],
      "metadata": {
        "id": "VSlzpHe3lNoc"
      }
    },
    {
      "cell_type": "code",
      "source": [
        "os.makedirs('deleteme')\n",
        "print(os.listdir())\n",
        "os.rmdir('deleteme')"
      ],
      "metadata": {
        "colab": {
          "base_uri": "https://localhost:8080/"
        },
        "id": "AZtcujp86Hv3",
        "outputId": "b1bb4ba0-b42a-4315-f2b9-75a143d98e33"
      },
      "execution_count": 15,
      "outputs": [
        {
          "output_type": "stream",
          "name": "stdout",
          "text": [
            "['Lecture14_class.ipynb', 'files', 'deleteme']\n"
          ]
        }
      ]
    },
    {
      "cell_type": "code",
      "source": [
        "os.listdir()"
      ],
      "metadata": {
        "colab": {
          "base_uri": "https://localhost:8080/"
        },
        "id": "urRolgMa6fKY",
        "outputId": "40e4271f-fed4-47d3-812f-6c57aa00afe8"
      },
      "execution_count": null,
      "outputs": [
        {
          "output_type": "execute_result",
          "data": {
            "text/plain": [
              "['Lecture14_class.ipynb', 'files']"
            ]
          },
          "metadata": {},
          "execution_count": 29
        }
      ]
    },
    {
      "cell_type": "markdown",
      "source": [
        "getting a directory listing and filtering out any names that do not belong to a file (e.g., folders, symbolic links, etc.)"
      ],
      "metadata": {
        "id": "BRCNQCH0kSL7"
      }
    },
    {
      "cell_type": "code",
      "source": [
        "res = []\n",
        "for item in os.listdir():\n",
        "    if os.path.isfile(item):\n",
        "        res.append(True)\n",
        "    else:\n",
        "        res.append(False)\n",
        "\n",
        "print(res)\n",
        "\n",
        "\n",
        "res = []\n",
        "for item in os.listdir():\n",
        "    if os.path.isfile(item):\n",
        "        res.append(item)\n",
        "\n",
        "print(res)"
      ],
      "metadata": {
        "colab": {
          "base_uri": "https://localhost:8080/"
        },
        "id": "B0bqBdJM6ym0",
        "outputId": "5322610f-c73c-4cab-e232-376aa1b795ce"
      },
      "execution_count": null,
      "outputs": [
        {
          "output_type": "stream",
          "name": "stdout",
          "text": [
            "[True, False]\n",
            "['Lecture14_class.ipynb']\n"
          ]
        }
      ]
    },
    {
      "cell_type": "markdown",
      "source": [
        "same as above but with list comprehensions"
      ],
      "metadata": {
        "id": "Jtkq8UWulTlq"
      }
    },
    {
      "cell_type": "code",
      "source": [
        "# this creates a list of True or False depending on whether each item in os.listdir() is a file.\n",
        "\n",
        "res = [os.path.isfile(item) for item in os.listdir()]\n",
        "\n",
        "res"
      ],
      "metadata": {
        "colab": {
          "base_uri": "https://localhost:8080/"
        },
        "id": "Eo6uqGUblmUv",
        "outputId": "bd535777-9186-418c-bb76-0ddddb398b40"
      },
      "execution_count": 17,
      "outputs": [
        {
          "output_type": "execute_result",
          "data": {
            "text/plain": [
              "[True, False]"
            ]
          },
          "metadata": {},
          "execution_count": 17
        }
      ]
    },
    {
      "cell_type": "code",
      "source": [
        "#  this basically just copies each item from os.listdir() into res\n",
        "res = [item for item in os.listdir()]\n",
        "\n",
        "# this only copies an item if the expression os.path.isfile(item) returns True\n",
        "\n",
        "res = [item for item in os.listdir() if os.path.isfile(item)]\n",
        "\n",
        "\n",
        "res"
      ],
      "metadata": {
        "colab": {
          "base_uri": "https://localhost:8080/"
        },
        "id": "VbOyAx_h8BKq",
        "outputId": "a8fd0002-0b2d-43dc-8834-ffee37a6fe29"
      },
      "execution_count": 16,
      "outputs": [
        {
          "output_type": "execute_result",
          "data": {
            "text/plain": [
              "['Lecture14_class.ipynb']"
            ]
          },
          "metadata": {},
          "execution_count": 16
        }
      ]
    },
    {
      "cell_type": "markdown",
      "source": [
        "`os.listdir()` by default lists the contents of the current working directory. But you can give it a start path to list the contents of any folder. E.g.:"
      ],
      "metadata": {
        "id": "AY1gNZe_l5Fm"
      }
    },
    {
      "cell_type": "code",
      "source": [
        "os.listdir('files')"
      ],
      "metadata": {
        "colab": {
          "base_uri": "https://localhost:8080/"
        },
        "id": "J3jsKsgR-NNV",
        "outputId": "da994e3e-1205-43c0-c498-d4fed5c873c8"
      },
      "execution_count": null,
      "outputs": [
        {
          "output_type": "execute_result",
          "data": {
            "text/plain": [
              "['let_it_be.txt', 'Chuck_Yeager.txt']"
            ]
          },
          "metadata": {},
          "execution_count": 34
        }
      ]
    },
    {
      "cell_type": "markdown",
      "source": [
        "## Reading and Writing Files"
      ],
      "metadata": {
        "id": "7J9IFbvKmDp3"
      }
    },
    {
      "cell_type": "markdown",
      "source": [
        "read from a text file using separate open and close calls"
      ],
      "metadata": {
        "id": "CyITwICCj-B1"
      }
    },
    {
      "cell_type": "code",
      "source": [
        "infile = open(os.path.join('files', 'let_it_be.txt'), 'r')\n",
        "\n",
        "text = infile.read()\n",
        "print(text)\n",
        "\n",
        "infile.close()"
      ],
      "metadata": {
        "id": "vfKf-dZf-Qq1"
      },
      "execution_count": null,
      "outputs": []
    },
    {
      "cell_type": "markdown",
      "source": [
        "read from a text file using a context manager (automatically closes the file for you!)"
      ],
      "metadata": {
        "id": "YnH4NdJNkGw0"
      }
    },
    {
      "cell_type": "code",
      "source": [
        "with open(os.path.join('files', 'let_it_be.txt'), 'r') as infile:\n",
        "    text = infile.read()\n",
        "\n",
        "print(text)"
      ],
      "metadata": {
        "id": "57ISXkAiAdBA"
      },
      "execution_count": null,
      "outputs": []
    },
    {
      "cell_type": "markdown",
      "source": [
        "**Never** write paths using manual path separators, let Python figure it out so your code will still work if run on a different operating system."
      ],
      "metadata": {
        "id": "iBTU6eWUmRXs"
      }
    },
    {
      "cell_type": "code",
      "source": [
        "os.path.join('files', 'let_it_be.txt')"
      ],
      "metadata": {
        "colab": {
          "base_uri": "https://localhost:8080/",
          "height": 35
        },
        "id": "OZc0BHo7_gH8",
        "outputId": "e0ee685d-5b59-41d6-adb2-7e257970dd5d"
      },
      "execution_count": null,
      "outputs": [
        {
          "output_type": "execute_result",
          "data": {
            "text/plain": [
              "'files/let_it_be.txt'"
            ],
            "application/vnd.google.colaboratory.intrinsic+json": {
              "type": "string"
            }
          },
          "metadata": {},
          "execution_count": 37
        }
      ]
    },
    {
      "cell_type": "markdown",
      "source": [
        "Write text one line at a time (notice the manual newline strings at the end of each line)"
      ],
      "metadata": {
        "id": "t-fW2Gigj305"
      }
    },
    {
      "cell_type": "code",
      "source": [
        "outfile = open(os.path.join('files', 'captains.txt'), 'w')\n",
        "\n",
        "outfile.write('Kirk\\n')\n",
        "outfile.write('Janeway\\n')\n",
        "outfile.write('Sisko\\n')\n",
        "outfile.write('Archer\\n')\n",
        "\n",
        "outfile.close()"
      ],
      "metadata": {
        "id": "hoQjTbshBgec"
      },
      "execution_count": null,
      "outputs": []
    },
    {
      "cell_type": "markdown",
      "source": [
        "Write text as a single multi-line string using a context manager"
      ],
      "metadata": {
        "id": "kV4RRnw5j0NY"
      }
    },
    {
      "cell_type": "code",
      "source": [
        "with open(os.path.join('files', 'captains2.txt'), 'w') as outfile:\n",
        "    text = \\\n",
        "    \"\"\"\n",
        "    Kirk\n",
        "    Janeway\n",
        "    Sisko\n",
        "    Archer\n",
        "    \"\"\"\n",
        "    outfile.write(text)\n",
        "\n",
        "# read it back in just so we can see what happened\n",
        "with open(os.path.join('files', 'captains2.txt'), 'r') as infile:\n",
        "    text = infile.read()\n",
        "\n",
        "print(text)"
      ],
      "metadata": {
        "id": "zoxPUBmnCjDR",
        "colab": {
          "base_uri": "https://localhost:8080/"
        },
        "outputId": "a4329548-7dba-4aae-e402-fb2dea9eb989"
      },
      "execution_count": 20,
      "outputs": [
        {
          "output_type": "stream",
          "name": "stdout",
          "text": [
            "\n",
            "    Kirk\n",
            "    Janeway\n",
            "    Sisko\n",
            "    Archer\n",
            "    \n"
          ]
        }
      ]
    },
    {
      "cell_type": "markdown",
      "source": [
        "Append text to an existing textfile by using the append ('a') file mode"
      ],
      "metadata": {
        "id": "qMxFY8g7mg3F"
      }
    },
    {
      "cell_type": "code",
      "source": [
        "with open(os.path.join('files', 'captains2.txt'), 'a') as outfile:\n",
        "    outfile.write('Picard\\n')\n",
        "\n",
        "\n",
        "# read it back in just so we can see what happened\n",
        "with open(os.path.join('files', 'captains2.txt'), 'r') as infile:\n",
        "    text = infile.read()\n",
        "\n",
        "print(text)"
      ],
      "metadata": {
        "colab": {
          "base_uri": "https://localhost:8080/"
        },
        "id": "BCrS_cRvmnFi",
        "outputId": "0c6c7ed7-85ee-4251-89e8-dc17b94ef2f3"
      },
      "execution_count": 21,
      "outputs": [
        {
          "output_type": "stream",
          "name": "stdout",
          "text": [
            "\n",
            "    Kirk\n",
            "    Janeway\n",
            "    Sisko\n",
            "    Archer\n",
            "    Picard\n",
            "\n"
          ]
        }
      ]
    }
  ]
}