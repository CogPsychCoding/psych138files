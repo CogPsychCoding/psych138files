{
  "nbformat": 4,
  "nbformat_minor": 0,
  "metadata": {
    "colab": {
      "provenance": [],
      "authorship_tag": "ABX9TyMumP85mFf+iGLo0jgYfQ04",
      "include_colab_link": true
    },
    "kernelspec": {
      "name": "python3",
      "display_name": "Python 3"
    },
    "language_info": {
      "name": "python"
    }
  },
  "cells": [
    {
      "cell_type": "markdown",
      "metadata": {
        "id": "view-in-github",
        "colab_type": "text"
      },
      "source": [
        "<a href=\"https://colab.research.google.com/github/CogPsychCoding/psych138files/blob/main/Lectures/Lecture13/Lecture13_class.ipynb\" target=\"_parent\"><img src=\"https://colab.research.google.com/assets/colab-badge.svg\" alt=\"Open In Colab\"/></a>"
      ]
    },
    {
      "cell_type": "markdown",
      "source": [
        "# Setup"
      ],
      "metadata": {
        "id": "_z3PPq_94VhF"
      }
    },
    {
      "cell_type": "code",
      "source": [
        "import random\n",
        "import string\n"
      ],
      "metadata": {
        "id": "o8i_TtlG4XNt"
      },
      "execution_count": null,
      "outputs": []
    },
    {
      "cell_type": "markdown",
      "source": [
        "# Lecture 13\n",
        "\n",
        "## String Processing"
      ],
      "metadata": {
        "id": "wGWbP1Mt4Rlo"
      }
    },
    {
      "cell_type": "code",
      "source": [
        "intro = 'hello'\n",
        "\n",
        "'lo' in intro"
      ],
      "metadata": {
        "id": "SEP68waY5Pm7",
        "colab": {
          "base_uri": "https://localhost:8080/"
        },
        "outputId": "06999548-1781-48ef-d54e-b85f9a0de574"
      },
      "execution_count": null,
      "outputs": [
        {
          "output_type": "execute_result",
          "data": {
            "text/plain": [
              "True"
            ]
          },
          "metadata": {},
          "execution_count": 3
        }
      ]
    },
    {
      "cell_type": "code",
      "source": [
        "intro[2:]"
      ],
      "metadata": {
        "colab": {
          "base_uri": "https://localhost:8080/",
          "height": 35
        },
        "id": "0idn6YnmhFNq",
        "outputId": "0b0ba4d8-25f8-4cac-fcf4-77375174f18c"
      },
      "execution_count": null,
      "outputs": [
        {
          "output_type": "execute_result",
          "data": {
            "text/plain": [
              "'llo'"
            ],
            "application/vnd.google.colaboratory.intrinsic+json": {
              "type": "string"
            }
          },
          "metadata": {},
          "execution_count": 7
        }
      ]
    },
    {
      "cell_type": "markdown",
      "source": [
        "# STATE METHODS\n",
        "\n",
        "### These return True or False depending on the state of the characters in the string\n",
        "\n",
        "- `''.islower()`  # True if all lowercase\n",
        "- `''.isupper()`  # True if all uppercase\n",
        "- `''.istitle()`  # True if all words are title case\n",
        "- `''.isdigit()`  # True if contains only digits\n",
        "- `''.isalpha()`  # True if only contains letters\n",
        "- `''.isalnum()`  # True if only contains letters & numbers"
      ],
      "metadata": {
        "id": "nHNaliYU5T9_"
      }
    },
    {
      "cell_type": "code",
      "source": [
        "print(1+1)\n",
        "2+2"
      ],
      "metadata": {
        "colab": {
          "base_uri": "https://localhost:8080/"
        },
        "id": "s7aw6VZfmcWY",
        "outputId": "98d8fccf-4097-482d-9cfd-1fff3dbe8891"
      },
      "execution_count": null,
      "outputs": [
        {
          "output_type": "stream",
          "name": "stdout",
          "text": [
            "2\n"
          ]
        },
        {
          "output_type": "execute_result",
          "data": {
            "text/plain": [
              "4"
            ]
          },
          "metadata": {},
          "execution_count": 16
        }
      ]
    },
    {
      "cell_type": "code",
      "source": [
        "sentence = 'hello there my name is darth vader'\n",
        "\n",
        "sentence = sentence.title()"
      ],
      "metadata": {
        "colab": {
          "base_uri": "https://localhost:8080/",
          "height": 35
        },
        "id": "orubrA6-e5Jm",
        "outputId": "c284326e-3e79-4483-8678-baa8caa36884"
      },
      "execution_count": null,
      "outputs": [
        {
          "output_type": "execute_result",
          "data": {
            "text/plain": [
              "'Hello There My Name Is Darth Vader'"
            ],
            "application/vnd.google.colaboratory.intrinsic+json": {
              "type": "string"
            }
          },
          "metadata": {},
          "execution_count": 10
        }
      ]
    },
    {
      "cell_type": "code",
      "source": [
        "\"this isn't ok\".title()"
      ],
      "metadata": {
        "colab": {
          "base_uri": "https://localhost:8080/",
          "height": 35
        },
        "id": "CwXWqfv3hzpJ",
        "outputId": "f8bf91b6-f483-439e-e4f5-5e7664695a45"
      },
      "execution_count": null,
      "outputs": [
        {
          "output_type": "execute_result",
          "data": {
            "text/plain": [
              "\"This Isn'T Ok\""
            ],
            "application/vnd.google.colaboratory.intrinsic+json": {
              "type": "string"
            }
          },
          "metadata": {},
          "execution_count": 11
        }
      ]
    },
    {
      "cell_type": "code",
      "source": [
        "'34.44545'.replace('.', '')"
      ],
      "metadata": {
        "colab": {
          "base_uri": "https://localhost:8080/",
          "height": 35
        },
        "id": "zCbn7pzVkVOS",
        "outputId": "90a8d496-d6b2-42ef-a7a3-2f993537ddfb"
      },
      "execution_count": null,
      "outputs": [
        {
          "output_type": "execute_result",
          "data": {
            "text/plain": [
              "'3444545'"
            ],
            "application/vnd.google.colaboratory.intrinsic+json": {
              "type": "string"
            }
          },
          "metadata": {},
          "execution_count": 13
        }
      ]
    },
    {
      "cell_type": "code",
      "source": [
        "def is_number(number: str)->bool:\n",
        "    if str(number).isdigit():\n",
        "        return True\n",
        "    elif str(number).replace('.', '').replace('-', '').isdigit():\n",
        "        return True\n",
        "    else:\n",
        "        return False"
      ],
      "metadata": {
        "id": "6H-F0ONLiTdI"
      },
      "execution_count": null,
      "outputs": []
    },
    {
      "cell_type": "markdown",
      "source": [
        "# STATE CHANGE METHODS\n",
        "\n",
        "- `''.lower()`      # Converts to lowercase\n",
        "- `''.upper()`      # Converts to uppercase\n",
        "- `''.title()`      # Converts to title case\n",
        "- `''.capitalize()` # Capitalize entire string\n",
        "- `''.swapcase()`   # SwAPS Case"
      ],
      "metadata": {
        "id": "9Z3d0YUL9TXE"
      }
    },
    {
      "cell_type": "code",
      "source": [
        "'hello'.upper()"
      ],
      "metadata": {
        "id": "q-4ApmrP9eiy",
        "colab": {
          "base_uri": "https://localhost:8080/",
          "height": 35
        },
        "outputId": "3ce7f3e4-35b9-496e-ab4c-caa3d564e7ed"
      },
      "execution_count": null,
      "outputs": [
        {
          "output_type": "execute_result",
          "data": {
            "text/plain": [
              "'HELLO'"
            ],
            "application/vnd.google.colaboratory.intrinsic+json": {
              "type": "string"
            }
          },
          "metadata": {},
          "execution_count": 17
        }
      ]
    },
    {
      "cell_type": "markdown",
      "source": [
        "# CONTENT ALTERING METHODS\n",
        "\n",
        "- `''.strip()`   # Strip characters from left and right (defaults to spaces, tabs, etc)\n",
        "- `''.lstrip()`  # Just left side\n",
        "- `''.rstrip()`  # Just right side\n",
        "- `''.center()`  # center string within specified fill characters (defaults to space)\n",
        "- `''.ljust()`   # like center, but only on the right\n",
        "- `''.rjust()`   # like center, but only on the left\n",
        "- `''.zfill()`   # pad number with specified # of zeros"
      ],
      "metadata": {
        "id": "EdCvSP_F9hRr"
      }
    },
    {
      "cell_type": "code",
      "source": [
        "print('*' * (20 + len('hello mom')))\n",
        "print('hello mom'.center(30, '*'))\n",
        "print('*' * (20 + len('hello mom')))\n"
      ],
      "metadata": {
        "id": "YTUq6NK19un5",
        "colab": {
          "base_uri": "https://localhost:8080/"
        },
        "outputId": "c3996b5d-23e3-422d-94de-f311bdc89c80"
      },
      "execution_count": null,
      "outputs": [
        {
          "output_type": "stream",
          "name": "stdout",
          "text": [
            "*****************************\n",
            "**********hello mom***********\n",
            "*****************************\n"
          ]
        }
      ]
    },
    {
      "cell_type": "code",
      "source": [
        "help('str.zfill')"
      ],
      "metadata": {
        "colab": {
          "base_uri": "https://localhost:8080/"
        },
        "id": "ikIbQBv2oZ66",
        "outputId": "427e29ef-c1df-41dc-b3e3-185190d4dbed"
      },
      "execution_count": null,
      "outputs": [
        {
          "output_type": "stream",
          "name": "stdout",
          "text": [
            "Help on method_descriptor in str:\n",
            "\n",
            "str.zfill = zfill(self, width, /)\n",
            "    Pad a numeric string with zeros on the left, to fill a field of the given width.\n",
            "    \n",
            "    The string is never truncated.\n",
            "\n"
          ]
        }
      ]
    },
    {
      "cell_type": "code",
      "source": [
        "'343'.zfill(32)"
      ],
      "metadata": {
        "colab": {
          "base_uri": "https://localhost:8080/",
          "height": 35
        },
        "id": "bKAngVPlopSC",
        "outputId": "c247ef84-f81e-47d9-ff99-4fcdf1ff9e2b"
      },
      "execution_count": null,
      "outputs": [
        {
          "output_type": "execute_result",
          "data": {
            "text/plain": [
              "'00000000000000000000000000000343'"
            ],
            "application/vnd.google.colaboratory.intrinsic+json": {
              "type": "string"
            }
          },
          "metadata": {},
          "execution_count": 32
        }
      ]
    },
    {
      "cell_type": "markdown",
      "source": [
        "# SPLITTING/JOINING METHODS\n",
        "\n",
        "- `''.split()`  # returns list of strings made by splitting on separator (space by default)\n",
        "- `''.splitlines()`  # same as split() but knows how to split based on newlines (not trivial to duplicate with split())\n",
        "- `''.join()`  # returns delimeted string from sequence of strings"
      ],
      "metadata": {
        "id": "uqhbkgJN9u_d"
      }
    },
    {
      "cell_type": "code",
      "source": [],
      "metadata": {
        "id": "7KjrB5IJyjNM"
      },
      "execution_count": null,
      "outputs": []
    },
    {
      "cell_type": "code",
      "source": [
        "poem = 'whose woods these are I think I know his house is in the village though'\n",
        "poem_list = poem.split()\n",
        "print('\\t'.join(poem_list))"
      ],
      "metadata": {
        "colab": {
          "base_uri": "https://localhost:8080/"
        },
        "id": "-uZrc0IupZdY",
        "outputId": "4ab73c5e-6db4-4af6-f75f-f01119c50181"
      },
      "execution_count": null,
      "outputs": [
        {
          "output_type": "stream",
          "name": "stdout",
          "text": [
            "whose\twoods\tthese\tare\tI\tthink\tI\tknow\this\thouse\tis\tin\tthe\tvillage\tthough\n"
          ]
        }
      ]
    },
    {
      "cell_type": "code",
      "source": [
        "'1,2,3,4,5'.split(',')"
      ],
      "metadata": {
        "id": "g5xhiZiv93Wa",
        "colab": {
          "base_uri": "https://localhost:8080/"
        },
        "outputId": "e148563d-d86e-406f-d00d-88bdc97579a2"
      },
      "execution_count": null,
      "outputs": [
        {
          "output_type": "execute_result",
          "data": {
            "text/plain": [
              "['1', '2', '3', '4', '5']"
            ]
          },
          "metadata": {},
          "execution_count": 35
        }
      ]
    },
    {
      "cell_type": "code",
      "source": [
        "print('\\thello\\n')"
      ],
      "metadata": {
        "colab": {
          "base_uri": "https://localhost:8080/"
        },
        "id": "M07K-mupppRI",
        "outputId": "74f88cd0-9fe2-445d-9759-0d358b167911"
      },
      "execution_count": null,
      "outputs": [
        {
          "output_type": "stream",
          "name": "stdout",
          "text": [
            "\thello\n",
            "\n"
          ]
        }
      ]
    },
    {
      "cell_type": "code",
      "source": [
        "'1, 2, 3, 4, 5'.split(', ')"
      ],
      "metadata": {
        "colab": {
          "base_uri": "https://localhost:8080/"
        },
        "id": "FSBZ84C8qggW",
        "outputId": "2f8c807e-be31-4800-a676-23fbfb6c8113"
      },
      "execution_count": null,
      "outputs": [
        {
          "output_type": "execute_result",
          "data": {
            "text/plain": [
              "['1', '2', '3', '4', '5']"
            ]
          },
          "metadata": {},
          "execution_count": 41
        }
      ]
    },
    {
      "cell_type": "code",
      "source": [
        "'my age = 37'[-2:]"
      ],
      "metadata": {
        "colab": {
          "base_uri": "https://localhost:8080/",
          "height": 35
        },
        "id": "xeORIHT9qxeU",
        "outputId": "ffa19a7c-d9a3-4746-846d-4c7f34c710e7"
      },
      "execution_count": null,
      "outputs": [
        {
          "output_type": "execute_result",
          "data": {
            "text/plain": [
              "'37'"
            ],
            "application/vnd.google.colaboratory.intrinsic+json": {
              "type": "string"
            }
          },
          "metadata": {},
          "execution_count": 42
        }
      ]
    },
    {
      "cell_type": "code",
      "source": [
        "'my age =  37999999 '.split(' = ')[-1].strip()"
      ],
      "metadata": {
        "colab": {
          "base_uri": "https://localhost:8080/",
          "height": 35
        },
        "id": "MtGq2bEBrKUs",
        "outputId": "f27e4b6b-b8ae-40a5-8622-9d55a6358aee"
      },
      "execution_count": null,
      "outputs": [
        {
          "output_type": "execute_result",
          "data": {
            "text/plain": [
              "'37999999'"
            ],
            "application/vnd.google.colaboratory.intrinsic+json": {
              "type": "string"
            }
          },
          "metadata": {},
          "execution_count": 48
        }
      ]
    },
    {
      "cell_type": "code",
      "source": [
        "'my age =37999999 '.split('=')[-1].strip()"
      ],
      "metadata": {
        "colab": {
          "base_uri": "https://localhost:8080/",
          "height": 35
        },
        "id": "9hXV-u3yr2iU",
        "outputId": "79d2ca05-b6a9-4bd4-a232-a17c800f039b"
      },
      "execution_count": null,
      "outputs": [
        {
          "output_type": "execute_result",
          "data": {
            "text/plain": [
              "'37999999'"
            ],
            "application/vnd.google.colaboratory.intrinsic+json": {
              "type": "string"
            }
          },
          "metadata": {},
          "execution_count": 50
        }
      ]
    },
    {
      "cell_type": "code",
      "source": [
        "let_it_be2 = \\\n",
        "\"\"\"\n",
        "When I find myself in times of trouble, Mother Mary comes to me\n",
        "Speaking words of wisdom, let it be\n",
        "And in my hour of darkness she is standing right in front of me\n",
        "Speaking words of wisdom, let it be\n",
        "Let it be, let it be, let it be, let it be\n",
        "Whisper words of wisdom, let it be\n",
        "And when the broken hearted people living in the world agree\n",
        "There will be an answer, let it be\n",
        "For though they may be parted, there is still a chance that they will see\n",
        "There will be an answer, let it be\n",
        "Let it be, let it be, let it be, let it be\n",
        "There will be an answer, let it be\n",
        "Let it be, let it be, let it be, let it be\n",
        "Whisper words of wisdom, let it be\n",
        "Let it be, let it be, let it be, let it be\n",
        "Whisper words of wisdom, let it be\n",
        "And when the night is cloudy there is still a light that shines on me\n",
        "Shine until tomorrow, let it be\n",
        "I wake up to the sound of music, Mother Mary comes to me\n",
        "Speaking words of wisdom, let it be\n",
        "Let it be, let it be, let it be, yeah, let it be\n",
        "There will be an answer, let it be\n",
        "Let it be, let it be, let it be, yeah, let it be\n",
        "Whisper words of wisdom, let it be\n",
        "\"\"\"\n",
        "for a_line in let_it_be2.split('\\n'):\n",
        "    print(a_line)"
      ],
      "metadata": {
        "colab": {
          "base_uri": "https://localhost:8080/"
        },
        "id": "FSOiqGmHsA9B",
        "outputId": "51e7e8f3-4731-4590-f344-371ba099420d"
      },
      "execution_count": null,
      "outputs": [
        {
          "output_type": "stream",
          "name": "stdout",
          "text": [
            "\n",
            "When I find myself in times of trouble, Mother Mary comes to me\n",
            "Speaking words of wisdom, let it be\n",
            "And in my hour of darkness she is standing right in front of me\n",
            "Speaking words of wisdom, let it be\n",
            "Let it be, let it be, let it be, let it be\n",
            "Whisper words of wisdom, let it be\n",
            "And when the broken hearted people living in the world agree\n",
            "There will be an answer, let it be\n",
            "For though they may be parted, there is still a chance that they will see\n",
            "There will be an answer, let it be\n",
            "Let it be, let it be, let it be, let it be\n",
            "There will be an answer, let it be\n",
            "Let it be, let it be, let it be, let it be\n",
            "Whisper words of wisdom, let it be\n",
            "Let it be, let it be, let it be, let it be\n",
            "Whisper words of wisdom, let it be\n",
            "And when the night is cloudy there is still a light that shines on me\n",
            "Shine until tomorrow, let it be\n",
            "I wake up to the sound of music, Mother Mary comes to me\n",
            "Speaking words of wisdom, let it be\n",
            "Let it be, let it be, let it be, yeah, let it be\n",
            "There will be an answer, let it be\n",
            "Let it be, let it be, let it be, yeah, let it be\n",
            "Whisper words of wisdom, let it be\n",
            "\n"
          ]
        }
      ]
    },
    {
      "cell_type": "code",
      "source": [
        "'travis is 53'\n",
        "'travis = 53'\n",
        "'travis 53'\n",
        "'53'"
      ],
      "metadata": {
        "id": "VrgernVFtN5U"
      },
      "execution_count": null,
      "outputs": []
    },
    {
      "cell_type": "markdown",
      "source": [
        "# SEARCHING AND REPLACING\n",
        "\n",
        "- `''.endswith()`    # True if string ends as specified\n",
        "- `''.startswith()`  # True if string starts as specified\n",
        "- `''.find()`        # lowest position where substring is found in string (OTHERWISE -1)\n",
        "    - useful `_start` parameter\n",
        "- `''.rfind()`       # returns highest index where substring can be found\n",
        "- `''.replace()`     # search and replace all copies of 1st string with 2nd one\n",
        "- `''.index()`       # like find, but raises ValueError if substring not found (also see .rindex)"
      ],
      "metadata": {
        "id": "OjcFuW0v-Ftl"
      }
    },
    {
      "cell_type": "code",
      "source": [
        "string.ascii_letters\n",
        "s = \"this is one thing. and this is another. boy I'm exited to be your brother.\"\n",
        "string.punctuation\n",
        "\n",
        "new_string = ''\n",
        "for character in s:\n",
        "    if character not in string.punctuation:\n",
        "        new_string += character\n",
        "print(new_string)\n"
      ],
      "metadata": {
        "id": "C6q0NGsY-VoY",
        "colab": {
          "base_uri": "https://localhost:8080/"
        },
        "outputId": "9a93618e-3338-49f8-df6a-45a67c9f7f74"
      },
      "execution_count": null,
      "outputs": [
        {
          "output_type": "stream",
          "name": "stdout",
          "text": [
            "this is one thing and this is another boy Im exited to be your brother\n"
          ]
        }
      ]
    },
    {
      "cell_type": "markdown",
      "source": [
        "# STRING COLLECTIONS\n",
        "\n",
        "- Python's `string` module\n",
        "- `string.ascii_letters`\n",
        "- `string.ascii_lowercase`\n",
        "- `string.ascii_uppercase`\n",
        "- `string.digits`\n",
        "- `string.punctuation`"
      ],
      "metadata": {
        "id": "yJzrHb1r-V9s"
      }
    },
    {
      "cell_type": "code",
      "source": [],
      "metadata": {
        "id": "H50TDWii-reC"
      },
      "execution_count": null,
      "outputs": []
    },
    {
      "cell_type": "markdown",
      "source": [
        "# OTHER\n",
        "\n",
        "- dedent  # Remove any common leading whitespace from every line in text"
      ],
      "metadata": {
        "id": "Wue-q1QICBG2"
      }
    },
    {
      "cell_type": "markdown",
      "source": [
        "# Let It Be\n",
        "\n",
        "(The Beatles)"
      ],
      "metadata": {
        "id": "L_om5wFHAnRA"
      }
    },
    {
      "cell_type": "code",
      "source": [
        "name = \"travis\\nseymour\\nage=53\\ntown=Aptos\"\n",
        "print(name)\n",
        "\n",
        "'''\n",
        "hek\n",
        "'''\n",
        "\n",
        "name = \"\"\"\n",
        "travis\n",
        "seymour\n",
        "age=53\n",
        "town=Aptos\n",
        "\"\"\"\n",
        "\n",
        "print(name)"
      ],
      "metadata": {
        "colab": {
          "base_uri": "https://localhost:8080/"
        },
        "id": "iMu2OmAquj0r",
        "outputId": "59e50ee4-0c02-4511-bba8-180d3ef170e3"
      },
      "execution_count": null,
      "outputs": [
        {
          "output_type": "stream",
          "name": "stdout",
          "text": [
            "travis\n",
            "seymour\n",
            "age=53\n",
            "town=Aptos\n",
            "\n",
            "travis\n",
            "seymour\n",
            "age=53\n",
            "town=Aptos\n",
            "\n"
          ]
        }
      ]
    },
    {
      "cell_type": "code",
      "source": [
        "# not real code, just example of multiline f-string\n",
        "\n",
        "data = whatever\n",
        "\n",
        "template = \\\n",
        "f\"\"\"\n",
        "Assignment 1\n",
        "part1a = {data.part1a:0.3f}\n",
        "part1a = {data.part1a:0.3f}\n",
        "part1a = {data.part1a:0.3f}\n",
        "\n",
        "total = {data.sum:0.3f}\n",
        "\"\"\"\n",
        "\n",
        "template"
      ],
      "metadata": {
        "id": "T7KfP3AaweyA"
      },
      "execution_count": null,
      "outputs": []
    },
    {
      "cell_type": "code",
      "source": [
        "let_it_be1 = \"\"\"When I find myself in times of trouble, Mother Mary comes to me\n",
        "    Speaking words of wisdom, let it be\n",
        "    And in my hour of darkness she is standing right in front of me\n",
        "    Speaking words of wisdom, let it be\n",
        "    Let it be, let it be, let it be, let it be\n",
        "    Whisper words of wisdom, let it be\n",
        "    And when the broken hearted people living in the world agree\n",
        "    There will be an answer, let it be\n",
        "    For though they may be parted, there is still a chance that they will see\n",
        "    There will be an answer, let it be\n",
        "    Let it be, let it be, let it be, let it be\n",
        "    There will be an answer, let it be\n",
        "    Let it be, let it be, let it be, let it be\n",
        "    Whisper words of wisdom, let it be\n",
        "    Let it be, let it be, let it be, let it be\n",
        "    Whisper words of wisdom, let it be\n",
        "    And when the night is cloudy there is still a light that shines on me\n",
        "    Shine until tomorrow, let it be\n",
        "    I wake up to the sound of music, Mother Mary comes to me\n",
        "    Speaking words of wisdom, let it be\n",
        "    Let it be, let it be, let it be, yeah, let it be\n",
        "    There will be an answer, let it be\n",
        "    Let it be, let it be, let it be, yeah, let it be\n",
        "    Whisper words of wisdom, let it be\n",
        "\"\"\""
      ],
      "metadata": {
        "id": "B0ng3dbVBEj1"
      },
      "execution_count": null,
      "outputs": []
    },
    {
      "cell_type": "code",
      "source": [
        "print(let_it_be1)"
      ],
      "metadata": {
        "colab": {
          "base_uri": "https://localhost:8080/"
        },
        "id": "-HkGueEgBKmD",
        "outputId": "70c1de1f-a0a3-442c-d0b5-27bedf651d79"
      },
      "execution_count": null,
      "outputs": [
        {
          "output_type": "stream",
          "name": "stdout",
          "text": [
            "\n",
            "    When I find myself in times of trouble, Mother Mary comes to me\n",
            "    Speaking words of wisdom, let it be\n",
            "    And in my hour of darkness she is standing right in front of me\n",
            "    Speaking words of wisdom, let it be\n",
            "    Let it be, let it be, let it be, let it be\n",
            "    Whisper words of wisdom, let it be\n",
            "    And when the broken hearted people living in the world agree\n",
            "    There will be an answer, let it be\n",
            "    For though they may be parted, there is still a chance that they will see\n",
            "    There will be an answer, let it be\n",
            "    Let it be, let it be, let it be, let it be\n",
            "    There will be an answer, let it be\n",
            "    Let it be, let it be, let it be, let it be\n",
            "    Whisper words of wisdom, let it be\n",
            "    Let it be, let it be, let it be, let it be\n",
            "    Whisper words of wisdom, let it be\n",
            "    And when the night is cloudy there is still a light that shines on me\n",
            "    Shine until tomorrow, let it be\n",
            "    I wake up to the sound of music, Mother Mary comes to me\n",
            "    Speaking words of wisdom, let it be\n",
            "    Let it be, let it be, let it be, yeah, let it be\n",
            "    There will be an answer, let it be\n",
            "    Let it be, let it be, let it be, yeah, let it be\n",
            "    Whisper words of wisdom, let it be\n",
            "\n"
          ]
        }
      ]
    },
    {
      "cell_type": "code",
      "source": [
        "let_it_be2 = \\\n",
        "\"\"\"\n",
        "When I find myself in times of trouble, Mother Mary comes to me\n",
        "Speaking words of wisdom, let it be\n",
        "And in my hour of darkness she is standing right in front of me\n",
        "Speaking words of wisdom, let it be\n",
        "Let it be, let it be, let it be, let it be\n",
        "Whisper words of wisdom, let it be\n",
        "And when the broken hearted people living in the world agree\n",
        "There will be an answer, let it be\n",
        "For though they may be parted, there is still a chance that they will see\n",
        "There will be an answer, let it be\n",
        "Let it be, let it be, let it be, let it be\n",
        "There will be an answer, let it be\n",
        "Let it be, let it be, let it be, let it be\n",
        "Whisper words of wisdom, let it be\n",
        "Let it be, let it be, let it be, let it be\n",
        "Whisper words of wisdom, let it be\n",
        "And when the night is cloudy there is still a light that shines on me\n",
        "Shine until tomorrow, let it be\n",
        "I wake up to the sound of music, Mother Mary comes to me\n",
        "Speaking words of wisdom, let it be\n",
        "Let it be, let it be, let it be, yeah, let it be\n",
        "There will be an answer, let it be\n",
        "Let it be, let it be, let it be, yeah, let it be\n",
        "Whisper words of wisdom, let it be\n",
        "\"\"\""
      ],
      "metadata": {
        "id": "By5v64UhArut"
      },
      "execution_count": null,
      "outputs": []
    },
    {
      "cell_type": "code",
      "source": [
        "print(let_it_be2)"
      ],
      "metadata": {
        "colab": {
          "base_uri": "https://localhost:8080/"
        },
        "id": "n9Vo5nk8A_GD",
        "outputId": "60c97785-6ec4-44c5-fd73-cbb9cceb4f1f"
      },
      "execution_count": null,
      "outputs": [
        {
          "output_type": "stream",
          "name": "stdout",
          "text": [
            "\n",
            "When I find myself in times of trouble, Mother Mary comes to me\n",
            "Speaking words of wisdom, let it be\n",
            "And in my hour of darkness she is standing right in front of me\n",
            "Speaking words of wisdom, let it be\n",
            "Let it be, let it be, let it be, let it be\n",
            "Whisper words of wisdom, let it be\n",
            "And when the broken hearted people living in the world agree\n",
            "There will be an answer, let it be\n",
            "For though they may be parted, there is still a chance that they will see\n",
            "There will be an answer, let it be\n",
            "Let it be, let it be, let it be, let it be\n",
            "There will be an answer, let it be\n",
            "Let it be, let it be, let it be, let it be\n",
            "Whisper words of wisdom, let it be\n",
            "Let it be, let it be, let it be, let it be\n",
            "Whisper words of wisdom, let it be\n",
            "And when the night is cloudy there is still a light that shines on me\n",
            "Shine until tomorrow, let it be\n",
            "I wake up to the sound of music, Mother Mary comes to me\n",
            "Speaking words of wisdom, let it be\n",
            "Let it be, let it be, let it be, yeah, let it be\n",
            "There will be an answer, let it be\n",
            "Let it be, let it be, let it be, yeah, let it be\n",
            "Whisper words of wisdom, let it be\n",
            "\n"
          ]
        }
      ]
    },
    {
      "cell_type": "code",
      "source": [
        "let_it_be3 = \\\n",
        "    \"\"\"\n",
        "    When I find myself in times of trouble, Mother Mary comes to me\n",
        "    Speaking words of wisdom, let it be\n",
        "    And in my hour of darkness she is standing right in front of me\n",
        "    Speaking words of wisdom, let it be\n",
        "    Let it be, let it be, let it be, let it be\n",
        "    Whisper words of wisdom, let it be\n",
        "    And when the broken hearted people living in the world agree\n",
        "    There will be an answer, let it be\n",
        "    For though they may be parted, there is still a chance that they will see\n",
        "    There will be an answer, let it be\n",
        "    Let it be, let it be, let it be, let it be\n",
        "    There will be an answer, let it be\n",
        "    Let it be, let it be, let it be, let it be\n",
        "    Whisper words of wisdom, let it be\n",
        "    Let it be, let it be, let it be, let it be\n",
        "    Whisper words of wisdom, let it be\n",
        "    And when the night is cloudy there is still a light that shines on me\n",
        "    Shine until tomorrow, let it be\n",
        "    I wake up to the sound of music, Mother Mary comes to me\n",
        "    Speaking words of wisdom, let it be\n",
        "    Let it be, let it be, let it be, yeah, let it be\n",
        "    There will be an answer, let it be\n",
        "    Let it be, let it be, let it be, yeah, let it be\n",
        "    Whisper words of wisdom, let it be\n",
        "    \"\"\""
      ],
      "metadata": {
        "id": "T391hKSLA1JE"
      },
      "execution_count": null,
      "outputs": []
    },
    {
      "cell_type": "code",
      "source": [
        "print(let_it_be3)"
      ],
      "metadata": {
        "colab": {
          "base_uri": "https://localhost:8080/"
        },
        "id": "5q6SGMkfA54n",
        "outputId": "6c93f524-797d-4cb8-962c-d65c4efb5763"
      },
      "execution_count": null,
      "outputs": [
        {
          "output_type": "stream",
          "name": "stdout",
          "text": [
            "\n",
            "When I find myself in times of trouble, Mother Mary comes to me\n",
            "Speaking words of wisdom, let it be\n",
            "And in my hour of darkness she is standing right in front of me\n",
            "Speaking words of wisdom, let it be\n",
            "Let it be, let it be, let it be, let it be\n",
            "Whisper words of wisdom, let it be\n",
            "And when the broken hearted people living in the world agree\n",
            "There will be an answer, let it be\n",
            "For though they may be parted, there is still a chance that they will see\n",
            "There will be an answer, let it be\n",
            "Let it be, let it be, let it be, let it be\n",
            "There will be an answer, let it be\n",
            "Let it be, let it be, let it be, let it be\n",
            "Whisper words of wisdom, let it be\n",
            "Let it be, let it be, let it be, let it be\n",
            "Whisper words of wisdom, let it be\n",
            "And when the night is cloudy there is still a light that shines on me\n",
            "Shine until tomorrow, let it be\n",
            "I wake up to the sound of music, Mother Mary comes to me\n",
            "Speaking words of wisdom, let it be\n",
            "Let it be, let it be, let it be, yeah, let it be\n",
            "There will be an answer, let it be\n",
            "Let it be, let it be, let it be, yeah, let it be\n",
            "Whisper words of wisdom, let it be\n",
            "\n"
          ]
        }
      ]
    },
    {
      "cell_type": "code",
      "source": [
        "print(let_it_be1)"
      ],
      "metadata": {
        "colab": {
          "base_uri": "https://localhost:8080/"
        },
        "id": "QC51FEX-v4EH",
        "outputId": "7f6918cf-ac7f-4f60-f8ac-34aed3a18702"
      },
      "execution_count": null,
      "outputs": [
        {
          "output_type": "stream",
          "name": "stdout",
          "text": [
            "\n",
            "    When I find myself in times of trouble, Mother Mary comes to me\n",
            "    Speaking words of wisdom, let it be\n",
            "    And in my hour of darkness she is standing right in front of me\n",
            "    Speaking words of wisdom, let it be\n",
            "    Let it be, let it be, let it be, let it be\n",
            "    Whisper words of wisdom, let it be\n",
            "    And when the broken hearted people living in the world agree\n",
            "    There will be an answer, let it be\n",
            "    For though they may be parted, there is still a chance that they will see\n",
            "    There will be an answer, let it be\n",
            "    Let it be, let it be, let it be, let it be\n",
            "    There will be an answer, let it be\n",
            "    Let it be, let it be, let it be, let it be\n",
            "    Whisper words of wisdom, let it be\n",
            "    Let it be, let it be, let it be, let it be\n",
            "    Whisper words of wisdom, let it be\n",
            "    And when the night is cloudy there is still a light that shines on me\n",
            "    Shine until tomorrow, let it be\n",
            "    I wake up to the sound of music, Mother Mary comes to me\n",
            "    Speaking words of wisdom, let it be\n",
            "    Let it be, let it be, let it be, yeah, let it be\n",
            "    There will be an answer, let it be\n",
            "    Let it be, let it be, let it be, yeah, let it be\n",
            "    Whisper words of wisdom, let it be\n",
            "\n"
          ]
        }
      ]
    },
    {
      "cell_type": "code",
      "source": [
        "import textwrap\n",
        "print(textwrap.dedent(let_it_be1))"
      ],
      "metadata": {
        "colab": {
          "base_uri": "https://localhost:8080/"
        },
        "id": "wYYsm4EKBms3",
        "outputId": "96b9143c-a084-4ec7-91b9-45a8dd496218"
      },
      "execution_count": null,
      "outputs": [
        {
          "output_type": "stream",
          "name": "stdout",
          "text": [
            "\n",
            "When I find myself in times of trouble, Mother Mary comes to me\n",
            "Speaking words of wisdom, let it be\n",
            "And in my hour of darkness she is standing right in front of me\n",
            "Speaking words of wisdom, let it be\n",
            "Let it be, let it be, let it be, let it be\n",
            "Whisper words of wisdom, let it be\n",
            "And when the broken hearted people living in the world agree\n",
            "There will be an answer, let it be\n",
            "For though they may be parted, there is still a chance that they will see\n",
            "There will be an answer, let it be\n",
            "Let it be, let it be, let it be, let it be\n",
            "There will be an answer, let it be\n",
            "Let it be, let it be, let it be, let it be\n",
            "Whisper words of wisdom, let it be\n",
            "Let it be, let it be, let it be, let it be\n",
            "Whisper words of wisdom, let it be\n",
            "And when the night is cloudy there is still a light that shines on me\n",
            "Shine until tomorrow, let it be\n",
            "I wake up to the sound of music, Mother Mary comes to me\n",
            "Speaking words of wisdom, let it be\n",
            "Let it be, let it be, let it be, yeah, let it be\n",
            "There will be an answer, let it be\n",
            "Let it be, let it be, let it be, yeah, let it be\n",
            "Whisper words of wisdom, let it be\n",
            "\n"
          ]
        }
      ]
    }
  ]
}