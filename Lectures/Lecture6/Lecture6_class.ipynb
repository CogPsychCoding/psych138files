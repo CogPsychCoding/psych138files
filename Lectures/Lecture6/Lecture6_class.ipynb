{
  "nbformat": 4,
  "nbformat_minor": 0,
  "metadata": {
    "colab": {
      "provenance": [],
      "authorship_tag": "ABX9TyOSUmaecIYQ8u4vyNf8SrLt",
      "include_colab_link": true
    },
    "kernelspec": {
      "name": "python3",
      "display_name": "Python 3"
    },
    "language_info": {
      "name": "python"
    }
  },
  "cells": [
    {
      "cell_type": "markdown",
      "metadata": {
        "id": "view-in-github",
        "colab_type": "text"
      },
      "source": [
        "<a href=\"https://colab.research.google.com/github/CogPsychCoding/psych138files/blob/main/Lectures/Lecture6/Lecture6_class.ipynb\" target=\"_parent\"><img src=\"https://colab.research.google.com/assets/colab-badge.svg\" alt=\"Open In Colab\"/></a>"
      ]
    },
    {
      "cell_type": "markdown",
      "source": [
        "# Setup"
      ],
      "metadata": {
        "id": "rh067_xYfp-y"
      }
    },
    {
      "cell_type": "code",
      "source": [
        "import random\n",
        "import time"
      ],
      "metadata": {
        "id": "5AVY85MqfryU"
      },
      "execution_count": 3,
      "outputs": []
    },
    {
      "cell_type": "markdown",
      "source": [
        "# Questions?"
      ],
      "metadata": {
        "id": "Hpm66pqOieF3"
      }
    },
    {
      "cell_type": "code",
      "source": [
        "age = input(\"give me an age \")\n",
        "if not age.isdigit():\n",
        "    print('NOPE')"
      ],
      "metadata": {
        "id": "2CSt743J9CO-"
      },
      "execution_count": null,
      "outputs": []
    },
    {
      "cell_type": "markdown",
      "source": [
        "# Lecture 6\n",
        "\n",
        "\n",
        "#### Video 7 Takeaways\n",
        "\n",
        "- A `for` loop will evaluate a code block a specific number of times.\n",
        "- The `range()` function can be called with one, two, or three arguments.\n",
        "- The `break` and `continue` statements can be used in for loops just like they're used in while loops."
      ],
      "metadata": {
        "id": "wioyWlrFfsPc"
      }
    },
    {
      "cell_type": "code",
      "source": [
        "loops = 0\n",
        "while loops < 40:\n",
        "    # do something\n",
        "    loops = loops + 1\n",
        "\n",
        "for loops in range(40)\n",
        "    # do something"
      ],
      "metadata": {
        "id": "A8ILY7Nj_KL6"
      },
      "execution_count": null,
      "outputs": []
    },
    {
      "cell_type": "markdown",
      "source": [
        "![]()"
      ],
      "metadata": {
        "id": "xFOWeT6TkEFm"
      }
    },
    {
      "cell_type": "markdown",
      "source": [
        "## What is the 2-Back Task?\n",
        "\n",
        "<img title=\"2-Back Task\" alt=\"2-Back Task Image\" src=\"https://www.dropbox.com/scl/fi/8r52fgrocsmyc5t8wi1rt/2backTask.png?rlkey=sdfblnmh1ax8q5spazo3ob8m9&dl=1\" width=800>\n",
        "\n",
        "[comment]: <> (<img title=\"2-Back Task\" alt=\"2-Back Task Image\" src=\"https://www.frontiersin.org/files/Articles/230869/fnhum-11-00085-HTML/image_m/fnhum-11-00085-g001.jpg\">)"
      ],
      "metadata": {
        "id": "WycKGysjgvLX"
      }
    },
    {
      "cell_type": "markdown",
      "source": [
        "## Coding Psych Experiments\n",
        "\n",
        "- Instructions\n",
        "- Display looks correct\n",
        "    - Stimuli\n",
        "    - Event timing\n",
        "    - Focus user expectations\n",
        "- Stimulus randomization correct\n",
        "- Responding works\n",
        "   - Limit to correct only? Not if speeded.\n",
        "- Storing responses and RTs\n",
        "   - Ignore incorrect responses? Not all studies do.\n",
        "- Analyzing data"
      ],
      "metadata": {
        "id": "wwroLrvVY2hm"
      }
    },
    {
      "cell_type": "markdown",
      "source": [
        "## Coding the 2-back task\n",
        "\n",
        "- remember that the time.time() function returns values in seconds, but they can be fractional, so you can track milliseconds as well\n",
        "- you can also use time.sleep()\n",
        "- even though it's early, we're going to use functions today!"
      ],
      "metadata": {
        "id": "VWDH0iTcmkYl"
      }
    },
    {
      "cell_type": "code",
      "source": [
        "# function for clearing the screen\n",
        "# we're not technically covering functions until later, but they'll be handy here\n",
        "\n",
        "def clear_the_screen():\n",
        "    print('-----------------')\n",
        "\n",
        "# test it\n",
        "clear_the_screen()"
      ],
      "metadata": {
        "id": "Wq6JoltPoHEE",
        "colab": {
          "base_uri": "https://localhost:8080/"
        },
        "outputId": "dd96aded-4b4a-49b7-fc88-985980c12a09"
      },
      "execution_count": 7,
      "outputs": [
        {
          "output_type": "stream",
          "name": "stdout",
          "text": [
            "-----------------\n"
          ]
        }
      ]
    },
    {
      "cell_type": "code",
      "source": [
        "for i in range(40):\n",
        "    print(random.randint(1, 4), end=' ')"
      ],
      "metadata": {
        "id": "NopXVwIlFO3m"
      },
      "execution_count": null,
      "outputs": []
    },
    {
      "cell_type": "code",
      "source": [
        "# function to generate a random letter between A and D\n",
        "def generate_random_letter():\n",
        "    number = random.randint(1, 4)\n",
        "    if number == 1:\n",
        "        return 'A'\n",
        "    elif number == 2:\n",
        "        return 'B'\n",
        "    elif number == 3:\n",
        "        return 'C'\n",
        "    elif number == 4:\n",
        "        return 'D'\n",
        "\n",
        "\n",
        "# test it\n",
        "generate_random_letter()"
      ],
      "metadata": {
        "id": "4HumlY_4tNIS",
        "colab": {
          "base_uri": "https://localhost:8080/",
          "height": 35
        },
        "outputId": "20fc5865-8dba-4b5e-ebcd-7e1e12366445"
      },
      "execution_count": 6,
      "outputs": [
        {
          "output_type": "execute_result",
          "data": {
            "text/plain": [
              "'D'"
            ],
            "application/vnd.google.colaboratory.intrinsic+json": {
              "type": "string"
            }
          },
          "metadata": {},
          "execution_count": 6
        }
      ]
    },
    {
      "cell_type": "code",
      "source": [
        "def show_instructions():\n",
        "    print('INSTRUCTIONS:')\n",
        "    print('On each trial you will see a new letter.')\n",
        "    print('If it is the same letter you saw 2 letters ago, press the U key with your right index finger.')\n",
        "    print('Otherwise, press the R key with your left index finger.')\n",
        "    print()\n",
        "\n",
        "    # note that we don't have to assign anything here if we don't care about the input\n",
        "    input('Hit ENTER to Continue ')\n",
        "\n",
        "    clear_the_screen()\n",
        "\n",
        "# test it\n",
        "show_instructions()"
      ],
      "metadata": {
        "id": "Ji9-sBAX1K-9"
      },
      "execution_count": null,
      "outputs": []
    },
    {
      "cell_type": "code",
      "source": [
        "# 2-back task\n",
        "\n",
        "def two_back_task():\n",
        "    one_back = ''\n",
        "    two_back = ''\n",
        "\n",
        "    correct_rt_sum = 0\n",
        "    correct_rt_count = 0\n",
        "\n",
        "    trials = 4\n",
        "\n",
        "    # show_instructions()\n",
        "\n",
        "    for trial in range(trials):\n",
        "        # geberate a random number\n",
        "        stimulus = generate_random_letter()\n",
        "\n",
        "        # determine correct response\n",
        "        if stimulus == two_back:\n",
        "            correct_response = 'u'\n",
        "        else:\n",
        "            correct_response = 'r'\n",
        "\n",
        "        # show to user\n",
        "        print(stimulus)\n",
        "        start = time.time()\n",
        "\n",
        "        # wait for response\n",
        "        response = input('>>>' )\n",
        "        rt = time.time() - start\n",
        "\n",
        "        # save their rt\n",
        "        if response == correct_response:\n",
        "            correct_rt_sum += rt\n",
        "            correct_rt_count += 1\n",
        "\n",
        "        # update history\n",
        "        two_back = one_back\n",
        "        one_back = stimulus\n",
        "\n",
        "    # show me the analysis\n",
        "    if correct_rt_count > 0:\n",
        "        mean = correct_rt_sum / correct_rt_count\n",
        "        print(f'mean RT = {mean}')\n",
        "        # print(f'correct responses = {} percent')  # how would you code this???\n",
        "    else:\n",
        "        print(f'there were no correct responses!')\n",
        "\n",
        "# test it\n",
        "two_back_task()"
      ],
      "metadata": {
        "id": "i3i76oxuobUt",
        "colab": {
          "base_uri": "https://localhost:8080/"
        },
        "outputId": "079c63cd-5d4b-457a-f0c8-f9a8ff4c9501"
      },
      "execution_count": 8,
      "outputs": [
        {
          "output_type": "stream",
          "name": "stdout",
          "text": [
            "C\n",
            ">>>r\n",
            "C\n",
            ">>>r\n",
            "A\n",
            ">>>r\n",
            "C\n",
            ">>>u\n",
            "mean RT = 2.936676502227783\n"
          ]
        }
      ]
    },
    {
      "cell_type": "markdown",
      "source": [
        "## N-Back Task?\n",
        "\n",
        "- Difficult to do without using a list (or some other iterable).\n",
        "- You'll learn this in the next class!\n"
      ],
      "metadata": {
        "id": "pwZD7EVN3--g"
      }
    }
  ]
}