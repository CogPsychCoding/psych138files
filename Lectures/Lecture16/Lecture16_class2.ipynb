{
  "nbformat": 4,
  "nbformat_minor": 0,
  "metadata": {
    "colab": {
      "provenance": [],
      "authorship_tag": "ABX9TyPEjOe1uakro5jNhilQvTcc",
      "include_colab_link": true
    },
    "kernelspec": {
      "name": "python3",
      "display_name": "Python 3"
    },
    "language_info": {
      "name": "python"
    }
  },
  "cells": [
    {
      "cell_type": "markdown",
      "metadata": {
        "id": "view-in-github",
        "colab_type": "text"
      },
      "source": [
        "<a href=\"https://colab.research.google.com/github/CogPsychCoding/psych138files/blob/main/Lectures/Lecture16/Lecture16_class2.ipynb\" target=\"_parent\"><img src=\"https://colab.research.google.com/assets/colab-badge.svg\" alt=\"Open In Colab\"/></a>"
      ]
    },
    {
      "cell_type": "markdown",
      "source": [
        "# Setup - Run Each Of These Next 5 Cells To Setup Session\n",
        "(note: these 5 cells can be safely re-run each session, you won't overwrite your work)"
      ],
      "metadata": {
        "id": "GsV_GmDqqMxa"
      }
    },
    {
      "cell_type": "code",
      "source": [
        "from google.colab import drive, files\n",
        "\n",
        "import os\n",
        "import random\n",
        "import string\n",
        "import zipfile\n",
        "import csv\n",
        "import statistics\n",
        "from pprint import pprint\n",
        "import pandas as pd"
      ],
      "metadata": {
        "id": "ofYECQRBqODt"
      },
      "execution_count": null,
      "outputs": []
    },
    {
      "cell_type": "code",
      "source": [
        "drive.mount('/content/drive')"
      ],
      "metadata": {
        "id": "XeoaRdplrIwG",
        "colab": {
          "base_uri": "https://localhost:8080/"
        },
        "outputId": "ec1db863-5512-47a3-a140-3ad4abeb8198"
      },
      "execution_count": null,
      "outputs": [
        {
          "output_type": "stream",
          "name": "stdout",
          "text": [
            "Drive already mounted at /content/drive; to attempt to forcibly remount, call drive.mount(\"/content/drive\", force_remount=True).\n"
          ]
        }
      ]
    },
    {
      "cell_type": "markdown",
      "source": [
        "<mark>IMPORTANT: You Must First Change This String vvv To Refer To The Location Of YOUR Notebook</mark>"
      ],
      "metadata": {
        "id": "Mu53zwOKtAkB"
      }
    },
    {
      "cell_type": "code",
      "source": [
        "this_folder = '/content/drive/MyDrive/0_Psych138/Lectures/Lecture16'\n",
        "os.chdir(this_folder)\n",
        "print(os.getcwd())"
      ],
      "metadata": {
        "id": "TqrYyHeVrMVb",
        "colab": {
          "base_uri": "https://localhost:8080/"
        },
        "outputId": "01a8a361-8ccc-4846-d8d0-8ae77df04832"
      },
      "execution_count": null,
      "outputs": [
        {
          "output_type": "stream",
          "name": "stdout",
          "text": [
            "/content/drive/MyDrive/0_Psych138/Lectures/Lecture16\n"
          ]
        }
      ]
    },
    {
      "cell_type": "code",
      "source": [
        "os.makedirs(os.path.join('data', 'choicetask'), exist_ok=True)\n",
        "print(os.listdir())\n",
        "print(os.listdir('data'))"
      ],
      "metadata": {
        "id": "89cRZguptOPT"
      },
      "execution_count": null,
      "outputs": []
    },
    {
      "cell_type": "code",
      "source": [
        "!gdown \"https://bit.ly/138DataFilesA\" -O datafiles.zip"
      ],
      "metadata": {
        "id": "FMqa0ztKOFAA"
      },
      "execution_count": null,
      "outputs": []
    },
    {
      "cell_type": "code",
      "source": [
        "# normally I want imports to go at top, but this one is a special case where\n",
        "# google colab has an import issue. putting the import here solves this:\n",
        "import zipfile\n",
        "\n",
        "if not os.path.isfile('datafiles.zip'):\n",
        "    print('You have to wait a sec for datafiles.zip to finish downloading!')\n",
        "else:\n",
        "    with zipfile.ZipFile('datafiles.zip', 'r') as zipfile:\n",
        "        # assumes you've called os.chdir() to the folder that holds this notebook!\n",
        "        zipfile.extractall(path=os.path.join('data', 'choicetask'))\n",
        "print(os.listdir(os.path.join('data', 'choicetask', 'datafiles')))"
      ],
      "metadata": {
        "id": "f9V60T_aPRdK"
      },
      "execution_count": null,
      "outputs": []
    },
    {
      "cell_type": "markdown",
      "source": [
        "# Lecture 16\n",
        "\n",
        "\n",
        "\n",
        "## NOTES:\n",
        "- We're skipping the `pathlib` module, just keep us the `os` module\n",
        "- I suggested we would not use the csv module last class, but we are!!"
      ],
      "metadata": {
        "id": "Wc0ZXlbAuXtq"
      }
    },
    {
      "cell_type": "markdown",
      "source": [
        "# Reading CSV Files"
      ],
      "metadata": {
        "id": "cdIsnOroUr9T"
      }
    },
    {
      "cell_type": "markdown",
      "source": [
        "### Let's say you wanted to determine the mean RT for CORRECT RTs in the ChoiceTask experiment. Howe would you do begin?"
      ],
      "metadata": {
        "id": "1gaWe0iNVR4I"
      }
    },
    {
      "cell_type": "markdown",
      "source": [
        "### That would be ok, but csv files can be messy. What if a cell's value was a sentence that contained commas, or a double quotation? What if the csv text started on the 2nd line rather than the first? What if there as an extra comma at the end of every line? It could get difficult to properly parse the text without knowing beforehand what it looked like."
      ],
      "metadata": {
        "id": "9K3lPaQFV2XJ"
      }
    },
    {
      "cell_type": "markdown",
      "source": [
        "### If things are simple, you can do this just by treating a csv file as a text file:"
      ],
      "metadata": {
        "id": "8u2i9Y2cW-7x"
      }
    },
    {
      "cell_type": "code",
      "source": [
        "# to avoid retyping this all the time\n",
        "dr = os.path.join('data', 'choicetask', 'datafiles')\n",
        "dr\n",
        "os.listdir(os.getcwd())"
      ],
      "metadata": {
        "id": "EcDXmeVkQKJh",
        "colab": {
          "base_uri": "https://localhost:8080/"
        },
        "outputId": "81fbeaf9-a702-4297-df71-0904bf0f8a44"
      },
      "execution_count": null,
      "outputs": [
        {
          "output_type": "execute_result",
          "data": {
            "text/plain": [
              "['data', 'Lecture16_class.ipynb', 'datafiles.zip', 'Lecture16_Outline.ipynb']"
            ]
          },
          "metadata": {},
          "execution_count": 6
        }
      ]
    },
    {
      "cell_type": "code",
      "source": [
        "# you don't actually **need** anything new to read csv files!\n",
        "with open(os.path.join(dr, 'data_file_2.csv'), 'r') as infile:\n",
        "    lines = infile.readlines()\n",
        "\n",
        "lines = [line.strip() for line in lines]\n",
        "lines = [line.split(',') for line in lines]\n",
        "\n",
        "pprint(lines, width=100)\n"
      ],
      "metadata": {
        "id": "bP6mYlMZVqva",
        "colab": {
          "base_uri": "https://localhost:8080/"
        },
        "outputId": "1835bf03-1a88-4491-f674-c7776995ab38"
      },
      "execution_count": null,
      "outputs": [
        {
          "output_type": "stream",
          "name": "stdout",
          "text": [
            "[['CONDITION', 'TASKTYPE', 'DIFFICULTY', 'TRIAL', 'RT', 'STIMCOLOR', 'ACCURACY'],\n",
            " ['Cond2', 'choicetask', 'Easy', '0', '683', 'Yellow', 'CORRECT'],\n",
            " ['Cond2', 'choicetask', 'Easy', '1', '583', 'Green', 'CORRECT'],\n",
            " ['Cond2', 'choicetask', 'Easy', '2', '650', 'Yellow', 'CORRECT'],\n",
            " ['Cond2', 'choicetask', 'Easy', '3', '616', 'Green', 'CORRECT'],\n",
            " ['Cond2', 'choicetask', 'Easy', '4', '700', 'Green', 'CORRECT'],\n",
            " ['Cond2', 'choicetask', 'Easy', '5', '633', 'Red', 'CORRECT'],\n",
            " ['Cond2', 'choicetask', 'Easy', '6', '766', 'Blue', 'CORRECT'],\n",
            " ['Cond2', 'choicetask', 'Easy', '7', '716', 'Blue', 'CORRECT'],\n",
            " ['Cond2', 'choicetask', 'Easy', '8', '533', 'Blue', 'CORRECT'],\n",
            " ['Cond2', 'choicetask', 'Easy', '9', '583', 'Blue', 'CORRECT'],\n",
            " ['Cond2', 'choicetask', 'Easy', '10', '550', 'Yellow', 'CORRECT'],\n",
            " ['Cond2', 'choicetask', 'Easy', '11', '716', 'Blue', 'CORRECT'],\n",
            " ['Cond2', 'choicetask', 'Easy', '12', '700', 'Green', 'CORRECT'],\n",
            " ['Cond2', 'choicetask', 'Easy', '13', '566', 'Yellow', 'CORRECT'],\n",
            " ['Cond2', 'choicetask', 'Easy', '14', '566', 'Red', 'CORRECT'],\n",
            " ['Cond2', 'choicetask', 'Easy', '15', '466', 'Red', 'CORRECT'],\n",
            " ['Cond2', 'choicetask', 'Easy', '16', '1000', 'Green', 'CORRECT'],\n",
            " ['Cond2', 'choicetask', 'Easy', '17', '566', 'Green', 'CORRECT'],\n",
            " ['Cond2', 'choicetask', 'Easy', '18', '566', 'Yellow', 'INCORRECT'],\n",
            " ['Cond2', 'choicetask', 'Easy', '19', '883', 'Blue', 'CORRECT'],\n",
            " ['Cond2', 'choicetask', 'Easy', '20', '583', 'Red', 'CORRECT'],\n",
            " ['Cond2', 'choicetask', 'Easy', '21', '583', 'Green', 'CORRECT'],\n",
            " ['Cond2', 'choicetask', 'Easy', '22', '716', 'Green', 'CORRECT'],\n",
            " ['Cond2', 'choicetask', 'Easy', '23', '616', 'Red', 'CORRECT'],\n",
            " ['Cond2', 'choicetask', 'Easy', '24', '566', 'Red', 'CORRECT'],\n",
            " ['Cond2', 'choicetask', 'Easy', '25', '416', 'Yellow', 'CORRECT'],\n",
            " ['Cond2', 'choicetask', 'Easy', '26', '516', 'Red', 'CORRECT'],\n",
            " ['Cond2', 'choicetask', 'Easy', '27', '566', 'Red', 'CORRECT'],\n",
            " ['Cond2', 'choicetask', 'Easy', '28', '683', 'Green', 'CORRECT'],\n",
            " ['Cond2', 'choicetask', 'Easy', '29', '766', 'Yellow', 'CORRECT']]\n"
          ]
        }
      ]
    },
    {
      "cell_type": "markdown",
      "source": [
        "### The `csv` module is built for reading csv files, even complex ones."
      ],
      "metadata": {
        "id": "drmakfctXXxc"
      }
    },
    {
      "cell_type": "code",
      "source": [
        "# however, you should always use something designed to read in csv files and all their potential complexity.\n",
        "lines = []\n",
        "\n",
        "with open(os.path.join(dr, 'data_file_2.csv'), 'r') as infile:\n",
        "    reader = csv.reader(infile)\n",
        "    lines = list(reader)\n",
        "\n",
        "# for line in lines:\n",
        "#     print(line)\n",
        "\n",
        "pprint(lines, width=100)\n",
        "# print(lines)"
      ],
      "metadata": {
        "id": "1jDrtleEyC-7",
        "colab": {
          "base_uri": "https://localhost:8080/"
        },
        "outputId": "d2d894ac-387a-489f-9760-0d8093a338b5"
      },
      "execution_count": null,
      "outputs": [
        {
          "output_type": "stream",
          "name": "stdout",
          "text": [
            "[['CONDITION', 'TASKTYPE', 'DIFFICULTY', 'TRIAL', 'RT', 'STIMCOLOR', 'ACCURACY'],\n",
            " ['Cond2', 'choicetask', 'Easy', '0', '683', 'Yellow', 'CORRECT'],\n",
            " ['Cond2', 'choicetask', 'Easy', '1', '583', 'Green', 'CORRECT'],\n",
            " ['Cond2', 'choicetask', 'Easy', '2', '650', 'Yellow', 'CORRECT'],\n",
            " ['Cond2', 'choicetask', 'Easy', '3', '616', 'Green', 'CORRECT'],\n",
            " ['Cond2', 'choicetask', 'Easy', '4', '700', 'Green', 'CORRECT'],\n",
            " ['Cond2', 'choicetask', 'Easy', '5', '633', 'Red', 'CORRECT'],\n",
            " ['Cond2', 'choicetask', 'Easy', '6', '766', 'Blue', 'CORRECT'],\n",
            " ['Cond2', 'choicetask', 'Easy', '7', '716', 'Blue', 'CORRECT'],\n",
            " ['Cond2', 'choicetask', 'Easy', '8', '533', 'Blue', 'CORRECT'],\n",
            " ['Cond2', 'choicetask', 'Easy', '9', '583', 'Blue', 'CORRECT'],\n",
            " ['Cond2', 'choicetask', 'Easy', '10', '550', 'Yellow', 'CORRECT'],\n",
            " ['Cond2', 'choicetask', 'Easy', '11', '716', 'Blue', 'CORRECT'],\n",
            " ['Cond2', 'choicetask', 'Easy', '12', '700', 'Green', 'CORRECT'],\n",
            " ['Cond2', 'choicetask', 'Easy', '13', '566', 'Yellow', 'CORRECT'],\n",
            " ['Cond2', 'choicetask', 'Easy', '14', '566', 'Red', 'CORRECT'],\n",
            " ['Cond2', 'choicetask', 'Easy', '15', '466', 'Red', 'CORRECT'],\n",
            " ['Cond2', 'choicetask', 'Easy', '16', '1000', 'Green', 'CORRECT'],\n",
            " ['Cond2', 'choicetask', 'Easy', '17', '566', 'Green', 'CORRECT'],\n",
            " ['Cond2', 'choicetask', 'Easy', '18', '566', 'Yellow', 'INCORRECT'],\n",
            " ['Cond2', 'choicetask', 'Easy', '19', '883', 'Blue', 'CORRECT'],\n",
            " ['Cond2', 'choicetask', 'Easy', '20', '583', 'Red', 'CORRECT'],\n",
            " ['Cond2', 'choicetask', 'Easy', '21', '583', 'Green', 'CORRECT'],\n",
            " ['Cond2', 'choicetask', 'Easy', '22', '716', 'Green', 'CORRECT'],\n",
            " ['Cond2', 'choicetask', 'Easy', '23', '616', 'Red', 'CORRECT'],\n",
            " ['Cond2', 'choicetask', 'Easy', '24', '566', 'Red', 'CORRECT'],\n",
            " ['Cond2', 'choicetask', 'Easy', '25', '416', 'Yellow', 'CORRECT'],\n",
            " ['Cond2', 'choicetask', 'Easy', '26', '516', 'Red', 'CORRECT'],\n",
            " ['Cond2', 'choicetask', 'Easy', '27', '566', 'Red', 'CORRECT'],\n",
            " ['Cond2', 'choicetask', 'Easy', '28', '683', 'Green', 'CORRECT'],\n",
            " ['Cond2', 'choicetask', 'Easy', '29', '766', 'Yellow', 'CORRECT']]\n"
          ]
        }
      ]
    },
    {
      "cell_type": "markdown",
      "source": [
        "### It doesn't look much different (in fact, the csv version has 1 extra line), but NOT using the csv module for csv files will eventually lead to problems."
      ],
      "metadata": {
        "id": "t59FwgU5YMrs"
      }
    },
    {
      "cell_type": "markdown",
      "source": [
        "## Isolating Columns To Filter or Analyze Data\n",
        "\n",
        "- How would you remove rows in which ACCURACY was 'INCORRECT'?\n",
        "- How would you calculate the accuracy?\n",
        "- Hoq would you calculate the mean Correct RT?\n"
      ],
      "metadata": {
        "id": "rhNiM3woYahE"
      }
    },
    {
      "cell_type": "code",
      "source": [
        "lines = lines[1:]"
      ],
      "metadata": {
        "id": "uZ_PVvYw94Bk"
      },
      "execution_count": null,
      "outputs": []
    },
    {
      "cell_type": "code",
      "source": [
        "# Calculate Acuracy\n",
        "accuracy = [line[-1] for line in lines]\n",
        "print(f'accuracy = {accuracy.count(\"CORRECT\")/len(accuracy)*100:0.2f}%')"
      ],
      "metadata": {
        "id": "7gaQ1At4ZNVM",
        "colab": {
          "base_uri": "https://localhost:8080/"
        },
        "outputId": "1104a427-8be0-40dd-a4a2-053d5e7a69cc"
      },
      "execution_count": null,
      "outputs": [
        {
          "output_type": "stream",
          "name": "stdout",
          "text": [
            "accuracy = 96.67%\n"
          ]
        }
      ]
    },
    {
      "cell_type": "code",
      "source": [
        "# Create a copy of data that contains only correct trials\n",
        "# data = []\n",
        "# for line in lines:\n",
        "#     if line[-1] == 'CORRECT':\n",
        "#         data.append(line)\n",
        "\n",
        "data = [line for line in lines if line[-1] == 'CORRECT']\n",
        "pprint(data, width=100)"
      ],
      "metadata": {
        "id": "G4yBbiC-YiU_"
      },
      "execution_count": null,
      "outputs": []
    },
    {
      "cell_type": "code",
      "source": [
        "# Calculate mean correct RT\n",
        "rts = [line[-3] for line in data]\n",
        "print(rts)\n",
        "mean_rt = statistics.mean([int(rt) for rt in rts])\n",
        "print(f'mean correct RT = {mean_rt:0.2f}')"
      ],
      "metadata": {
        "id": "8C5AoHI6bW7k",
        "colab": {
          "base_uri": "https://localhost:8080/"
        },
        "outputId": "7fe95cb1-bf54-41b1-c8c0-74cf2b45496b"
      },
      "execution_count": null,
      "outputs": [
        {
          "output_type": "stream",
          "name": "stdout",
          "text": [
            "['683', '583', '650', '616', '700', '633', '766', '716', '533', '583', '550', '716', '700', '566', '566', '466', '1000', '566', '883', '583', '583', '716', '616', '566', '416', '516', '566', '683', '766']\n",
            "mean correct RT = 637.48\n"
          ]
        }
      ]
    },
    {
      "cell_type": "code",
      "source": [
        "a = list('12345')\n",
        "b = list('abcdef')\n",
        "print(a)\n",
        "print(b)\n",
        "# a = a + b\n",
        "a.extend(b)\n",
        "print(a)"
      ],
      "metadata": {
        "colab": {
          "base_uri": "https://localhost:8080/"
        },
        "id": "eQWFZrPmBjED",
        "outputId": "98807e29-b4f1-4788-d8b6-cb15aad0bb59"
      },
      "execution_count": null,
      "outputs": [
        {
          "output_type": "stream",
          "name": "stdout",
          "text": [
            "['1', '2', '3', '4', '5']\n",
            "['a', 'b', 'c', 'd', 'e', 'f']\n",
            "['1', '2', '3', '4', '5', 'a', 'b', 'c', 'd', 'e', 'f']\n"
          ]
        }
      ]
    },
    {
      "cell_type": "markdown",
      "source": [
        "## Things to try\n",
        "\n",
        "- read in all rows of data from all files and put them into one large list (don't forget to ignore the header row)\n",
        "- remove all rows whose RTs are less than 250 or greater than 900\n",
        "- remove all incorrect trials\n",
        "- remove all trial 0's\n",
        "- what is the mean RT for this task?\n",
        "- what is the mean ACCURACY for this task?\n",
        "- what is the mean RT for Red trials?\n",
        "- what is the mean RT for Green trials?\n",
        "- what is the mean RT for Blue trials?\n",
        "- what is the mean RT for Yellow trials?\n",
        "\n",
        "NOTE: when answering the mean RT questions over all participants, remember that you will have to get the mean for participant, store them, and then report the mean of those means. Similarly, when computing the mean ACURACY over all of the participants, you will need to report the average of each individual's accuracy.\n"
      ],
      "metadata": {
        "id": "xbxWX0rQYihd"
      }
    },
    {
      "cell_type": "markdown",
      "source": [
        "<br><br><br><br><br><br><br><br><br><br><br><br><br><br><br><br><br><br><hr>"
      ],
      "metadata": {
        "id": "6RiB9aEcSRHz"
      }
    },
    {
      "cell_type": "markdown",
      "source": [
        "### Exception Handling\n"
      ],
      "metadata": {
        "id": "00Ms6CqGe7VE"
      }
    },
    {
      "cell_type": "code",
      "source": [
        "file = 'travis.txt'\n",
        "\n",
        "if os.path.isfile(file):\n",
        "    with open(file, 'r') as infile:\n",
        "        text = infile.read()\n",
        "    print(f'there are {len(text)} chars in that file.')\n",
        "else:\n",
        "    print(f'FOOL!!! {file} does not exist!')"
      ],
      "metadata": {
        "id": "7sUbFBNnejuP"
      },
      "execution_count": null,
      "outputs": []
    },
    {
      "cell_type": "code",
      "source": [
        "file = 'travis.txt'\n",
        "\n",
        "try:\n",
        "    with open(file, 'r') as infile:\n",
        "        text = infile.read()\n",
        "    print(text)\n",
        "except FileNotFoundError:\n",
        "    print('that does not work...try another file')\n",
        "except IOError:\n",
        "    print('oops...having trouble reading this file')\n",
        "\n",
        "\n"
      ],
      "metadata": {
        "colab": {
          "base_uri": "https://localhost:8080/"
        },
        "id": "csIOkY3gE5i9",
        "outputId": "78453fee-cbb7-4bd2-be3a-ffbe1609cb7b"
      },
      "execution_count": null,
      "outputs": [
        {
          "output_type": "stream",
          "name": "stdout",
          "text": [
            "that does not work...try another file\n"
          ]
        }
      ]
    },
    {
      "cell_type": "code",
      "source": [
        "try:\n",
        "    with open(file, 'r') as infile:\n",
        "        text = infile.read()\n",
        "    print(text)\n",
        "except Exception as e:\n",
        "    print(e)"
      ],
      "metadata": {
        "colab": {
          "base_uri": "https://localhost:8080/"
        },
        "id": "DMsXYtt-GgQr",
        "outputId": "5ee1aaf7-2c81-4e75-dd3c-ff69b29e9768"
      },
      "execution_count": null,
      "outputs": [
        {
          "output_type": "stream",
          "name": "stdout",
          "text": [
            "[Errno 107] Transport endpoint is not connected: 'travis.txt'\n"
          ]
        }
      ]
    },
    {
      "cell_type": "markdown",
      "source": [
        "<br><br><br><br><br><br><br><br><br><br><br><br><br><br><br><br><br><br><hr>"
      ],
      "metadata": {
        "id": "bc4f5XYJR-Bt"
      }
    },
    {
      "cell_type": "markdown",
      "source": [
        "### Pandas (**pandas is not allowed on the final exam!**)"
      ],
      "metadata": {
        "id": "khUwzlD1g0_B"
      }
    },
    {
      "cell_type": "code",
      "source": [],
      "metadata": {
        "id": "xclUnb2dHroG"
      },
      "execution_count": null,
      "outputs": []
    },
    {
      "cell_type": "code",
      "source": [
        "# opening csv files with pandas (can open xlsx files too!)\n",
        "data = pd.read_csv(os.path.join(dr, 'data_file_2.csv'))\n",
        "\n",
        "data"
      ],
      "metadata": {
        "id": "jNI9NsgefCMy",
        "colab": {
          "base_uri": "https://localhost:8080/",
          "height": 990
        },
        "outputId": "3e58f273-c90e-48e4-898c-18a5ac04a7a0"
      },
      "execution_count": null,
      "outputs": [
        {
          "output_type": "execute_result",
          "data": {
            "text/plain": [
              "   CONDITION    TASKTYPE DIFFICULTY  TRIAL    RT STIMCOLOR   ACCURACY\n",
              "0      Cond2  choicetask       Easy      0   683    Yellow    CORRECT\n",
              "1      Cond2  choicetask       Easy      1   583     Green    CORRECT\n",
              "2      Cond2  choicetask       Easy      2   650    Yellow    CORRECT\n",
              "3      Cond2  choicetask       Easy      3   616     Green    CORRECT\n",
              "4      Cond2  choicetask       Easy      4   700     Green    CORRECT\n",
              "5      Cond2  choicetask       Easy      5   633       Red    CORRECT\n",
              "6      Cond2  choicetask       Easy      6   766      Blue    CORRECT\n",
              "7      Cond2  choicetask       Easy      7   716      Blue    CORRECT\n",
              "8      Cond2  choicetask       Easy      8   533      Blue    CORRECT\n",
              "9      Cond2  choicetask       Easy      9   583      Blue    CORRECT\n",
              "10     Cond2  choicetask       Easy     10   550    Yellow    CORRECT\n",
              "11     Cond2  choicetask       Easy     11   716      Blue    CORRECT\n",
              "12     Cond2  choicetask       Easy     12   700     Green    CORRECT\n",
              "13     Cond2  choicetask       Easy     13   566    Yellow    CORRECT\n",
              "14     Cond2  choicetask       Easy     14   566       Red    CORRECT\n",
              "15     Cond2  choicetask       Easy     15   466       Red    CORRECT\n",
              "16     Cond2  choicetask       Easy     16  1000     Green    CORRECT\n",
              "17     Cond2  choicetask       Easy     17   566     Green    CORRECT\n",
              "18     Cond2  choicetask       Easy     18   566    Yellow  INCORRECT\n",
              "19     Cond2  choicetask       Easy     19   883      Blue    CORRECT\n",
              "20     Cond2  choicetask       Easy     20   583       Red    CORRECT\n",
              "21     Cond2  choicetask       Easy     21   583     Green    CORRECT\n",
              "22     Cond2  choicetask       Easy     22   716     Green    CORRECT\n",
              "23     Cond2  choicetask       Easy     23   616       Red    CORRECT\n",
              "24     Cond2  choicetask       Easy     24   566       Red    CORRECT\n",
              "25     Cond2  choicetask       Easy     25   416    Yellow    CORRECT\n",
              "26     Cond2  choicetask       Easy     26   516       Red    CORRECT\n",
              "27     Cond2  choicetask       Easy     27   566       Red    CORRECT\n",
              "28     Cond2  choicetask       Easy     28   683     Green    CORRECT\n",
              "29     Cond2  choicetask       Easy     29   766    Yellow    CORRECT"
            ],
            "text/html": [
              "\n",
              "  <div id=\"df-c1278712-fa0d-4ca6-9ea9-efaaa71f9a98\" class=\"colab-df-container\">\n",
              "    <div>\n",
              "<style scoped>\n",
              "    .dataframe tbody tr th:only-of-type {\n",
              "        vertical-align: middle;\n",
              "    }\n",
              "\n",
              "    .dataframe tbody tr th {\n",
              "        vertical-align: top;\n",
              "    }\n",
              "\n",
              "    .dataframe thead th {\n",
              "        text-align: right;\n",
              "    }\n",
              "</style>\n",
              "<table border=\"1\" class=\"dataframe\">\n",
              "  <thead>\n",
              "    <tr style=\"text-align: right;\">\n",
              "      <th></th>\n",
              "      <th>CONDITION</th>\n",
              "      <th>TASKTYPE</th>\n",
              "      <th>DIFFICULTY</th>\n",
              "      <th>TRIAL</th>\n",
              "      <th>RT</th>\n",
              "      <th>STIMCOLOR</th>\n",
              "      <th>ACCURACY</th>\n",
              "    </tr>\n",
              "  </thead>\n",
              "  <tbody>\n",
              "    <tr>\n",
              "      <th>0</th>\n",
              "      <td>Cond2</td>\n",
              "      <td>choicetask</td>\n",
              "      <td>Easy</td>\n",
              "      <td>0</td>\n",
              "      <td>683</td>\n",
              "      <td>Yellow</td>\n",
              "      <td>CORRECT</td>\n",
              "    </tr>\n",
              "    <tr>\n",
              "      <th>1</th>\n",
              "      <td>Cond2</td>\n",
              "      <td>choicetask</td>\n",
              "      <td>Easy</td>\n",
              "      <td>1</td>\n",
              "      <td>583</td>\n",
              "      <td>Green</td>\n",
              "      <td>CORRECT</td>\n",
              "    </tr>\n",
              "    <tr>\n",
              "      <th>2</th>\n",
              "      <td>Cond2</td>\n",
              "      <td>choicetask</td>\n",
              "      <td>Easy</td>\n",
              "      <td>2</td>\n",
              "      <td>650</td>\n",
              "      <td>Yellow</td>\n",
              "      <td>CORRECT</td>\n",
              "    </tr>\n",
              "    <tr>\n",
              "      <th>3</th>\n",
              "      <td>Cond2</td>\n",
              "      <td>choicetask</td>\n",
              "      <td>Easy</td>\n",
              "      <td>3</td>\n",
              "      <td>616</td>\n",
              "      <td>Green</td>\n",
              "      <td>CORRECT</td>\n",
              "    </tr>\n",
              "    <tr>\n",
              "      <th>4</th>\n",
              "      <td>Cond2</td>\n",
              "      <td>choicetask</td>\n",
              "      <td>Easy</td>\n",
              "      <td>4</td>\n",
              "      <td>700</td>\n",
              "      <td>Green</td>\n",
              "      <td>CORRECT</td>\n",
              "    </tr>\n",
              "    <tr>\n",
              "      <th>5</th>\n",
              "      <td>Cond2</td>\n",
              "      <td>choicetask</td>\n",
              "      <td>Easy</td>\n",
              "      <td>5</td>\n",
              "      <td>633</td>\n",
              "      <td>Red</td>\n",
              "      <td>CORRECT</td>\n",
              "    </tr>\n",
              "    <tr>\n",
              "      <th>6</th>\n",
              "      <td>Cond2</td>\n",
              "      <td>choicetask</td>\n",
              "      <td>Easy</td>\n",
              "      <td>6</td>\n",
              "      <td>766</td>\n",
              "      <td>Blue</td>\n",
              "      <td>CORRECT</td>\n",
              "    </tr>\n",
              "    <tr>\n",
              "      <th>7</th>\n",
              "      <td>Cond2</td>\n",
              "      <td>choicetask</td>\n",
              "      <td>Easy</td>\n",
              "      <td>7</td>\n",
              "      <td>716</td>\n",
              "      <td>Blue</td>\n",
              "      <td>CORRECT</td>\n",
              "    </tr>\n",
              "    <tr>\n",
              "      <th>8</th>\n",
              "      <td>Cond2</td>\n",
              "      <td>choicetask</td>\n",
              "      <td>Easy</td>\n",
              "      <td>8</td>\n",
              "      <td>533</td>\n",
              "      <td>Blue</td>\n",
              "      <td>CORRECT</td>\n",
              "    </tr>\n",
              "    <tr>\n",
              "      <th>9</th>\n",
              "      <td>Cond2</td>\n",
              "      <td>choicetask</td>\n",
              "      <td>Easy</td>\n",
              "      <td>9</td>\n",
              "      <td>583</td>\n",
              "      <td>Blue</td>\n",
              "      <td>CORRECT</td>\n",
              "    </tr>\n",
              "    <tr>\n",
              "      <th>10</th>\n",
              "      <td>Cond2</td>\n",
              "      <td>choicetask</td>\n",
              "      <td>Easy</td>\n",
              "      <td>10</td>\n",
              "      <td>550</td>\n",
              "      <td>Yellow</td>\n",
              "      <td>CORRECT</td>\n",
              "    </tr>\n",
              "    <tr>\n",
              "      <th>11</th>\n",
              "      <td>Cond2</td>\n",
              "      <td>choicetask</td>\n",
              "      <td>Easy</td>\n",
              "      <td>11</td>\n",
              "      <td>716</td>\n",
              "      <td>Blue</td>\n",
              "      <td>CORRECT</td>\n",
              "    </tr>\n",
              "    <tr>\n",
              "      <th>12</th>\n",
              "      <td>Cond2</td>\n",
              "      <td>choicetask</td>\n",
              "      <td>Easy</td>\n",
              "      <td>12</td>\n",
              "      <td>700</td>\n",
              "      <td>Green</td>\n",
              "      <td>CORRECT</td>\n",
              "    </tr>\n",
              "    <tr>\n",
              "      <th>13</th>\n",
              "      <td>Cond2</td>\n",
              "      <td>choicetask</td>\n",
              "      <td>Easy</td>\n",
              "      <td>13</td>\n",
              "      <td>566</td>\n",
              "      <td>Yellow</td>\n",
              "      <td>CORRECT</td>\n",
              "    </tr>\n",
              "    <tr>\n",
              "      <th>14</th>\n",
              "      <td>Cond2</td>\n",
              "      <td>choicetask</td>\n",
              "      <td>Easy</td>\n",
              "      <td>14</td>\n",
              "      <td>566</td>\n",
              "      <td>Red</td>\n",
              "      <td>CORRECT</td>\n",
              "    </tr>\n",
              "    <tr>\n",
              "      <th>15</th>\n",
              "      <td>Cond2</td>\n",
              "      <td>choicetask</td>\n",
              "      <td>Easy</td>\n",
              "      <td>15</td>\n",
              "      <td>466</td>\n",
              "      <td>Red</td>\n",
              "      <td>CORRECT</td>\n",
              "    </tr>\n",
              "    <tr>\n",
              "      <th>16</th>\n",
              "      <td>Cond2</td>\n",
              "      <td>choicetask</td>\n",
              "      <td>Easy</td>\n",
              "      <td>16</td>\n",
              "      <td>1000</td>\n",
              "      <td>Green</td>\n",
              "      <td>CORRECT</td>\n",
              "    </tr>\n",
              "    <tr>\n",
              "      <th>17</th>\n",
              "      <td>Cond2</td>\n",
              "      <td>choicetask</td>\n",
              "      <td>Easy</td>\n",
              "      <td>17</td>\n",
              "      <td>566</td>\n",
              "      <td>Green</td>\n",
              "      <td>CORRECT</td>\n",
              "    </tr>\n",
              "    <tr>\n",
              "      <th>18</th>\n",
              "      <td>Cond2</td>\n",
              "      <td>choicetask</td>\n",
              "      <td>Easy</td>\n",
              "      <td>18</td>\n",
              "      <td>566</td>\n",
              "      <td>Yellow</td>\n",
              "      <td>INCORRECT</td>\n",
              "    </tr>\n",
              "    <tr>\n",
              "      <th>19</th>\n",
              "      <td>Cond2</td>\n",
              "      <td>choicetask</td>\n",
              "      <td>Easy</td>\n",
              "      <td>19</td>\n",
              "      <td>883</td>\n",
              "      <td>Blue</td>\n",
              "      <td>CORRECT</td>\n",
              "    </tr>\n",
              "    <tr>\n",
              "      <th>20</th>\n",
              "      <td>Cond2</td>\n",
              "      <td>choicetask</td>\n",
              "      <td>Easy</td>\n",
              "      <td>20</td>\n",
              "      <td>583</td>\n",
              "      <td>Red</td>\n",
              "      <td>CORRECT</td>\n",
              "    </tr>\n",
              "    <tr>\n",
              "      <th>21</th>\n",
              "      <td>Cond2</td>\n",
              "      <td>choicetask</td>\n",
              "      <td>Easy</td>\n",
              "      <td>21</td>\n",
              "      <td>583</td>\n",
              "      <td>Green</td>\n",
              "      <td>CORRECT</td>\n",
              "    </tr>\n",
              "    <tr>\n",
              "      <th>22</th>\n",
              "      <td>Cond2</td>\n",
              "      <td>choicetask</td>\n",
              "      <td>Easy</td>\n",
              "      <td>22</td>\n",
              "      <td>716</td>\n",
              "      <td>Green</td>\n",
              "      <td>CORRECT</td>\n",
              "    </tr>\n",
              "    <tr>\n",
              "      <th>23</th>\n",
              "      <td>Cond2</td>\n",
              "      <td>choicetask</td>\n",
              "      <td>Easy</td>\n",
              "      <td>23</td>\n",
              "      <td>616</td>\n",
              "      <td>Red</td>\n",
              "      <td>CORRECT</td>\n",
              "    </tr>\n",
              "    <tr>\n",
              "      <th>24</th>\n",
              "      <td>Cond2</td>\n",
              "      <td>choicetask</td>\n",
              "      <td>Easy</td>\n",
              "      <td>24</td>\n",
              "      <td>566</td>\n",
              "      <td>Red</td>\n",
              "      <td>CORRECT</td>\n",
              "    </tr>\n",
              "    <tr>\n",
              "      <th>25</th>\n",
              "      <td>Cond2</td>\n",
              "      <td>choicetask</td>\n",
              "      <td>Easy</td>\n",
              "      <td>25</td>\n",
              "      <td>416</td>\n",
              "      <td>Yellow</td>\n",
              "      <td>CORRECT</td>\n",
              "    </tr>\n",
              "    <tr>\n",
              "      <th>26</th>\n",
              "      <td>Cond2</td>\n",
              "      <td>choicetask</td>\n",
              "      <td>Easy</td>\n",
              "      <td>26</td>\n",
              "      <td>516</td>\n",
              "      <td>Red</td>\n",
              "      <td>CORRECT</td>\n",
              "    </tr>\n",
              "    <tr>\n",
              "      <th>27</th>\n",
              "      <td>Cond2</td>\n",
              "      <td>choicetask</td>\n",
              "      <td>Easy</td>\n",
              "      <td>27</td>\n",
              "      <td>566</td>\n",
              "      <td>Red</td>\n",
              "      <td>CORRECT</td>\n",
              "    </tr>\n",
              "    <tr>\n",
              "      <th>28</th>\n",
              "      <td>Cond2</td>\n",
              "      <td>choicetask</td>\n",
              "      <td>Easy</td>\n",
              "      <td>28</td>\n",
              "      <td>683</td>\n",
              "      <td>Green</td>\n",
              "      <td>CORRECT</td>\n",
              "    </tr>\n",
              "    <tr>\n",
              "      <th>29</th>\n",
              "      <td>Cond2</td>\n",
              "      <td>choicetask</td>\n",
              "      <td>Easy</td>\n",
              "      <td>29</td>\n",
              "      <td>766</td>\n",
              "      <td>Yellow</td>\n",
              "      <td>CORRECT</td>\n",
              "    </tr>\n",
              "  </tbody>\n",
              "</table>\n",
              "</div>\n",
              "    <div class=\"colab-df-buttons\">\n",
              "\n",
              "  <div class=\"colab-df-container\">\n",
              "    <button class=\"colab-df-convert\" onclick=\"convertToInteractive('df-c1278712-fa0d-4ca6-9ea9-efaaa71f9a98')\"\n",
              "            title=\"Convert this dataframe to an interactive table.\"\n",
              "            style=\"display:none;\">\n",
              "\n",
              "  <svg xmlns=\"http://www.w3.org/2000/svg\" height=\"24px\" viewBox=\"0 -960 960 960\">\n",
              "    <path d=\"M120-120v-720h720v720H120Zm60-500h600v-160H180v160Zm220 220h160v-160H400v160Zm0 220h160v-160H400v160ZM180-400h160v-160H180v160Zm440 0h160v-160H620v160ZM180-180h160v-160H180v160Zm440 0h160v-160H620v160Z\"/>\n",
              "  </svg>\n",
              "    </button>\n",
              "\n",
              "  <style>\n",
              "    .colab-df-container {\n",
              "      display:flex;\n",
              "      gap: 12px;\n",
              "    }\n",
              "\n",
              "    .colab-df-convert {\n",
              "      background-color: #E8F0FE;\n",
              "      border: none;\n",
              "      border-radius: 50%;\n",
              "      cursor: pointer;\n",
              "      display: none;\n",
              "      fill: #1967D2;\n",
              "      height: 32px;\n",
              "      padding: 0 0 0 0;\n",
              "      width: 32px;\n",
              "    }\n",
              "\n",
              "    .colab-df-convert:hover {\n",
              "      background-color: #E2EBFA;\n",
              "      box-shadow: 0px 1px 2px rgba(60, 64, 67, 0.3), 0px 1px 3px 1px rgba(60, 64, 67, 0.15);\n",
              "      fill: #174EA6;\n",
              "    }\n",
              "\n",
              "    .colab-df-buttons div {\n",
              "      margin-bottom: 4px;\n",
              "    }\n",
              "\n",
              "    [theme=dark] .colab-df-convert {\n",
              "      background-color: #3B4455;\n",
              "      fill: #D2E3FC;\n",
              "    }\n",
              "\n",
              "    [theme=dark] .colab-df-convert:hover {\n",
              "      background-color: #434B5C;\n",
              "      box-shadow: 0px 1px 3px 1px rgba(0, 0, 0, 0.15);\n",
              "      filter: drop-shadow(0px 1px 2px rgba(0, 0, 0, 0.3));\n",
              "      fill: #FFFFFF;\n",
              "    }\n",
              "  </style>\n",
              "\n",
              "    <script>\n",
              "      const buttonEl =\n",
              "        document.querySelector('#df-c1278712-fa0d-4ca6-9ea9-efaaa71f9a98 button.colab-df-convert');\n",
              "      buttonEl.style.display =\n",
              "        google.colab.kernel.accessAllowed ? 'block' : 'none';\n",
              "\n",
              "      async function convertToInteractive(key) {\n",
              "        const element = document.querySelector('#df-c1278712-fa0d-4ca6-9ea9-efaaa71f9a98');\n",
              "        const dataTable =\n",
              "          await google.colab.kernel.invokeFunction('convertToInteractive',\n",
              "                                                    [key], {});\n",
              "        if (!dataTable) return;\n",
              "\n",
              "        const docLinkHtml = 'Like what you see? Visit the ' +\n",
              "          '<a target=\"_blank\" href=https://colab.research.google.com/notebooks/data_table.ipynb>data table notebook</a>'\n",
              "          + ' to learn more about interactive tables.';\n",
              "        element.innerHTML = '';\n",
              "        dataTable['output_type'] = 'display_data';\n",
              "        await google.colab.output.renderOutput(dataTable, element);\n",
              "        const docLink = document.createElement('div');\n",
              "        docLink.innerHTML = docLinkHtml;\n",
              "        element.appendChild(docLink);\n",
              "      }\n",
              "    </script>\n",
              "  </div>\n",
              "\n",
              "\n",
              "<div id=\"df-c4ff456d-a280-46eb-87fb-8c4132336c1c\">\n",
              "  <button class=\"colab-df-quickchart\" onclick=\"quickchart('df-c4ff456d-a280-46eb-87fb-8c4132336c1c')\"\n",
              "            title=\"Suggest charts\"\n",
              "            style=\"display:none;\">\n",
              "\n",
              "<svg xmlns=\"http://www.w3.org/2000/svg\" height=\"24px\"viewBox=\"0 0 24 24\"\n",
              "     width=\"24px\">\n",
              "    <g>\n",
              "        <path d=\"M19 3H5c-1.1 0-2 .9-2 2v14c0 1.1.9 2 2 2h14c1.1 0 2-.9 2-2V5c0-1.1-.9-2-2-2zM9 17H7v-7h2v7zm4 0h-2V7h2v10zm4 0h-2v-4h2v4z\"/>\n",
              "    </g>\n",
              "</svg>\n",
              "  </button>\n",
              "\n",
              "<style>\n",
              "  .colab-df-quickchart {\n",
              "      --bg-color: #E8F0FE;\n",
              "      --fill-color: #1967D2;\n",
              "      --hover-bg-color: #E2EBFA;\n",
              "      --hover-fill-color: #174EA6;\n",
              "      --disabled-fill-color: #AAA;\n",
              "      --disabled-bg-color: #DDD;\n",
              "  }\n",
              "\n",
              "  [theme=dark] .colab-df-quickchart {\n",
              "      --bg-color: #3B4455;\n",
              "      --fill-color: #D2E3FC;\n",
              "      --hover-bg-color: #434B5C;\n",
              "      --hover-fill-color: #FFFFFF;\n",
              "      --disabled-bg-color: #3B4455;\n",
              "      --disabled-fill-color: #666;\n",
              "  }\n",
              "\n",
              "  .colab-df-quickchart {\n",
              "    background-color: var(--bg-color);\n",
              "    border: none;\n",
              "    border-radius: 50%;\n",
              "    cursor: pointer;\n",
              "    display: none;\n",
              "    fill: var(--fill-color);\n",
              "    height: 32px;\n",
              "    padding: 0;\n",
              "    width: 32px;\n",
              "  }\n",
              "\n",
              "  .colab-df-quickchart:hover {\n",
              "    background-color: var(--hover-bg-color);\n",
              "    box-shadow: 0 1px 2px rgba(60, 64, 67, 0.3), 0 1px 3px 1px rgba(60, 64, 67, 0.15);\n",
              "    fill: var(--button-hover-fill-color);\n",
              "  }\n",
              "\n",
              "  .colab-df-quickchart-complete:disabled,\n",
              "  .colab-df-quickchart-complete:disabled:hover {\n",
              "    background-color: var(--disabled-bg-color);\n",
              "    fill: var(--disabled-fill-color);\n",
              "    box-shadow: none;\n",
              "  }\n",
              "\n",
              "  .colab-df-spinner {\n",
              "    border: 2px solid var(--fill-color);\n",
              "    border-color: transparent;\n",
              "    border-bottom-color: var(--fill-color);\n",
              "    animation:\n",
              "      spin 1s steps(1) infinite;\n",
              "  }\n",
              "\n",
              "  @keyframes spin {\n",
              "    0% {\n",
              "      border-color: transparent;\n",
              "      border-bottom-color: var(--fill-color);\n",
              "      border-left-color: var(--fill-color);\n",
              "    }\n",
              "    20% {\n",
              "      border-color: transparent;\n",
              "      border-left-color: var(--fill-color);\n",
              "      border-top-color: var(--fill-color);\n",
              "    }\n",
              "    30% {\n",
              "      border-color: transparent;\n",
              "      border-left-color: var(--fill-color);\n",
              "      border-top-color: var(--fill-color);\n",
              "      border-right-color: var(--fill-color);\n",
              "    }\n",
              "    40% {\n",
              "      border-color: transparent;\n",
              "      border-right-color: var(--fill-color);\n",
              "      border-top-color: var(--fill-color);\n",
              "    }\n",
              "    60% {\n",
              "      border-color: transparent;\n",
              "      border-right-color: var(--fill-color);\n",
              "    }\n",
              "    80% {\n",
              "      border-color: transparent;\n",
              "      border-right-color: var(--fill-color);\n",
              "      border-bottom-color: var(--fill-color);\n",
              "    }\n",
              "    90% {\n",
              "      border-color: transparent;\n",
              "      border-bottom-color: var(--fill-color);\n",
              "    }\n",
              "  }\n",
              "</style>\n",
              "\n",
              "  <script>\n",
              "    async function quickchart(key) {\n",
              "      const quickchartButtonEl =\n",
              "        document.querySelector('#' + key + ' button');\n",
              "      quickchartButtonEl.disabled = true;  // To prevent multiple clicks.\n",
              "      quickchartButtonEl.classList.add('colab-df-spinner');\n",
              "      try {\n",
              "        const charts = await google.colab.kernel.invokeFunction(\n",
              "            'suggestCharts', [key], {});\n",
              "      } catch (error) {\n",
              "        console.error('Error during call to suggestCharts:', error);\n",
              "      }\n",
              "      quickchartButtonEl.classList.remove('colab-df-spinner');\n",
              "      quickchartButtonEl.classList.add('colab-df-quickchart-complete');\n",
              "    }\n",
              "    (() => {\n",
              "      let quickchartButtonEl =\n",
              "        document.querySelector('#df-c4ff456d-a280-46eb-87fb-8c4132336c1c button');\n",
              "      quickchartButtonEl.style.display =\n",
              "        google.colab.kernel.accessAllowed ? 'block' : 'none';\n",
              "    })();\n",
              "  </script>\n",
              "</div>\n",
              "    </div>\n",
              "  </div>\n"
            ]
          },
          "metadata": {},
          "execution_count": 7
        }
      ]
    },
    {
      "cell_type": "code",
      "source": [
        "# access RT column\n",
        "data['RT']"
      ],
      "metadata": {
        "id": "smpdgzmPfY-D",
        "colab": {
          "base_uri": "https://localhost:8080/"
        },
        "outputId": "2fab4656-0961-4fd0-c7ad-6e9723faec03"
      },
      "execution_count": null,
      "outputs": [
        {
          "output_type": "execute_result",
          "data": {
            "text/plain": [
              "0      683\n",
              "1      583\n",
              "2      650\n",
              "3      616\n",
              "4      700\n",
              "5      633\n",
              "6      766\n",
              "7      716\n",
              "8      533\n",
              "9      583\n",
              "10     550\n",
              "11     716\n",
              "12     700\n",
              "13     566\n",
              "14     566\n",
              "15     466\n",
              "16    1000\n",
              "17     566\n",
              "18     566\n",
              "19     883\n",
              "20     583\n",
              "21     583\n",
              "22     716\n",
              "23     616\n",
              "24     566\n",
              "25     416\n",
              "26     516\n",
              "27     566\n",
              "28     683\n",
              "29     766\n",
              "Name: RT, dtype: int64"
            ]
          },
          "metadata": {},
          "execution_count": 8
        }
      ]
    },
    {
      "cell_type": "code",
      "source": [
        "# get mean of RT column\n",
        "data['RT'].mean()"
      ],
      "metadata": {
        "id": "ww6aW80Lfgqo",
        "colab": {
          "base_uri": "https://localhost:8080/"
        },
        "outputId": "903ccb7d-88ea-41aa-a322-f9ebfc7fa02e"
      },
      "execution_count": null,
      "outputs": [
        {
          "output_type": "execute_result",
          "data": {
            "text/plain": [
              "635.1"
            ]
          },
          "metadata": {},
          "execution_count": 9
        }
      ]
    },
    {
      "cell_type": "code",
      "source": [
        "# get mean of RT column after filtering out any non correct trials\n",
        "data.query('ACCURACY==\"CORRECT\"')['RT'].mean()"
      ],
      "metadata": {
        "id": "pYfoXnO9gksd",
        "colab": {
          "base_uri": "https://localhost:8080/"
        },
        "outputId": "779a76de-25e2-41fa-fbdf-d6dd686d3590"
      },
      "execution_count": null,
      "outputs": [
        {
          "output_type": "execute_result",
          "data": {
            "text/plain": [
              "637.4827586206897"
            ]
          },
          "metadata": {},
          "execution_count": 10
        }
      ]
    },
    {
      "cell_type": "code",
      "source": [
        "# plot a histogram of RTs\n",
        "data.query('ACCURACY==\"CORRECT\"')['RT'].hist()"
      ],
      "metadata": {
        "id": "T5HOo-1WflPw",
        "colab": {
          "base_uri": "https://localhost:8080/",
          "height": 447
        },
        "outputId": "33b25b98-c4bb-4d69-baf6-ebd4d9bfa1a1"
      },
      "execution_count": null,
      "outputs": [
        {
          "output_type": "execute_result",
          "data": {
            "text/plain": [
              "<Axes: >"
            ]
          },
          "metadata": {},
          "execution_count": 11
        },
        {
          "output_type": "display_data",
          "data": {
            "text/plain": [
              "<Figure size 640x480 with 1 Axes>"
            ],
            "image/png": "[encoded data removed]"
          },
          "metadata": {}
        }
      ]
    }
  ]
}