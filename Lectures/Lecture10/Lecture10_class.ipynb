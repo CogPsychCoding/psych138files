{
  "nbformat": 4,
  "nbformat_minor": 0,
  "metadata": {
    "colab": {
      "provenance": [],
      "authorship_tag": "ABX9TyNmpVyuWB5TwO+vyPtsRkXd",
      "include_colab_link": true
    },
    "kernelspec": {
      "name": "python3",
      "display_name": "Python 3"
    },
    "language_info": {
      "name": "python"
    }
  },
  "cells": [
    {
      "cell_type": "markdown",
      "metadata": {
        "id": "view-in-github",
        "colab_type": "text"
      },
      "source": [
        "<a href=\"https://colab.research.google.com/github/CogPsychCoding/psych138files/blob/main/Lectures/Lecture10/Lecture10_class.ipynb\" target=\"_parent\"><img src=\"https://colab.research.google.com/assets/colab-badge.svg\" alt=\"Open In Colab\"/></a>"
      ]
    },
    {
      "cell_type": "markdown",
      "source": [
        "# Setup"
      ],
      "metadata": {
        "id": "2bQ-aq5vtjRa"
      }
    },
    {
      "cell_type": "code",
      "execution_count": null,
      "metadata": {
        "id": "YXYQmBeWtLTa"
      },
      "outputs": [],
      "source": [
        "import random"
      ]
    },
    {
      "cell_type": "markdown",
      "source": [
        "# Lecture 10\n",
        "\n",
        "- Functions\n",
        "    - encapsulating and naming code\n",
        "- why\n",
        "    - benefits of modular code\n",
        "    - benefits of flexible code (parameters)\n",
        "- definition\n",
        "- function object reference vs calling a function\n",
        "    - just a name for some code\n",
        "- parameters\n",
        "- type hints\n",
        "- defaults\n",
        "    - makes parameter optional\n",
        "    - with mixed parameters, those with no default must come first\n",
        "- returns\n",
        "    - default\n",
        "        `return None`\n",
        "        `return`\n",
        "        [nothing]\n",
        "    - fruitful vs non-fruitful\n",
        "    - updaters\n",
        "\n",
        "- function variables are local\n",
        "\n",
        "- scope\n",
        "- `global` keyword\n",
        "    - only needed for updates\n",
        "    - good practice anyway for later reading\n",
        "- mutable vs. non-mutable parameters\n",
        "\n"
      ],
      "metadata": {
        "id": "_DpeTmxqtmXn"
      }
    },
    {
      "cell_type": "code",
      "source": [
        "def my_program():\n",
        "    # part 1\n",
        "    ...\n",
        "    ...\n",
        "    ...\n",
        "\n",
        "    # part 2\n",
        "\n",
        "    ...\n",
        "    ...\n",
        "    ...\n",
        "\n",
        "    ...\n",
        "    ...\n",
        "    ...\n",
        "\n",
        "def my_other_program()\n",
        "    # part 1"
      ],
      "metadata": {
        "id": "kIfh7qXzK6bF"
      },
      "execution_count": null,
      "outputs": []
    },
    {
      "cell_type": "code",
      "source": [
        "def part_a():\n",
        "    ...\n",
        "\n",
        "def part_b():\n",
        "    ...\n",
        "\n",
        "def my_program():\n",
        "    # part a\n",
        "    # part b\n",
        "\n",
        "def my_program():\n",
        "    part_a()\n",
        "    part_b()\n",
        "\n",
        "def my_other_program():\n",
        "    part_a()"
      ],
      "metadata": {
        "id": "RPBEFIMGW5kl"
      },
      "execution_count": null,
      "outputs": []
    },
    {
      "cell_type": "code",
      "source": [
        "def foo():\n",
        "    print('you ran the func foo')\n",
        "\n",
        "foo()"
      ],
      "metadata": {
        "colab": {
          "base_uri": "https://localhost:8080/"
        },
        "id": "tsYvwut7XoC9",
        "outputId": "008636fb-d151-460a-b002-2d804e49f11a"
      },
      "execution_count": null,
      "outputs": [
        {
          "output_type": "stream",
          "name": "stdout",
          "text": [
            "you ran the func foo\n"
          ]
        }
      ]
    },
    {
      "cell_type": "code",
      "source": [
        "def title():\n",
        "    print('---------------')\n",
        "    print('PYTHON PSYCH138')\n",
        "    print('---------------')\n",
        "\n",
        "title()\n"
      ],
      "metadata": {
        "colab": {
          "base_uri": "https://localhost:8080/"
        },
        "id": "iGnUECkmYSTj",
        "outputId": "4fbe6733-644f-4b5e-b495-2ac195804ea0"
      },
      "execution_count": null,
      "outputs": [
        {
          "output_type": "stream",
          "name": "stdout",
          "text": [
            "---------------\n",
            "PYTHON PSYCH138\n",
            "---------------\n"
          ]
        }
      ]
    },
    {
      "cell_type": "code",
      "source": [
        "def title(text: str):\n",
        "    dashes = '-' * len(text)\n",
        "    print(dashes)\n",
        "    print(text)\n",
        "    print(dashes)\n",
        "\n",
        "title('HELLO THERE')\n",
        "title('BYE!!!!!!!')\n",
        "title(4)\n"
      ],
      "metadata": {
        "colab": {
          "base_uri": "https://localhost:8080/"
        },
        "id": "b1vGmi6NYu3E",
        "outputId": "1b379507-e235-437f-dbef-1d9a6284ab32"
      },
      "execution_count": null,
      "outputs": [
        {
          "output_type": "stream",
          "name": "stdout",
          "text": [
            "-----------\n",
            "HELLO THERE\n",
            "-----------\n",
            "----------\n",
            "BYE!!!!!!!\n",
            "----------\n"
          ]
        }
      ]
    },
    {
      "cell_type": "code",
      "source": [
        "print('hello', 'there', sep=',')"
      ],
      "metadata": {
        "colab": {
          "base_uri": "https://localhost:8080/"
        },
        "id": "CgybBDBzZmWC",
        "outputId": "95957c3e-763c-4a3d-d713-2ff36ac2ed8a"
      },
      "execution_count": null,
      "outputs": [
        {
          "output_type": "stream",
          "name": "stdout",
          "text": [
            "hello,there\n"
          ]
        }
      ]
    },
    {
      "cell_type": "code",
      "source": [
        "def double(number):\n",
        "    ...\n",
        "\n",
        "def double(number: int):\n",
        "    ...\n",
        "\n",
        "def double(number: int)->int:\n",
        "    ..."
      ],
      "metadata": {
        "id": "um32vuxzcdU4"
      },
      "execution_count": null,
      "outputs": []
    },
    {
      "cell_type": "code",
      "source": [
        "def double(number: float)->float:\n",
        "    return number * 2\n",
        "    # return None\n",
        "    # return\n",
        "\n",
        "double()\n"
      ],
      "metadata": {
        "colab": {
          "base_uri": "https://localhost:8080/",
          "height": 212
        },
        "id": "RtQYpotKZ72L",
        "outputId": "110bd106-7985-4453-c7b8-ef9cbe87b976"
      },
      "execution_count": null,
      "outputs": [
        {
          "output_type": "error",
          "ename": "TypeError",
          "evalue": "ignored",
          "traceback": [
            "\u001b[0;31m---------------------------------------------------------------------------\u001b[0m",
            "\u001b[0;31mTypeError\u001b[0m                                 Traceback (most recent call last)",
            "\u001b[0;32m<ipython-input-30-041d078cd91c>\u001b[0m in \u001b[0;36m<cell line: 6>\u001b[0;34m()\u001b[0m\n\u001b[1;32m      4\u001b[0m     \u001b[0;31m# return\u001b[0m\u001b[0;34m\u001b[0m\u001b[0;34m\u001b[0m\u001b[0m\n\u001b[1;32m      5\u001b[0m \u001b[0;34m\u001b[0m\u001b[0m\n\u001b[0;32m----> 6\u001b[0;31m \u001b[0mdouble\u001b[0m\u001b[0;34m(\u001b[0m\u001b[0;34m)\u001b[0m\u001b[0;34m\u001b[0m\u001b[0;34m\u001b[0m\u001b[0m\n\u001b[0m",
            "\u001b[0;31mTypeError\u001b[0m: double() missing 1 required positional argument: 'number'"
          ]
        }
      ]
    },
    {
      "cell_type": "code",
      "source": [
        "def multiply(a: float, b: float)->float:\n",
        "    #return a * b\n",
        "    print(a * b)\n",
        "\n",
        "result = multiply(4, 8782)\n",
        "# print(f'result = {result}')\n",
        "print(f'{result=}')"
      ],
      "metadata": {
        "colab": {
          "base_uri": "https://localhost:8080/"
        },
        "id": "cNmvwjE-c-0H",
        "outputId": "f30c9c9d-0cde-4f3a-cb12-27107932a8ed"
      },
      "execution_count": null,
      "outputs": [
        {
          "output_type": "stream",
          "name": "stdout",
          "text": [
            "35128\n",
            "result=None\n"
          ]
        }
      ]
    },
    {
      "cell_type": "code",
      "source": [
        "def multiply(a:float, b:float=0, c:float=10)->float:\n",
        "    return a * b + c\n",
        "\n",
        "print(multiply(23, 33.23))\n",
        "print(multiply(23))\n"
      ],
      "metadata": {
        "colab": {
          "base_uri": "https://localhost:8080/"
        },
        "id": "Wskcx56efPOa",
        "outputId": "754c6318-f236-4209-ebd1-cd78335baf10"
      },
      "execution_count": null,
      "outputs": [
        {
          "output_type": "stream",
          "name": "stdout",
          "text": [
            "774.29\n",
            "10\n"
          ]
        }
      ]
    },
    {
      "cell_type": "code",
      "source": [
        "def multiply(a: float, b: float)->float:\n",
        "    return a * b\n",
        "\n",
        "result = multiply(4, 8782)\n",
        "print(f'{result=}')"
      ],
      "metadata": {
        "colab": {
          "base_uri": "https://localhost:8080/"
        },
        "id": "8NeFsDeEfDEw",
        "outputId": "f37ef875-6e06-426e-d917-e093c3349f1b"
      },
      "execution_count": null,
      "outputs": [
        {
          "output_type": "stream",
          "name": "stdout",
          "text": [
            "result=35128\n"
          ]
        }
      ]
    },
    {
      "cell_type": "code",
      "source": [
        "# fruitful function\n",
        "a = [2,3,4,5,2,1,8,9,7,4]\n",
        "\n",
        "def double_values(values: list)->list:\n",
        "    output = []\n",
        "    for number in values:\n",
        "        output.append(number * 2)\n",
        "    return output\n",
        "\n",
        "doubled = double_values(a)\n",
        "print(doubled)"
      ],
      "metadata": {
        "colab": {
          "base_uri": "https://localhost:8080/"
        },
        "id": "FQ_8OiR5gocy",
        "outputId": "c257ec1e-304d-4538-b9d5-719ec7e0cd3a"
      },
      "execution_count": null,
      "outputs": [
        {
          "output_type": "stream",
          "name": "stdout",
          "text": [
            "[4, 6, 8, 10, 4, 2, 16, 18, 14, 8]\n"
          ]
        }
      ]
    },
    {
      "cell_type": "code",
      "source": [
        "# fruitful function\n",
        "\n",
        "# NON PYTHONIC, DONT DO THIS, USE ENUMERATE INSTEAD\n",
        "\n",
        "a = [2,3,4,5,2,1,8,9,7,4]\n",
        "\n",
        "def double_values(values: list)->list:\n",
        "    output = values.copy()\n",
        "    for i in range(len(output)):\n",
        "        output[i] = output[i] * 2\n",
        "    return output\n",
        "\n",
        "doubled = double_values(a)\n",
        "print(doubled)"
      ],
      "metadata": {
        "id": "8sq7nhMmhbQj"
      },
      "execution_count": null,
      "outputs": []
    },
    {
      "cell_type": "code",
      "source": [
        "# ^^^^ Exercise: Write the function above using enumerate instead of range(len(output)).\n",
        "\n",
        "# vvvv           You can also think of it as re-writing the function below but make it return a list rather than updating the input list"
      ],
      "metadata": {
        "id": "ZULAKTYkjERg"
      },
      "execution_count": null,
      "outputs": []
    },
    {
      "cell_type": "code",
      "source": [
        "# updater function\n",
        "# BE CAREFUL WITH THESE!\n",
        "a = [2,3,4,5,2,1,8,9,7,4]\n",
        "\n",
        "def double_values(values: list)->None:\n",
        "    for pos, number in enumerate(values):\n",
        "        values[pos] = number * 2\n",
        "\n",
        "print(f'{a=}')\n",
        "double_values(a)\n",
        "print(f'{a=}')"
      ],
      "metadata": {
        "colab": {
          "base_uri": "https://localhost:8080/"
        },
        "id": "TnaNc9rMh9lk",
        "outputId": "9f9a1091-22b4-4220-f669-02c42efaa528"
      },
      "execution_count": null,
      "outputs": [
        {
          "output_type": "stream",
          "name": "stdout",
          "text": [
            "a=[2, 3, 4, 5, 2, 1, 8, 9, 7, 4]\n",
            "a=[4, 6, 8, 10, 4, 2, 16, 18, 14, 8]\n"
          ]
        }
      ]
    },
    {
      "cell_type": "code",
      "source": [
        "h = 33\n",
        "\n",
        "def tripple(a:float)->float:\n",
        "    b = a * 3\n",
        "    return b\n",
        "\n",
        "j = 88\n",
        "\n",
        "result = tripple(33)\n",
        "print(result)\n",
        "\n",
        "print(j, h)\n",
        "\n",
        "print(b)  # b was local to tripple(), it doesn't exist out here in global scope"
      ],
      "metadata": {
        "colab": {
          "base_uri": "https://localhost:8080/",
          "height": 246
        },
        "id": "FAJJOvp_jk-C",
        "outputId": "66f3d175-5482-4bca-e738-093e97cc4c22"
      },
      "execution_count": null,
      "outputs": [
        {
          "output_type": "stream",
          "name": "stdout",
          "text": [
            "99\n",
            "88 33\n"
          ]
        },
        {
          "output_type": "error",
          "ename": "NameError",
          "evalue": "ignored",
          "traceback": [
            "\u001b[0;31m---------------------------------------------------------------------------\u001b[0m",
            "\u001b[0;31mNameError\u001b[0m                                 Traceback (most recent call last)",
            "\u001b[0;32m<ipython-input-43-3ca21b1aa495>\u001b[0m in \u001b[0;36m<cell line: 14>\u001b[0;34m()\u001b[0m\n\u001b[1;32m     12\u001b[0m \u001b[0mprint\u001b[0m\u001b[0;34m(\u001b[0m\u001b[0mj\u001b[0m\u001b[0;34m,\u001b[0m \u001b[0mh\u001b[0m\u001b[0;34m)\u001b[0m\u001b[0;34m\u001b[0m\u001b[0;34m\u001b[0m\u001b[0m\n\u001b[1;32m     13\u001b[0m \u001b[0;34m\u001b[0m\u001b[0m\n\u001b[0;32m---> 14\u001b[0;31m \u001b[0mprint\u001b[0m\u001b[0;34m(\u001b[0m\u001b[0mb\u001b[0m\u001b[0;34m)\u001b[0m\u001b[0;34m\u001b[0m\u001b[0;34m\u001b[0m\u001b[0m\n\u001b[0m",
            "\u001b[0;31mNameError\u001b[0m: name 'b' is not defined"
          ]
        }
      ]
    },
    {
      "cell_type": "code",
      "source": [
        "\n",
        "def tripple(a:float)->float:\n",
        "    b = a * 3\n",
        "    return b\n",
        "\n",
        "a = tripple(3)\n",
        "b = 100\n",
        "print(b * 2)"
      ],
      "metadata": {
        "colab": {
          "base_uri": "https://localhost:8080/"
        },
        "id": "KjAVGOdhkehW",
        "outputId": "c962e5c5-fe16-44f0-ab05-929969601114"
      },
      "execution_count": null,
      "outputs": [
        {
          "output_type": "stream",
          "name": "stdout",
          "text": [
            "200\n"
          ]
        }
      ]
    },
    {
      "cell_type": "code",
      "source": [
        "\n",
        "age = 53  # global\n",
        "\n",
        "def yolo():\n",
        "    print(age) # read global variables, fine  <-- error is actually here bc Python sees the assignment below and gets confused\n",
        "    age = 44  # wrie global variables, not fine\n",
        "\n",
        "yolo()"
      ],
      "metadata": {
        "colab": {
          "base_uri": "https://localhost:8080/",
          "height": 333
        },
        "id": "fUzAK7_-k11h",
        "outputId": "d5b74226-e83f-46d9-9ca9-e901b2a68a7b"
      },
      "execution_count": null,
      "outputs": [
        {
          "output_type": "error",
          "ename": "UnboundLocalError",
          "evalue": "ignored",
          "traceback": [
            "\u001b[0;31m---------------------------------------------------------------------------\u001b[0m",
            "\u001b[0;31mUnboundLocalError\u001b[0m                         Traceback (most recent call last)",
            "\u001b[0;32m<ipython-input-55-65a63c6db6ff>\u001b[0m in \u001b[0;36m<cell line: 7>\u001b[0;34m()\u001b[0m\n\u001b[1;32m      5\u001b[0m     \u001b[0mage\u001b[0m \u001b[0;34m=\u001b[0m \u001b[0;36m44\u001b[0m  \u001b[0;31m# wrie global variables, not fine\u001b[0m\u001b[0;34m\u001b[0m\u001b[0;34m\u001b[0m\u001b[0m\n\u001b[1;32m      6\u001b[0m \u001b[0;34m\u001b[0m\u001b[0m\n\u001b[0;32m----> 7\u001b[0;31m \u001b[0myolo\u001b[0m\u001b[0;34m(\u001b[0m\u001b[0;34m)\u001b[0m\u001b[0;34m\u001b[0m\u001b[0;34m\u001b[0m\u001b[0m\n\u001b[0m",
            "\u001b[0;32m<ipython-input-55-65a63c6db6ff>\u001b[0m in \u001b[0;36myolo\u001b[0;34m()\u001b[0m\n\u001b[1;32m      2\u001b[0m \u001b[0;34m\u001b[0m\u001b[0m\n\u001b[1;32m      3\u001b[0m \u001b[0;32mdef\u001b[0m \u001b[0myolo\u001b[0m\u001b[0;34m(\u001b[0m\u001b[0;34m)\u001b[0m\u001b[0;34m:\u001b[0m\u001b[0;34m\u001b[0m\u001b[0;34m\u001b[0m\u001b[0m\n\u001b[0;32m----> 4\u001b[0;31m     \u001b[0mprint\u001b[0m\u001b[0;34m(\u001b[0m\u001b[0mage\u001b[0m\u001b[0;34m)\u001b[0m \u001b[0;31m# read global variables, fine\u001b[0m\u001b[0;34m\u001b[0m\u001b[0;34m\u001b[0m\u001b[0m\n\u001b[0m\u001b[1;32m      5\u001b[0m     \u001b[0mage\u001b[0m \u001b[0;34m=\u001b[0m \u001b[0;36m44\u001b[0m  \u001b[0;31m# wrie global variables, not fine\u001b[0m\u001b[0;34m\u001b[0m\u001b[0;34m\u001b[0m\u001b[0m\n\u001b[1;32m      6\u001b[0m \u001b[0;34m\u001b[0m\u001b[0m\n",
            "\u001b[0;31mUnboundLocalError\u001b[0m: local variable 'age' referenced before assignment"
          ]
        }
      ]
    },
    {
      "cell_type": "code",
      "source": [
        "height = 6.1\n",
        "\n",
        "def nevermind():\n",
        "    global height  # Allows you to change global variables by\n",
        "                   # telling python that this name within your function\n",
        "                   # refers to the global variable.\n",
        "                   # You don't need this for just using a global variable (i.e., reading it only)\n",
        "                   # but it's nice to go ahead and include it so others know that this variable\n",
        "                   # is defined in the global scope.\n",
        "\n",
        "    print(height)\n",
        "    height = 6.4\n",
        "\n",
        "nevermind()\n",
        "height"
      ],
      "metadata": {
        "colab": {
          "base_uri": "https://localhost:8080/"
        },
        "id": "3e3ghxpkl4Pp",
        "outputId": "f0341abb-5522-47f5-8aec-29454778052a"
      },
      "execution_count": null,
      "outputs": [
        {
          "output_type": "stream",
          "name": "stdout",
          "text": [
            "6.1\n"
          ]
        },
        {
          "output_type": "execute_result",
          "data": {
            "text/plain": [
              "6.4"
            ]
          },
          "metadata": {},
          "execution_count": 53
        }
      ]
    }
  ]
}